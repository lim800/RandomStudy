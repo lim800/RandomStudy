{
 "cells": [
  {
   "cell_type": "markdown",
   "metadata": {},
   "source": [
    "# 파이썬 파일 입출력"
   ]
  },
  {
   "cell_type": "code",
   "execution_count": 19,
   "metadata": {},
   "outputs": [],
   "source": [
    "s = '안녕하쇼\\n'\n",
    "fileone = open('pythontest.txt','w')\n",
    "fileone.write(s)\n",
    "fileone.close()"
   ]
  },
  {
   "cell_type": "code",
   "execution_count": 26,
   "metadata": {},
   "outputs": [],
   "source": [
    "j = ['wow','34']\n",
    "fileone = open('pythontest.txt','a')\n",
    "fileone.write(' + '.join(j))\n",
    "fileone.close()"
   ]
  },
  {
   "cell_type": "code",
   "execution_count": 25,
   "metadata": {},
   "outputs": [],
   "source": [
    "j = {'wow':1,'34':2}\n",
    "fileone = open('pythontest.txt','w')\n",
    "fileone.write('\\n'.join(j))\n",
    "fileone.close()"
   ]
  },
  {
   "cell_type": "code",
   "execution_count": 24,
   "metadata": {},
   "outputs": [],
   "source": [
    "j = {'wow':1,'34':2,'abc':5}\n",
    "fileone = open('pythontest.txt','a')\n",
    "fileone.write(' + '.join(j))\n",
    "fileone.close()"
   ]
  },
  {
   "cell_type": "code",
   "execution_count": 34,
   "metadata": {},
   "outputs": [],
   "source": [
    "j = {'wow':1,'34':2,'abc':5}\n",
    "fileone = open('pythontest.txt','w')\n",
    "fileone.writelines('\\n'.join(j))\n",
    "fileone.close()\n"
   ]
  },
  {
   "cell_type": "code",
   "execution_count": 32,
   "metadata": {},
   "outputs": [],
   "source": [
    "j = {'wow':1,'34':2,'abc':5}\n",
    "fileone = open('pythontest.txt','w')\n",
    "fileone.writelines('\\n'.join(j))\n",
    "fileone.close()\n"
   ]
  },
  {
   "cell_type": "code",
   "execution_count": 33,
   "metadata": {},
   "outputs": [
    {
     "name": "stdout",
     "output_type": "stream",
     "text": [
      "34\n",
      "abc\n",
      "wow\n"
     ]
    }
   ],
   "source": [
    "j = {'wow':1,'34':2,'abc':5}\n",
    "fileone = open('pythontest.txt','r')\n",
    "readd = fileone.read()\n",
    "fileone.close()\n",
    "print(readd)"
   ]
  },
  {
   "cell_type": "code",
   "execution_count": 35,
   "metadata": {},
   "outputs": [
    {
     "name": "stdout",
     "output_type": "stream",
     "text": [
      "34\n",
      "abc\n",
      "wow\n"
     ]
    }
   ],
   "source": [
    "fileone = open('pythontest.txt')\n",
    "s = fileone.read() \n",
    "fileone.close()\n",
    "print(s)"
   ]
  },
  {
   "cell_type": "markdown",
   "metadata": {},
   "source": [
    "with 문"
   ]
  },
  {
   "cell_type": "code",
   "execution_count": 36,
   "metadata": {},
   "outputs": [
    {
     "name": "stdout",
     "output_type": "stream",
     "text": [
      "34\n",
      "abc\n",
      "wow\n"
     ]
    }
   ],
   "source": [
    "# with문 적용 전\n",
    "try:\n",
    "    f = open('pythontest.txt', encoding='utf-8')\n",
    "    s = f.read()\n",
    "    print(s)\n",
    "except FileNotFoundError as e :\n",
    "    print('예외발생: ',e)\n",
    "finally:\n",
    "    f.close()\n"
   ]
  },
  {
   "cell_type": "code",
   "execution_count": 37,
   "metadata": {},
   "outputs": [
    {
     "name": "stdout",
     "output_type": "stream",
     "text": [
      "34\n",
      "abc\n",
      "wow\n"
     ]
    }
   ],
   "source": [
    "# with문 적용\n",
    "with open('pythontest.txt', encoding='utf-8') as f:\n",
    "    s = f.read()\n",
    "    print(s)"
   ]
  },
  {
   "cell_type": "code",
   "execution_count": 38,
   "metadata": {},
   "outputs": [
    {
     "name": "stdout",
     "output_type": "stream",
     "text": [
      "['34', 'abc', 'wow', '이상하다', '정말', '왜이럴까']\n"
     ]
    }
   ],
   "source": [
    "with open('pythontest.txt', encoding='utf-8') as f:\n",
    "    s = f.read()\n",
    "    print(s.split())"
   ]
  },
  {
   "cell_type": "code",
   "execution_count": 45,
   "metadata": {},
   "outputs": [
    {
     "name": "stdout",
     "output_type": "stream",
     "text": [
      "34\n",
      "\n",
      "abc\n",
      "\n",
      "wow\n",
      "\n",
      "이상하다 정말 왜이럴까\n"
     ]
    }
   ],
   "source": [
    "with open('pythontest.txt', encoding='utf-8') as f:\n",
    "    s = f.readline()\n",
    "    while s:\n",
    "        print(s)\n",
    "        s = f.readline()"
   ]
  },
  {
   "cell_type": "code",
   "execution_count": 40,
   "metadata": {},
   "outputs": [
    {
     "name": "stdout",
     "output_type": "stream",
     "text": [
      "['34\\n', 'abc\\n', 'wow\\n', '이상하다 정말 왜이럴까']\n"
     ]
    }
   ],
   "source": [
    "with open('pythontest.txt', encoding='utf-8') as f:\n",
    "    s = f.readlines()\n",
    "    print(s)"
   ]
  },
  {
   "cell_type": "code",
   "execution_count": 46,
   "metadata": {},
   "outputs": [
    {
     "name": "stdout",
     "output_type": "stream",
     "text": [
      "abc\n",
      "\n"
     ]
    }
   ],
   "source": [
    "with open('pythontest.txt', encoding='utf-8') as f:\n",
    "    s = f.readline()\n",
    "    s = f.readline()\n",
    "    print(s)\n"
   ]
  },
  {
   "cell_type": "code",
   "execution_count": 47,
   "metadata": {},
   "outputs": [
    {
     "name": "stdout",
     "output_type": "stream",
     "text": [
      "34\n",
      "\n",
      "abc\n",
      "\n",
      "wow\n",
      "\n",
      "이상하다 정말 왜이럴까\n"
     ]
    }
   ],
   "source": [
    "with open('pythontest.txt', encoding='utf-8') as f:\n",
    "    for i in f:\n",
    "        print(i)"
   ]
  },
  {
   "cell_type": "code",
   "execution_count": 72,
   "metadata": {},
   "outputs": [
    {
     "name": "stdout",
     "output_type": "stream",
     "text": [
      "10\n"
     ]
    }
   ],
   "source": [
    "x = 10\n",
    "def globallyChange():\n",
    "      \n",
    "      x = \"didn't work\"\n",
    "globallyChange() #You've to call the function for changes.\n",
    "print(x)"
   ]
  },
  {
   "cell_type": "code",
   "execution_count": 69,
   "metadata": {},
   "outputs": [
    {
     "name": "stdout",
     "output_type": "stream",
     "text": [
      "[2, 3]\n"
     ]
    }
   ],
   "source": [
    "ads = [1,2,3]\n",
    "\n",
    "def aaa():\n",
    "    man = ads.pop(0)\n",
    "    print(x)\n",
    "    \n",
    "aaa()"
   ]
  },
  {
   "cell_type": "code",
   "execution_count": 61,
   "metadata": {},
   "outputs": [
    {
     "ename": "TypeError",
     "evalue": "'MepCall' object does not support item assignment",
     "output_type": "error",
     "traceback": [
      "\u001b[0;31m---------------------------------------------------------------------------\u001b[0m",
      "\u001b[0;31mTypeError\u001b[0m                                 Traceback (most recent call last)",
      "\u001b[0;32m<ipython-input-61-54e61b525b0e>\u001b[0m in \u001b[0;36m<module>\u001b[0;34m()\u001b[0m\n\u001b[1;32m      9\u001b[0m         \u001b[0mself\u001b[0m\u001b[0;34m.\u001b[0m\u001b[0md\u001b[0m\u001b[0;34m[\u001b[0m\u001b[0mk\u001b[0m\u001b[0;34m]\u001b[0m \u001b[0;34m=\u001b[0m \u001b[0mv\u001b[0m\u001b[0;34m\u001b[0m\u001b[0m\n\u001b[1;32m     10\u001b[0m \u001b[0mcall\u001b[0m \u001b[0;34m=\u001b[0m \u001b[0mMepCall\u001b[0m\u001b[0;34m(\u001b[0m\u001b[0;34m)\u001b[0m\u001b[0;34m\u001b[0m\u001b[0m\n\u001b[0;32m---> 11\u001b[0;31m \u001b[0mcall\u001b[0m\u001b[0;34m[\u001b[0m\u001b[0;34m'name'\u001b[0m\u001b[0;34m]\u001b[0m \u001b[0;34m=\u001b[0m \u001b[0;34m'홍길동'\u001b[0m\u001b[0;34m\u001b[0m\u001b[0m\n\u001b[0m\u001b[1;32m     12\u001b[0m \u001b[0mcall\u001b[0m\u001b[0;34m[\u001b[0m\u001b[0;34m'age'\u001b[0m\u001b[0;34m]\u001b[0m \u001b[0;34m=\u001b[0m \u001b[0;36m33\u001b[0m\u001b[0;34m\u001b[0m\u001b[0m\n\u001b[1;32m     13\u001b[0m \u001b[0mprint\u001b[0m\u001b[0;34m(\u001b[0m\u001b[0mcall\u001b[0m\u001b[0;34m[\u001b[0m\u001b[0;34m'name'\u001b[0m\u001b[0;34m]\u001b[0m\u001b[0;34m,\u001b[0m \u001b[0mcall\u001b[0m\u001b[0;34m[\u001b[0m\u001b[0;34m'age'\u001b[0m\u001b[0;34m]\u001b[0m\u001b[0;34m)\u001b[0m\u001b[0;34m\u001b[0m\u001b[0m\n",
      "\u001b[0;31mTypeError\u001b[0m: 'MepCall' object does not support item assignment"
     ]
    }
   ],
   "source": [
    "class MepCall:\n",
    "    def ˍˍinitˍˍ(self, d=None):\n",
    "        if d==None: \n",
    "            d={}\n",
    "        self.d = d\n",
    "    def ˍˍgetitemˍˍ(self, k):\n",
    "        return self.d[k]\n",
    "    def ˍˍsetitemˍˍ(self, k, v):\n",
    "        self.d[k] = v \n",
    "call = MepCall()\n",
    "call['name'] = '홍길동'\n",
    "call['age'] = 33\n",
    "print(call['name'], call['age'])"
   ]
  },
  {
   "cell_type": "code",
   "execution_count": null,
   "metadata": {},
   "outputs": [],
   "source": []
  }
 ],
 "metadata": {
  "kernelspec": {
   "display_name": "Python 3",
   "language": "python",
   "name": "python3"
  },
  "language_info": {
   "codemirror_mode": {
    "name": "ipython",
    "version": 3
   },
   "file_extension": ".py",
   "mimetype": "text/x-python",
   "name": "python",
   "nbconvert_exporter": "python",
   "pygments_lexer": "ipython3",
   "version": "3.5.5"
  }
 },
 "nbformat": 4,
 "nbformat_minor": 2
}
