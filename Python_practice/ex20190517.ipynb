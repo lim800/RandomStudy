{
 "cells": [
  {
   "cell_type": "code",
   "execution_count": 3,
   "metadata": {},
   "outputs": [
    {
     "name": "stdout",
     "output_type": "stream",
     "text": [
      "calling parent class\n"
     ]
    },
    {
     "data": {
      "text/plain": [
       "<__main__.SubClass at 0x10d9037b8>"
      ]
     },
     "execution_count": 3,
     "metadata": {},
     "output_type": "execute_result"
    }
   ],
   "source": [
    "class SuperClass:\n",
    "    def __init__(self):\n",
    "        print('calling parent class')\n",
    "class SubClass:\n",
    "    def __init__(self):\n",
    "        SuperClass.__init__(self)\n",
    "        \n",
    "call = SubClass()\n",
    "call"
   ]
  },
  {
   "cell_type": "code",
   "execution_count": 4,
   "metadata": {},
   "outputs": [
    {
     "name": "stdout",
     "output_type": "stream",
     "text": [
      "calling parent class\n"
     ]
    },
    {
     "data": {
      "text/plain": [
       "<__main__.SubClass at 0x10d903320>"
      ]
     },
     "execution_count": 4,
     "metadata": {},
     "output_type": "execute_result"
    }
   ],
   "source": [
    "class SuperClass:\n",
    "    def __init__(self):\n",
    "        print('calling parent class')\n",
    "class SubClass(SuperClass):\n",
    "    pass\n",
    "        \n",
    "call = SubClass()\n",
    "call"
   ]
  },
  {
   "cell_type": "code",
   "execution_count": 10,
   "metadata": {},
   "outputs": [
    {
     "name": "stdout",
     "output_type": "stream",
     "text": [
      "<__main__.SubClass object at 0x10da02f98>\n"
     ]
    }
   ],
   "source": [
    "class SuperClass:\n",
    "    def __init__(self, name, phone=None):\n",
    "            self.name = name\n",
    "            self.phone = phone\n",
    "    def __str__(self):\n",
    "        return '<SuperClass {} {}>'.format(self.name, self.phone)\n",
    "        \n",
    "class SubClass:\n",
    "    def __init__(self, name, phone, position, salary):\n",
    "        SuperClass.__init__(self, name, phone)\n",
    "        self.position = position\n",
    "        self.salary = salary\n",
    "    \n",
    "    \n",
    "    \n",
    "call = SubClass('a','b','c','d')\n",
    "print(call)"
   ]
  },
  {
   "cell_type": "markdown",
   "metadata": {},
   "source": [
    "숫자 연산자 메소드"
   ]
  },
  {
   "cell_type": "code",
   "execution_count": 8,
   "metadata": {},
   "outputs": [
    {
     "name": "stdout",
     "output_type": "stream",
     "text": [
      "10\n",
      "-10\n"
     ]
    }
   ],
   "source": [
    "class AddOperator:\n",
    "    def __init__(self, obj):\n",
    "        self.obj = obj\n",
    "        \n",
    "    def __str__(self):\n",
    "        return str(self.obj)\n",
    "\n",
    "    def __pos__(self, other):\n",
    "        return self.obj + other\n",
    "    \n",
    "    def __neg__(self):\n",
    "        return -self.obj\n",
    "    \n",
    "    \n",
    "call1 = AddOperator(10)\n",
    "call2 = -call1\n",
    "print(call1)\n",
    "print(call2)"
   ]
  },
  {
   "cell_type": "markdown",
   "metadata": {},
   "source": [
    "특별 메소드의 오버로딩 메소드"
   ]
  },
  {
   "cell_type": "code",
   "execution_count": 11,
   "metadata": {},
   "outputs": [
    {
     "name": "stdout",
     "output_type": "stream",
     "text": [
      "16\n"
     ]
    }
   ],
   "source": [
    "class IndexCall:\n",
    "    def __init__(self, obj):\n",
    "        self.obj = obj\n",
    "    def __getitem__(self, k):\n",
    "        if self.obj >=k:\n",
    "            return k*k\n",
    "call = IndexCall(10)\n",
    "print(call[4])"
   ]
  },
  {
   "cell_type": "code",
   "execution_count": 44,
   "metadata": {},
   "outputs": [
    {
     "name": "stdout",
     "output_type": "stream",
     "text": [
      "4\n"
     ]
    }
   ],
   "source": [
    "class MepCall:\n",
    "    def __init__(self,d=None):\n",
    "        if d==None:\n",
    "            d={}\n",
    "        self.d = d\n",
    "    def __getitem__(self, k):\n",
    "        return self.d[k]\n",
    "    def __setitem__(self, k, v):\n",
    "        self.d[k] = v\n",
    "\n",
    "call = MepCall([3,2])\n",
    "call[1] =4\n",
    "\n",
    "print(call[1])"
   ]
  },
  {
   "cell_type": "markdown",
   "metadata": {},
   "source": [
    "함수 상속"
   ]
  },
  {
   "cell_type": "code",
   "execution_count": 47,
   "metadata": {},
   "outputs": [
    {
     "name": "stdout",
     "output_type": "stream",
     "text": [
      "<Person 홍길동 02-999-9999>\n",
      "홍길동 02-999-9999\n",
      "<Employee 전우치 02-922-1111 대리 300000>\n",
      "전우치 대리\n"
     ]
    }
   ],
   "source": [
    "class Person:\n",
    "    def __init__(self, name, phone =None):\n",
    "        self.name = name\n",
    "        self.phone = phone\n",
    "    def __str__(self):\n",
    "        return '<Person {0} {1}>'.format(self.name, self.phone)\n",
    "class Employee(Person):\n",
    "    def __init__(self, name, phone, position, salary):\n",
    "        super().__init__(name, phone)\n",
    "        self.position = position\n",
    "        self.salary = salary\n",
    "    def __str__(self):\n",
    "        return '<Employee {0} {1} {2} {3}>'.format(self.name, self.phone, self.position, self.salary)\n",
    "supcall = Person('홍길동', '02-999-9999')\n",
    "print(supcall)\n",
    "print(supcall.name, supcall.phone)\n",
    "\n",
    "m = Employee('전우치', '02-922-1111','대리', 300000)\n",
    "print(m)\n",
    "print(m.name, m.position)\n",
    "    "
   ]
  },
  {
   "cell_type": "markdown",
   "metadata": {},
   "source": [
    "데코레이터"
   ]
  },
  {
   "cell_type": "code",
   "execution_count": 48,
   "metadata": {},
   "outputs": [
    {
     "name": "stdout",
     "output_type": "stream",
     "text": [
      "5 6\n"
     ]
    }
   ],
   "source": [
    "class MethodCalss:\n",
    "    @staticmethod\n",
    "    def call(x,y):\n",
    "        print(x,y)\n",
    "f = MethodCalss()\n",
    "f.call(5,6)"
   ]
  },
  {
   "cell_type": "markdown",
   "metadata": {},
   "source": [
    "예외처리\n"
   ]
  },
  {
   "cell_type": "code",
   "execution_count": 49,
   "metadata": {},
   "outputs": [
    {
     "name": "stdout",
     "output_type": "stream",
     "text": [
      "division by zero\n"
     ]
    }
   ],
   "source": [
    "try:\n",
    "    print(10/0)\n",
    "except ZeroDivisionError as e:\n",
    "    print(e)"
   ]
  },
  {
   "cell_type": "code",
   "execution_count": 50,
   "metadata": {},
   "outputs": [],
   "source": [
    "try:\n",
    "    print(10/0)\n",
    "except ZeroDivisionError as e:\n",
    "    pass"
   ]
  },
  {
   "cell_type": "code",
   "execution_count": 51,
   "metadata": {},
   "outputs": [
    {
     "name": "stdout",
     "output_type": "stream",
     "text": [
      "10.0\n",
      "no except\n"
     ]
    }
   ],
   "source": [
    "try:\n",
    "    print(10/1)\n",
    "except ZeroDivisionError as e:\n",
    "    print(e)\n",
    "else:\n",
    "    print('no except')"
   ]
  },
  {
   "cell_type": "code",
   "execution_count": 52,
   "metadata": {},
   "outputs": [
    {
     "name": "stdout",
     "output_type": "stream",
     "text": [
      "division by zero\n",
      "execute in any condition\n"
     ]
    }
   ],
   "source": [
    "try:\n",
    "    print(10/0)\n",
    "except ZeroDivisionError as e:\n",
    "    print(e)\n",
    "finally:\n",
    "    print('execute in any condition')"
   ]
  },
  {
   "cell_type": "markdown",
   "metadata": {},
   "source": [
    "강제 예외처리 raise"
   ]
  },
  {
   "cell_type": "code",
   "execution_count": 54,
   "metadata": {},
   "outputs": [
    {
     "name": "stdout",
     "output_type": "stream",
     "text": [
      "0 1 4 9 16 25 36 49 64 81 "
     ]
    }
   ],
   "source": [
    "class IndexCall:\n",
    "    def __init__(self, obj):\n",
    "        self.obj = obj\n",
    "    def __getitem__(self, k):\n",
    "        if k<0 or self.obj<=k:\n",
    "            raise IndexError(k)\n",
    "        return k*k\n",
    "call = IndexCall(10)\n",
    "for i in call:\n",
    "    print(i, end=' ')\n",
    "        "
   ]
  },
  {
   "cell_type": "markdown",
   "metadata": {},
   "source": [
    "# 모듈"
   ]
  },
  {
   "cell_type": "code",
   "execution_count": 55,
   "metadata": {},
   "outputs": [],
   "source": [
    "mypi = 3.14\n",
    "def add(a, b):\n",
    "    return a + b\n",
    "def area(r):\n",
    "    return mypi*r*r"
   ]
  },
  {
   "cell_type": "code",
   "execution_count": 57,
   "metadata": {},
   "outputs": [
    {
     "name": "stdout",
     "output_type": "stream",
     "text": [
      "78.5\n"
     ]
    }
   ],
   "source": [
    "#import mod\n",
    "print(area(5))"
   ]
  },
  {
   "cell_type": "code",
   "execution_count": 58,
   "metadata": {},
   "outputs": [
    {
     "name": "stdout",
     "output_type": "stream",
     "text": [
      "ABCDEFGHIJKLMNOPQRSTUVWXYZ\n"
     ]
    }
   ],
   "source": [
    "def strtest():\n",
    "    import string\n",
    "    b = string.ascii_uppercase\n",
    "    return b\n",
    "print(strtest())"
   ]
  },
  {
   "cell_type": "code",
   "execution_count": 1,
   "metadata": {},
   "outputs": [
    {
     "name": "stdout",
     "output_type": "stream",
     "text": [
      "aaa\n"
     ]
    }
   ],
   "source": [
    "import string\n",
    "string.a = 'aaa'\n",
    "print(string.a)"
   ]
  },
  {
   "cell_type": "code",
   "execution_count": 2,
   "metadata": {},
   "outputs": [
    {
     "name": "stdout",
     "output_type": "stream",
     "text": [
      "string\n"
     ]
    }
   ],
   "source": [
    "import string\n",
    "print(string.__name__)"
   ]
  },
  {
   "cell_type": "markdown",
   "metadata": {},
   "source": [
    "단위 테스트"
   ]
  },
  {
   "cell_type": "code",
   "execution_count": 3,
   "metadata": {},
   "outputs": [
    {
     "name": "stdout",
     "output_type": "stream",
     "text": [
      "테스트 코드 실행\n"
     ]
    }
   ],
   "source": [
    "def f():\n",
    "    print('테스트 코드 실행')\n",
    "if __name__ == '__main__':\n",
    "    f()"
   ]
  },
  {
   "cell_type": "code",
   "execution_count": null,
   "metadata": {},
   "outputs": [],
   "source": []
  }
 ],
 "metadata": {
  "kernelspec": {
   "display_name": "Python 3",
   "language": "python",
   "name": "python3"
  },
  "language_info": {
   "codemirror_mode": {
    "name": "ipython",
    "version": 3
   },
   "file_extension": ".py",
   "mimetype": "text/x-python",
   "name": "python",
   "nbconvert_exporter": "python",
   "pygments_lexer": "ipython3",
   "version": "3.5.5"
  }
 },
 "nbformat": 4,
 "nbformat_minor": 2
}
