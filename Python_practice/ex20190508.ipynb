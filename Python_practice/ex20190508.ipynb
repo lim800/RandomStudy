{
 "cells": [
  {
   "cell_type": "code",
   "execution_count": 10,
   "metadata": {},
   "outputs": [
    {
     "name": "stdout",
     "output_type": "stream",
     "text": [
      "23\n",
      "20\n"
     ]
    },
    {
     "data": {
      "text/plain": [
       "'나'"
      ]
     },
     "execution_count": 10,
     "metadata": {},
     "output_type": "execute_result"
    }
   ],
   "source": [
    "a = '나는 나는 모두 이상한 나라 사람들 나는.'\n",
    "print(len(a))\n",
    "print(a.find('나는',5))\n",
    "a[20]"
   ]
  },
  {
   "cell_type": "markdown",
   "metadata": {},
   "source": [
    "# 문자열 자료형의 메소드"
   ]
  },
  {
   "cell_type": "code",
   "execution_count": 13,
   "metadata": {},
   "outputs": [
    {
     "name": "stdout",
     "output_type": "stream",
     "text": [
      "I LIKE PYTHON\n",
      "i like python\n",
      "I like PYTHON\n",
      "I like python\n",
      "I Like Python\n"
     ]
    }
   ],
   "source": [
    "s = 'i LIKE python'\n",
    "\n",
    "#upper\n",
    "print(s.upper())\n",
    "\n",
    "#lower\n",
    "print(s.lower())\n",
    "\n",
    "#swapcase\n",
    "print(s.swapcase())\n",
    "\n",
    "#capitalize\n",
    "print(s.capitalize())\n",
    "\n",
    "#title\n",
    "print(s.title())\n",
    "\n"
   ]
  },
  {
   "cell_type": "markdown",
   "metadata": {},
   "source": [
    "# 문자열 판단"
   ]
  },
  {
   "cell_type": "code",
   "execution_count": 16,
   "metadata": {},
   "outputs": [
    {
     "name": "stdout",
     "output_type": "stream",
     "text": [
      "True\n",
      "True\n"
     ]
    }
   ],
   "source": [
    "s = 'i like python'\n",
    "print(s.startswith('i'))\n",
    "print(s.startswith('l',2))"
   ]
  },
  {
   "cell_type": "markdown",
   "metadata": {},
   "source": [
    "# 리스트 자료형\n"
   ]
  },
  {
   "cell_type": "code",
   "execution_count": 17,
   "metadata": {},
   "outputs": [
    {
     "name": "stdout",
     "output_type": "stream",
     "text": [
      "[{1: 2}, {1, 2, 3}, (1, 2, 3), 1, '1', [1, 2]]\n"
     ]
    }
   ],
   "source": [
    "a = [{1:2}, {1,2,3}, (1,2,3), 1, '1', [1,2]]\n",
    "print(a)"
   ]
  },
  {
   "cell_type": "code",
   "execution_count": 19,
   "metadata": {},
   "outputs": [
    {
     "name": "stdout",
     "output_type": "stream",
     "text": [
      "<class 'list'>\n",
      "<class 'tuple'>\n"
     ]
    }
   ],
   "source": [
    "# 타입의 변화\n",
    "a = [(1,2,3)]\n",
    "print(type(a))\n",
    "print(type(a[0]))"
   ]
  },
  {
   "cell_type": "code",
   "execution_count": 21,
   "metadata": {},
   "outputs": [
    {
     "name": "stdout",
     "output_type": "stream",
     "text": [
      "<class 'list'>\n",
      "3\n",
      "['파이썬', ' ', '자바']\n",
      "<class 'list'>\n",
      "3\n",
      "[1, 3, 4]\n"
     ]
    }
   ],
   "source": [
    "a = [\"파이썬\", \" \", \"자바\"]\n",
    "print(type(a))\n",
    "print(len(a))\n",
    "print(a)\n",
    "b = [1,3,4]\n",
    "print(type(b))\n",
    "print(len(b))\n",
    "print(b)"
   ]
  },
  {
   "cell_type": "code",
   "execution_count": 23,
   "metadata": {},
   "outputs": [
    {
     "name": "stdout",
     "output_type": "stream",
     "text": [
      "['p', 'y', 't', 'h', 'o', 'n']\n",
      "[1, 2, 3]\n",
      "[1, 2, 3]\n"
     ]
    }
   ],
   "source": [
    "print(list(\"python\"))\n",
    "print(list([1,2,3]))\n",
    "print(list((1,2,3)))"
   ]
  },
  {
   "cell_type": "code",
   "execution_count": 24,
   "metadata": {},
   "outputs": [
    {
     "name": "stdout",
     "output_type": "stream",
     "text": [
      "[4, [1, 2, 3], 6]\n",
      "[8, [4, [1, 2, 3], 6], 9]\n"
     ]
    }
   ],
   "source": [
    "#중첩 리스트 형식\n",
    "a = [1,2,3]\n",
    "b = [4,a,6]\n",
    "c = [8,b,9]\n",
    "print(b)\n",
    "print(c)"
   ]
  },
  {
   "cell_type": "code",
   "execution_count": 26,
   "metadata": {},
   "outputs": [
    {
     "name": "stdout",
     "output_type": "stream",
     "text": [
      "['가', '나', '다', 1, 2, 3]\n",
      "[1, 2, 3, 1, 2, 3]\n",
      "[1, 2, 3, 1, 2, 3, 1, 2, 3]\n"
     ]
    }
   ],
   "source": [
    "#리스트 자료연산\n",
    "a = ['가','나','다']\n",
    "b = [1,2,3]\n",
    "print(a+b)\n",
    "print(b + b)\n",
    "\n",
    "print(b*3)"
   ]
  },
  {
   "cell_type": "code",
   "execution_count": 31,
   "metadata": {},
   "outputs": [
    {
     "name": "stdout",
     "output_type": "stream",
     "text": [
      "[0, 3, 6, 9, 12, 15, 18, 21, 24, 27, 30, 33, 36, 39, 42, 45, 48, 51, 54, 57, 60, 63, 66, 69, 72, 75, 78, 81, 84, 87, 90, 93, 96, 99, 102, 105, 108, 111, 114, 117, 120, 123, 126, 129, 132, 135, 138, 141, 144, 147]\n",
      "[0, 5, 10, 15, 20, 25, 30, 35, 40, 45, 50, 55, 60, 65, 70, 75, 80, 85, 90, 95, 100, 105, 110, 115, 120, 125, 130, 135, 140, 145, 150, 155, 160, 165, 170, 175, 180, 185, 190, 195, 200, 205, 210, 215, 220, 225, 230, 235, 240, 245]\n",
      "[0, 15, 30, 45, 60, 75, 90, 105, 120, 135, 150, 165, 180, 195, 210, 225, 240, 255, 270, 285, 300, 315, 330, 345, 360, 375, 390, 405, 420, 435, 450, 465, 480, 495, 510, 525, 540, 555, 570, 585, 600, 615, 630, 645, 660, 675, 690, 705, 720, 735]\n"
     ]
    }
   ],
   "source": [
    "a = list(range(50))\n",
    "print(list(map(lambda x: x*3, a)))\n",
    "print(list(map(lambda y: y*5, a)))\n",
    "print(list(map(lambda z: z*15, a)))"
   ]
  },
  {
   "cell_type": "code",
   "execution_count": 33,
   "metadata": {},
   "outputs": [
    {
     "name": "stdout",
     "output_type": "stream",
     "text": [
      "안\n",
      "python녕\n"
     ]
    }
   ],
   "source": [
    "#인덱싱\n",
    "a = ['안','녕']\n",
    "print(a[0])\n",
    "b = ['python','java']\n",
    "print(b[0]+a[1])"
   ]
  },
  {
   "cell_type": "code",
   "execution_count": 34,
   "metadata": {},
   "outputs": [
    {
     "name": "stdout",
     "output_type": "stream",
     "text": [
      "[2, 3, 4]\n"
     ]
    }
   ],
   "source": [
    "#리스트 삭제\n",
    "a = [1, 2, 3, 4]\n",
    "del a[0]\n",
    "print(a)"
   ]
  },
  {
   "cell_type": "code",
   "execution_count": 40,
   "metadata": {},
   "outputs": [
    {
     "name": "stdout",
     "output_type": "stream",
     "text": [
      "['7', '2', '3']\n",
      "[10, '2', '3']\n",
      "[10, 'a', 'b', 'c', '3']\n",
      "[10, ['a', 'b', 'c'], 'b', 'c', '3']\n"
     ]
    }
   ],
   "source": [
    "#리스트 값 변경\n",
    "a = ['1','2','3']\n",
    "a[0] = '7'\n",
    "print(a)\n",
    "a[0] = 10\n",
    "print(a)\n",
    "a[1:2] = [ 'a','b','c']\n",
    "print(a)\n",
    "a[1] = [ 'a','b','c']\n",
    "print(a)\n"
   ]
  },
  {
   "cell_type": "code",
   "execution_count": 41,
   "metadata": {},
   "outputs": [
    {
     "name": "stdout",
     "output_type": "stream",
     "text": [
      "['a', ['x', 'y'], ['python', 'java']]\n",
      "['x', 'y']\n",
      "y\n"
     ]
    }
   ],
   "source": [
    "#3차원 리스트의 호출\n",
    "a = [1,['a',['x','y'],b],2]\n",
    "print(a[1])\n",
    "print(a[1][1])\n",
    "print(a[1][1][1])"
   ]
  },
  {
   "cell_type": "code",
   "execution_count": null,
   "metadata": {},
   "outputs": [],
   "source": []
  }
 ],
 "metadata": {
  "kernelspec": {
   "display_name": "Python 3",
   "language": "python",
   "name": "python3"
  },
  "language_info": {
   "codemirror_mode": {
    "name": "ipython",
    "version": 3
   },
   "file_extension": ".py",
   "mimetype": "text/x-python",
   "name": "python",
   "nbconvert_exporter": "python",
   "pygments_lexer": "ipython3",
   "version": "3.5.5"
  }
 },
 "nbformat": 4,
 "nbformat_minor": 2
}
