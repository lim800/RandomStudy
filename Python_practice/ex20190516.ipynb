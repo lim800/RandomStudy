{
 "cells": [
  {
   "cell_type": "markdown",
   "metadata": {},
   "source": [
    "# 파이썬 클래스"
   ]
  },
  {
   "cell_type": "code",
   "execution_count": 9,
   "metadata": {},
   "outputs": [
    {
     "name": "stdout",
     "output_type": "stream",
     "text": [
      "<class '__main__.Lim'>\n"
     ]
    }
   ],
   "source": [
    "class Lim:\n",
    "    pass\n",
    "print(Lim)"
   ]
  },
  {
   "cell_type": "code",
   "execution_count": 8,
   "metadata": {},
   "outputs": [
    {
     "name": "stdout",
     "output_type": "stream",
     "text": [
      "3\n"
     ]
    }
   ],
   "source": [
    "class Lim:\n",
    "    a = 1\n",
    "    def call(self):\n",
    "        self.a = 3\n",
    "        print(self.a)\n",
    "c = Lim()\n",
    "\n",
    "c.call()"
   ]
  },
  {
   "cell_type": "code",
   "execution_count": 15,
   "metadata": {},
   "outputs": [
    {
     "name": "stdout",
     "output_type": "stream",
     "text": [
      "[1, 2, 3]\n",
      "3\n",
      "2\n",
      "[1]\n"
     ]
    }
   ],
   "source": [
    "class LimClass:\n",
    "    pass\n",
    "a = LimClass()\n",
    "a.kkk = []\n",
    "a.kkk.append(1)\n",
    "a.kkk.append(2)\n",
    "a.kkk.append(3)\n",
    "print(a.kkk)\n",
    "print(a.kkk.pop())\n",
    "print(a.kkk.pop())\n",
    "print(a.kkk)"
   ]
  },
  {
   "cell_type": "code",
   "execution_count": 17,
   "metadata": {},
   "outputs": [
    {
     "name": "stdout",
     "output_type": "stream",
     "text": [
      "1\n"
     ]
    }
   ],
   "source": [
    "class LimClass:\n",
    "    a = 1\n",
    "print(LimClass.a)"
   ]
  },
  {
   "cell_type": "code",
   "execution_count": 19,
   "metadata": {},
   "outputs": [
    {
     "name": "stdout",
     "output_type": "stream",
     "text": [
      "4\n"
     ]
    }
   ],
   "source": [
    "class LimClass:\n",
    "    a = 1\n",
    "LimClass.b = 4\n",
    "print(LimClass.b)"
   ]
  },
  {
   "cell_type": "code",
   "execution_count": 23,
   "metadata": {},
   "outputs": [
    {
     "name": "stdout",
     "output_type": "stream",
     "text": [
      "10\n",
      "1\n",
      "1\n"
     ]
    }
   ],
   "source": [
    "class LimClass:\n",
    "    a = 1\n",
    "c = LimClass()\n",
    "c.a = 10\n",
    "print(c.a)\n",
    "print(c.__class__.a)\n",
    "print(LimClass().a)"
   ]
  },
  {
   "cell_type": "code",
   "execution_count": 26,
   "metadata": {},
   "outputs": [
    {
     "name": "stdout",
     "output_type": "stream",
     "text": [
      "limlim\n",
      "limlim\n"
     ]
    }
   ],
   "source": [
    "class LimClass:\n",
    "    def set(self, name):\n",
    "        self.name = name\n",
    "    def get(self):\n",
    "        return self.name\n",
    "    \n",
    "c = LimClass()\n",
    "\n",
    "c.set('limlim')\n",
    "print(c.get())\n",
    "print(c.name)"
   ]
  },
  {
   "cell_type": "markdown",
   "metadata": {},
   "source": [
    "self 인자"
   ]
  },
  {
   "cell_type": "code",
   "execution_count": 32,
   "metadata": {},
   "outputs": [
    {
     "name": "stdout",
     "output_type": "stream",
     "text": [
      "홍길동 전우치\n"
     ]
    }
   ],
   "source": [
    "# self 인자 사용\n",
    "class MethodClass:\n",
    "    def set(self, name):\n",
    "        self.name = name\n",
    "    def add(self):\n",
    "        self.set(self.name + ' 전우치')\n",
    "    def get(self):\n",
    "        return self.name\n",
    "c = MethodClass()\n",
    "c.set('홍길동')\n",
    "c.add()\n",
    "print(c.get())"
   ]
  },
  {
   "cell_type": "code",
   "execution_count": 36,
   "metadata": {},
   "outputs": [
    {
     "name": "stdout",
     "output_type": "stream",
     "text": [
      "홍길동\n"
     ]
    }
   ],
   "source": [
    "# self 인자 미사용\n",
    "class MethodClass:\n",
    "    def set(self, name):\n",
    "        self.name = name\n",
    "    def add(self):\n",
    "        set(self.name + ' 전우치')\n",
    "    def get(self):\n",
    "        return self.name\n",
    "c = MethodClass()\n",
    "c.set('홍길동')\n",
    "c.add()\n",
    "print(c.get())\n"
   ]
  },
  {
   "cell_type": "markdown",
   "metadata": {},
   "source": [
    "특별 메소드"
   ]
  },
  {
   "cell_type": "code",
   "execution_count": 41,
   "metadata": {},
   "outputs": [
    {
     "name": "stdout",
     "output_type": "stream",
     "text": [
      "<__main__.Lim object at 0x1c1a9e0550>\n"
     ]
    }
   ],
   "source": [
    "class Lim:\n",
    "    def __new__(cls, *args, **kwargs):\n",
    "        if len(args) < 1:\n",
    "            return None\n",
    "        else: \n",
    "            return super(Lim, cls).__new__(cls)\n",
    "        \n",
    "call = Lim(11)\n",
    "print(call)"
   ]
  },
  {
   "cell_type": "code",
   "execution_count": 42,
   "metadata": {},
   "outputs": [
    {
     "name": "stdout",
     "output_type": "stream",
     "text": [
      "호출가능\n"
     ]
    }
   ],
   "source": [
    "def call_check(no_call):\n",
    "    if callable(no_call):\n",
    "        print('호출가능')\n",
    "    else:\n",
    "        print('호출불가능')\n",
    "class Acall:\n",
    "    def __call__(self, obj):\n",
    "        return obj\n",
    "    \n",
    "c = Acall()\n",
    "call_check(c)"
   ]
  },
  {
   "cell_type": "code",
   "execution_count": 45,
   "metadata": {},
   "outputs": [
    {
     "name": "stdout",
     "output_type": "stream",
     "text": [
      "10\n"
     ]
    }
   ],
   "source": [
    "class Acall:\n",
    "    def __init__(self, obj):\n",
    "        self.obj = obj\n",
    "    def __str__(self):\n",
    "        return str(self.obj)\n",
    "    \n",
    "        \n",
    "call = Acall(10)\n",
    "print(call)"
   ]
  },
  {
   "cell_type": "code",
   "execution_count": 54,
   "metadata": {},
   "outputs": [
    {
     "name": "stdout",
     "output_type": "stream",
     "text": [
      "init time:  Thu May 16 17:20:42 2019\n",
      "del time :  Thu May 16 17:20:42 2019\n",
      "5sec passed\n"
     ]
    }
   ],
   "source": [
    "from time import ctime, sleep\n",
    "\n",
    "class Life:\n",
    "    def __init__(self):\n",
    "        print('init time: ', ctime())\n",
    "        \n",
    "    def __del__(self):\n",
    "        print('del time : ', ctime())\n",
    "        \n",
    "call = Life()\n",
    "sleep(5)\n",
    "print('5sec passed')"
   ]
  },
  {
   "cell_type": "code",
   "execution_count": null,
   "metadata": {},
   "outputs": [],
   "source": []
  }
 ],
 "metadata": {
  "kernelspec": {
   "display_name": "Python 3",
   "language": "python",
   "name": "python3"
  },
  "language_info": {
   "codemirror_mode": {
    "name": "ipython",
    "version": 3
   },
   "file_extension": ".py",
   "mimetype": "text/x-python",
   "name": "python",
   "nbconvert_exporter": "python",
   "pygments_lexer": "ipython3",
   "version": "3.5.5"
  }
 },
 "nbformat": 4,
 "nbformat_minor": 2
}
