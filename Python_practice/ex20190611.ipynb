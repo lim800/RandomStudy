{
 "cells": [
  {
   "cell_type": "markdown",
   "metadata": {},
   "source": [
    "# NoSQL"
   ]
  },
  {
   "cell_type": "code",
   "execution_count": 18,
   "metadata": {},
   "outputs": [],
   "source": [
    "from tinydb import TinyDB, Query\n",
    "from tinydb.storages import MemoryStorage"
   ]
  },
  {
   "cell_type": "code",
   "execution_count": 16,
   "metadata": {},
   "outputs": [
    {
     "name": "stdout",
     "output_type": "stream",
     "text": [
      "<TinyDB tables=['_default'], tables_count=1, default_table_documents_count=0, all_tables_documents_count=['_default=0']>\n"
     ]
    }
   ],
   "source": [
    "file = \"NoSQL_test.json\"\n",
    "db = TinyDB(file)\n",
    "print(db)"
   ]
  },
  {
   "cell_type": "code",
   "execution_count": 17,
   "metadata": {},
   "outputs": [
    {
     "data": {
      "text/plain": [
       "1"
      ]
     },
     "execution_count": 17,
     "metadata": {},
     "output_type": "execute_result"
    }
   ],
   "source": [
    "table = db.table(\"fruit\")\n",
    "table.insert({\"name\":\"banana\",\"price\": 6000})"
   ]
  },
  {
   "cell_type": "code",
   "execution_count": 19,
   "metadata": {},
   "outputs": [
    {
     "data": {
      "text/plain": [
       "1"
      ]
     },
     "execution_count": 19,
     "metadata": {},
     "output_type": "execute_result"
    }
   ],
   "source": [
    "table2 = db.table(\"things\")\n",
    "table2.insert({\"thingy\":{\"a\":300, \"b\":500}})"
   ]
  },
  {
   "cell_type": "code",
   "execution_count": 25,
   "metadata": {},
   "outputs": [
    {
     "name": "stdout",
     "output_type": "stream",
     "text": [
      "[{'price': 6000, 'name': 'banana'}]\n"
     ]
    }
   ],
   "source": [
    "# print(table.all(), table2.all())\n",
    "item = Query()\n",
    "rss = table.search(item.price == 6000)\n",
    "print(rss)"
   ]
  },
  {
   "cell_type": "markdown",
   "metadata": {},
   "source": [
    "### 강남 맛집 조사"
   ]
  },
  {
   "cell_type": "code",
   "execution_count": 120,
   "metadata": {},
   "outputs": [],
   "source": [
    "import time\n",
    "from selenium import webdriver\n",
    "from pprint import pprint"
   ]
  },
  {
   "cell_type": "code",
   "execution_count": 227,
   "metadata": {},
   "outputs": [
    {
     "ename": "StaleElementReferenceException",
     "evalue": "Message: stale element reference: element is not attached to the page document\n  (Session info: chrome=74.0.3729.169)\n  (Driver info: chromedriver=74.0.3729.6 (255758eccf3d244491b8a1317aa76e1ce10d57e9-refs/branch-heads/3729@{#29}),platform=Mac OS X 10.14.5 x86_64)\n",
     "output_type": "error",
     "traceback": [
      "\u001b[0;31m---------------------------------------------------------------------------\u001b[0m",
      "\u001b[0;31mStaleElementReferenceException\u001b[0m            Traceback (most recent call last)",
      "\u001b[0;32m<ipython-input-227-156134d1598d>\u001b[0m in \u001b[0;36m<module>\u001b[0;34m()\u001b[0m\n\u001b[1;32m     24\u001b[0m         \u001b[0mreviewli\u001b[0m\u001b[0;34m.\u001b[0m\u001b[0mappend\u001b[0m\u001b[0;34m(\u001b[0m\u001b[0mint\u001b[0m\u001b[0;34m(\u001b[0m\u001b[0ml\u001b[0m\u001b[0;34m.\u001b[0m\u001b[0mtext\u001b[0m\u001b[0;34m.\u001b[0m\u001b[0msplit\u001b[0m\u001b[0;34m(\u001b[0m\u001b[0;34m)\u001b[0m\u001b[0;34m[\u001b[0m\u001b[0;36m1\u001b[0m\u001b[0;34m]\u001b[0m\u001b[0;34m.\u001b[0m\u001b[0mreplace\u001b[0m\u001b[0;34m(\u001b[0m\u001b[0;34m','\u001b[0m\u001b[0;34m,\u001b[0m\u001b[0;34m''\u001b[0m\u001b[0;34m)\u001b[0m\u001b[0;34m)\u001b[0m\u001b[0;34m)\u001b[0m\u001b[0;34m\u001b[0m\u001b[0m\n\u001b[1;32m     25\u001b[0m     \u001b[0;32mfor\u001b[0m \u001b[0mj\u001b[0m \u001b[0;32min\u001b[0m \u001b[0mcontext\u001b[0m\u001b[0;34m:\u001b[0m\u001b[0;34m\u001b[0m\u001b[0m\n\u001b[0;32m---> 26\u001b[0;31m         \u001b[0mcontextli\u001b[0m\u001b[0;34m.\u001b[0m\u001b[0mappend\u001b[0m\u001b[0;34m(\u001b[0m\u001b[0mj\u001b[0m\u001b[0;34m[\u001b[0m\u001b[0;36m0\u001b[0m\u001b[0;34m]\u001b[0m\u001b[0;34m.\u001b[0m\u001b[0mtext\u001b[0m\u001b[0;34m)\u001b[0m\u001b[0;34m\u001b[0m\u001b[0m\n\u001b[0m\u001b[1;32m     27\u001b[0m \u001b[0;34m\u001b[0m\u001b[0m\n\u001b[1;32m     28\u001b[0m     \u001b[0mtime\u001b[0m\u001b[0;34m.\u001b[0m\u001b[0msleep\u001b[0m\u001b[0;34m(\u001b[0m\u001b[0;36m2\u001b[0m\u001b[0;34m)\u001b[0m\u001b[0;34m\u001b[0m\u001b[0m\n",
      "\u001b[0;32m/anaconda3/lib/python3.5/site-packages/selenium/webdriver/remote/webelement.py\u001b[0m in \u001b[0;36mtext\u001b[0;34m(self)\u001b[0m\n\u001b[1;32m     74\u001b[0m     \u001b[0;32mdef\u001b[0m \u001b[0mtext\u001b[0m\u001b[0;34m(\u001b[0m\u001b[0mself\u001b[0m\u001b[0;34m)\u001b[0m\u001b[0;34m:\u001b[0m\u001b[0;34m\u001b[0m\u001b[0m\n\u001b[1;32m     75\u001b[0m         \u001b[0;34m\"\"\"The text of the element.\"\"\"\u001b[0m\u001b[0;34m\u001b[0m\u001b[0m\n\u001b[0;32m---> 76\u001b[0;31m         \u001b[0;32mreturn\u001b[0m \u001b[0mself\u001b[0m\u001b[0;34m.\u001b[0m\u001b[0m_execute\u001b[0m\u001b[0;34m(\u001b[0m\u001b[0mCommand\u001b[0m\u001b[0;34m.\u001b[0m\u001b[0mGET_ELEMENT_TEXT\u001b[0m\u001b[0;34m)\u001b[0m\u001b[0;34m[\u001b[0m\u001b[0;34m'value'\u001b[0m\u001b[0;34m]\u001b[0m\u001b[0;34m\u001b[0m\u001b[0m\n\u001b[0m\u001b[1;32m     77\u001b[0m \u001b[0;34m\u001b[0m\u001b[0m\n\u001b[1;32m     78\u001b[0m     \u001b[0;32mdef\u001b[0m \u001b[0mclick\u001b[0m\u001b[0;34m(\u001b[0m\u001b[0mself\u001b[0m\u001b[0;34m)\u001b[0m\u001b[0;34m:\u001b[0m\u001b[0;34m\u001b[0m\u001b[0m\n",
      "\u001b[0;32m/anaconda3/lib/python3.5/site-packages/selenium/webdriver/remote/webelement.py\u001b[0m in \u001b[0;36m_execute\u001b[0;34m(self, command, params)\u001b[0m\n\u001b[1;32m    631\u001b[0m             \u001b[0mparams\u001b[0m \u001b[0;34m=\u001b[0m \u001b[0;34m{\u001b[0m\u001b[0;34m}\u001b[0m\u001b[0;34m\u001b[0m\u001b[0m\n\u001b[1;32m    632\u001b[0m         \u001b[0mparams\u001b[0m\u001b[0;34m[\u001b[0m\u001b[0;34m'id'\u001b[0m\u001b[0;34m]\u001b[0m \u001b[0;34m=\u001b[0m \u001b[0mself\u001b[0m\u001b[0;34m.\u001b[0m\u001b[0m_id\u001b[0m\u001b[0;34m\u001b[0m\u001b[0m\n\u001b[0;32m--> 633\u001b[0;31m         \u001b[0;32mreturn\u001b[0m \u001b[0mself\u001b[0m\u001b[0;34m.\u001b[0m\u001b[0m_parent\u001b[0m\u001b[0;34m.\u001b[0m\u001b[0mexecute\u001b[0m\u001b[0;34m(\u001b[0m\u001b[0mcommand\u001b[0m\u001b[0;34m,\u001b[0m \u001b[0mparams\u001b[0m\u001b[0;34m)\u001b[0m\u001b[0;34m\u001b[0m\u001b[0m\n\u001b[0m\u001b[1;32m    634\u001b[0m \u001b[0;34m\u001b[0m\u001b[0m\n\u001b[1;32m    635\u001b[0m     \u001b[0;32mdef\u001b[0m \u001b[0mfind_element\u001b[0m\u001b[0;34m(\u001b[0m\u001b[0mself\u001b[0m\u001b[0;34m,\u001b[0m \u001b[0mby\u001b[0m\u001b[0;34m=\u001b[0m\u001b[0mBy\u001b[0m\u001b[0;34m.\u001b[0m\u001b[0mID\u001b[0m\u001b[0;34m,\u001b[0m \u001b[0mvalue\u001b[0m\u001b[0;34m=\u001b[0m\u001b[0;32mNone\u001b[0m\u001b[0;34m)\u001b[0m\u001b[0;34m:\u001b[0m\u001b[0;34m\u001b[0m\u001b[0m\n",
      "\u001b[0;32m/anaconda3/lib/python3.5/site-packages/selenium/webdriver/remote/webdriver.py\u001b[0m in \u001b[0;36mexecute\u001b[0;34m(self, driver_command, params)\u001b[0m\n\u001b[1;32m    319\u001b[0m         \u001b[0mresponse\u001b[0m \u001b[0;34m=\u001b[0m \u001b[0mself\u001b[0m\u001b[0;34m.\u001b[0m\u001b[0mcommand_executor\u001b[0m\u001b[0;34m.\u001b[0m\u001b[0mexecute\u001b[0m\u001b[0;34m(\u001b[0m\u001b[0mdriver_command\u001b[0m\u001b[0;34m,\u001b[0m \u001b[0mparams\u001b[0m\u001b[0;34m)\u001b[0m\u001b[0;34m\u001b[0m\u001b[0m\n\u001b[1;32m    320\u001b[0m         \u001b[0;32mif\u001b[0m \u001b[0mresponse\u001b[0m\u001b[0;34m:\u001b[0m\u001b[0;34m\u001b[0m\u001b[0m\n\u001b[0;32m--> 321\u001b[0;31m             \u001b[0mself\u001b[0m\u001b[0;34m.\u001b[0m\u001b[0merror_handler\u001b[0m\u001b[0;34m.\u001b[0m\u001b[0mcheck_response\u001b[0m\u001b[0;34m(\u001b[0m\u001b[0mresponse\u001b[0m\u001b[0;34m)\u001b[0m\u001b[0;34m\u001b[0m\u001b[0m\n\u001b[0m\u001b[1;32m    322\u001b[0m             response['value'] = self._unwrap_value(\n\u001b[1;32m    323\u001b[0m                 response.get('value', None))\n",
      "\u001b[0;32m/anaconda3/lib/python3.5/site-packages/selenium/webdriver/remote/errorhandler.py\u001b[0m in \u001b[0;36mcheck_response\u001b[0;34m(self, response)\u001b[0m\n\u001b[1;32m    240\u001b[0m                 \u001b[0malert_text\u001b[0m \u001b[0;34m=\u001b[0m \u001b[0mvalue\u001b[0m\u001b[0;34m[\u001b[0m\u001b[0;34m'alert'\u001b[0m\u001b[0;34m]\u001b[0m\u001b[0;34m.\u001b[0m\u001b[0mget\u001b[0m\u001b[0;34m(\u001b[0m\u001b[0;34m'text'\u001b[0m\u001b[0;34m)\u001b[0m\u001b[0;34m\u001b[0m\u001b[0m\n\u001b[1;32m    241\u001b[0m             \u001b[0;32mraise\u001b[0m \u001b[0mexception_class\u001b[0m\u001b[0;34m(\u001b[0m\u001b[0mmessage\u001b[0m\u001b[0;34m,\u001b[0m \u001b[0mscreen\u001b[0m\u001b[0;34m,\u001b[0m \u001b[0mstacktrace\u001b[0m\u001b[0;34m,\u001b[0m \u001b[0malert_text\u001b[0m\u001b[0;34m)\u001b[0m\u001b[0;34m\u001b[0m\u001b[0m\n\u001b[0;32m--> 242\u001b[0;31m         \u001b[0;32mraise\u001b[0m \u001b[0mexception_class\u001b[0m\u001b[0;34m(\u001b[0m\u001b[0mmessage\u001b[0m\u001b[0;34m,\u001b[0m \u001b[0mscreen\u001b[0m\u001b[0;34m,\u001b[0m \u001b[0mstacktrace\u001b[0m\u001b[0;34m)\u001b[0m\u001b[0;34m\u001b[0m\u001b[0m\n\u001b[0m\u001b[1;32m    243\u001b[0m \u001b[0;34m\u001b[0m\u001b[0m\n\u001b[1;32m    244\u001b[0m     \u001b[0;32mdef\u001b[0m \u001b[0m_value_or_default\u001b[0m\u001b[0;34m(\u001b[0m\u001b[0mself\u001b[0m\u001b[0;34m,\u001b[0m \u001b[0mobj\u001b[0m\u001b[0;34m,\u001b[0m \u001b[0mkey\u001b[0m\u001b[0;34m,\u001b[0m \u001b[0mdefault\u001b[0m\u001b[0;34m)\u001b[0m\u001b[0;34m:\u001b[0m\u001b[0;34m\u001b[0m\u001b[0m\n",
      "\u001b[0;31mStaleElementReferenceException\u001b[0m: Message: stale element reference: element is not attached to the page document\n  (Session info: chrome=74.0.3729.169)\n  (Driver info: chromedriver=74.0.3729.6 (255758eccf3d244491b8a1317aa76e1ce10d57e9-refs/branch-heads/3729@{#29}),platform=Mac OS X 10.14.5 x86_64)\n"
     ]
    }
   ],
   "source": [
    "# 셀레니움으로 크롤링\n",
    "url = \"https://www.naver.com/\"\n",
    "driver = webdriver.Chrome()\n",
    "options = webdriver.ChromeOptions()\n",
    "driver.get(url)\n",
    "driver.find_element_by_id('query').send_keys('강남 맛집')\n",
    "driver.find_element_by_xpath('//*[@id=\"search_btn\"]/span[2]').click()\n",
    "time.sleep(2)\n",
    "count = 1\n",
    "nameli=[]\n",
    "reviewli=[]\n",
    "contextli =[]\n",
    "while(count <= 20):\n",
    "\n",
    "    names = driver.find_elements_by_css_selector('span.tit_inner > a.name > span')\n",
    "    review = driver.find_elements_by_css_selector('div > div > div.etc_area.ellp > span:nth-child(1)')\n",
    "    context = []\n",
    "    for cnt in range(1,7):\n",
    "        context.append(driver.find_elements_by_xpath\\\n",
    "                       ('//*[@id=\"place_main_ct\"]/div/div/div[2]/div[4]/ul/li[{}]/div/div/div[2]'.format(cnt)))\n",
    "    \n",
    "    for i in names:\n",
    "        nameli.append(i.text)\n",
    "    for l in review:\n",
    "        reviewli.append(int(l.text.split()[1].replace(',','')))\n",
    "    for j in context:\n",
    "        contextli.append(j[0].text)\n",
    "        \n",
    "    time.sleep(2)\n",
    "    count += 1\n",
    "    driver.find_element_by_xpath('//*[@id=\"place_main_ct\"]/div/div/div[2]/div[4]/div/a[2]').click()\n",
    "time.sleep(2)\n",
    "driver.close()\n",
    "        "
   ]
  },
  {
   "cell_type": "code",
   "execution_count": 159,
   "metadata": {
    "scrolled": true
   },
   "outputs": [
    {
     "name": "stdout",
     "output_type": "stream",
     "text": [
      "[{'name': '타이거슈가 강남점', 'review': 345},\n",
      " {'name': '리틀넥', 'review': 1152},\n",
      " {'name': '펠트 도산공원점', 'review': 31},\n",
      " {'name': '팔당닭발', 'review': 436},\n",
      " {'name': '온기정', 'review': 132},\n",
      " {'name': '땀땀', 'review': 2013},\n",
      " {'name': '타이거슈가 강남점', 'review': 345},\n",
      " {'name': '리틀넥', 'review': 1152},\n",
      " {'name': '펠트 도산공원점', 'review': 31},\n",
      " {'name': '팔당닭발', 'review': 436},\n",
      " {'name': '온기정', 'review': 132},\n",
      " {'name': '땀땀', 'review': 2013},\n",
      " {'name': '정식카페', 'review': 72},\n",
      " {'name': '미미면가', 'review': 951},\n",
      " {'name': '스크렘', 'review': 38},\n",
      " {'name': '삼미식당', 'review': 275},\n",
      " {'name': '참한간장게장', 'review': 141},\n",
      " {'name': '카페 노티드', 'review': 835},\n",
      " {'name': '바비레드 강남', 'review': 2937},\n",
      " {'name': '대막', 'review': 189},\n",
      " {'name': '음 로바타야끼', 'review': 16},\n",
      " {'name': '더앨리 가로수길점', 'review': 562},\n",
      " {'name': '코사카&아게바', 'review': 79},\n",
      " {'name': '은하수', 'review': 130},\n",
      " {'name': '도산분식 가로수길점', 'review': 623},\n",
      " {'name': '오복수산 도산', 'review': 184},\n",
      " {'name': '브루클린더버거조인트 가로수길점', 'review': 1593},\n",
      " {'name': '압구정하루', 'review': 1047},\n",
      " {'name': '도산분식', 'review': 874},\n",
      " {'name': '스시메이진 강남점', 'review': 764},\n",
      " {'name': '다운타우너 청담점', 'review': 1601},\n",
      " {'name': '칠량', 'review': 1003},\n",
      " {'name': '대낚식당', 'review': 115},\n",
      " {'name': '볼트스테이크하우스', 'review': 1138},\n",
      " {'name': '베러댄비프', 'review': 2100},\n",
      " {'name': '우천식육식당', 'review': 32},\n",
      " {'name': '대막 Bistro', 'review': 14},\n",
      " {'name': '마녀주방 강남점', 'review': 2382},\n",
      " {'name': '정식당', 'review': 799},\n",
      " {'name': '인앤아웃버거 팝업스토어', 'review': 12},\n",
      " {'name': '룸서비스301', 'review': 44},\n",
      " {'name': '정돈 강남점', 'review': 181},\n",
      " {'name': '쉐이크쉑 강남점', 'review': 3629},\n",
      " {'name': '루프808', 'review': 385},\n",
      " {'name': '중앙해장', 'review': 1038},\n",
      " {'name': '카멜커피', 'review': 249},\n",
      " {'name': '알베르', 'review': 1904},\n",
      " {'name': '진미평양냉면', 'review': 810},\n",
      " {'name': '부타이', 'review': 394},\n",
      " {'name': '돈블랑 청담스퀘어점', 'review': 56},\n",
      " {'name': '아우어베이커리 도산본점', 'review': 990},\n",
      " {'name': '형훈 텐동', 'review': 163},\n",
      " {'name': 'C27 가로수길점', 'review': 1836},\n",
      " {'name': '토끼정 강남점', 'review': 3231},\n",
      " {'name': '빠레뜨한남 가로수길점', 'review': 134},\n",
      " {'name': '삼육가', 'review': 285},\n",
      " {'name': '버터풀&크리멀러스', 'review': 104},\n",
      " {'name': 'LaCa', 'review': 90},\n",
      " {'name': '피그인더가든 강남점', 'review': 371},\n",
      " {'name': '오아시스', 'review': 734},\n",
      " {'name': '낙원테산도 강남본점', 'review': 462},\n",
      " {'name': '페어링6', 'review': 2080},\n",
      " {'name': '김천재의 족발이보곱닭', 'review': 43},\n",
      " {'name': '도쿄등심 갓포서울 압구정점', 'review': 1021},\n",
      " {'name': '아트몬스터 강남역점', 'review': 315},\n",
      " {'name': '크라이치즈버거 삼성역점', 'review': 754},\n",
      " {'name': '뱃고동', 'review': 718},\n",
      " {'name': '울프강 스테이크하우스', 'review': 2997},\n",
      " {'name': '아우어베이커리 가로수길점', 'review': 853},\n",
      " {'name': '을밀대 강남점', 'review': 674},\n",
      " {'name': '장인닭갈비 강남점', 'review': 878},\n",
      " {'name': '어글리스토브 신논현강남역점', 'review': 4225},\n",
      " {'name': '바이킹스워프 코엑스점', 'review': 261},\n",
      " {'name': '바이투헤븐', 'review': 274},\n",
      " {'name': '멜팅샵', 'review': 2631},\n",
      " {'name': '이딸라시안', 'review': 1035},\n",
      " {'name': '가비터', 'review': 862},\n",
      " {'name': '무한리필 홍태관', 'review': 76},\n",
      " {'name': '뽕나무쟁이 선릉본점', 'review': 997},\n",
      " {'name': '킹콩 스테이크', 'review': 2166},\n",
      " {'name': '가배도', 'review': 477},\n",
      " {'name': 'FIREBELL', 'review': 422},\n",
      " {'name': '리북집', 'review': 1395},\n",
      " {'name': 'LA PHO', 'review': 101},\n",
      " {'name': '돝고기506', 'review': 289},\n",
      " {'name': '갓포이든', 'review': 182},\n",
      " {'name': '글림', 'review': 44},\n",
      " {'name': '카페413프로젝트', 'review': 591},\n",
      " {'name': '듀자미', 'review': 1019},\n",
      " {'name': '감성타코 강남역점', 'review': 886},\n",
      " {'name': '이디야커피랩', 'review': 1321},\n",
      " {'name': '갓덴스시 강남점', 'review': 746},\n",
      " {'name': '카페뮤제', 'review': 86},\n",
      " {'name': '꼭그닭', 'review': 1071},\n",
      " {'name': '달식탁', 'review': 875},\n",
      " {'name': '더블트러블', 'review': 1358},\n",
      " {'name': '츄라우미 역삼본점', 'review': 583},\n",
      " {'name': '영천영화 청담점', 'review': 424},\n",
      " {'name': '빌즈 강남', 'review': 1025},\n",
      " {'name': '페어링룸', 'review': 1421},\n",
      " {'name': '숲숨', 'review': 1047},\n",
      " {'name': '은행골 강남점', 'review': 818},\n",
      " {'name': 'AY라운지', 'review': 2073},\n",
      " {'name': '수담 한정식', 'review': 1562},\n",
      " {'name': '레이지쿠오레', 'review': 240},\n",
      " {'name': '한추', 'review': 1122},\n",
      " {'name': '코르바니', 'review': 57},\n",
      " {'name': '은행골 신사점', 'review': 1193},\n",
      " {'name': '도쿄등심 선릉점', 'review': 1320},\n",
      " {'name': '도치피자 강남점', 'review': 1004},\n",
      " {'name': '숲숨 그레이', 'review': 359},\n",
      " {'name': '농민백암순대 본점', 'review': 563},\n",
      " {'name': '형훈 라멘', 'review': 165},\n",
      " {'name': '라공방 강남1호 본점', 'review': 590},\n",
      " {'name': '도쿄등심 선릉점', 'review': 1320},\n",
      " {'name': '도치피자 강남점', 'review': 177},\n",
      " {'name': '숲숨 그레이', 'review': 1213},\n",
      " {'name': '농민백암순대 본점', 'review': 581},\n",
      " {'name': '형훈 라멘', 'review': 655},\n",
      " {'name': '라공방 강남1호 본점', 'review': 1034}]\n"
     ]
    }
   ],
   "source": [
    "# tinydb로 json 파일로 저장\n",
    "from tinydb import TinyDB\n",
    "file = \"gangnamres.json\"\n",
    "db = TinyDB(file)\n",
    "db.purge_table('restaurant_list')\n",
    "table = db.table('restaurant_list')\n",
    "for num in range(len(nameli)):\n",
    "    rest = {}\n",
    "    rest['name'] = nameli[num]\n",
    "    rest['review'] = reviewli[num]\n",
    "    rest['context'] = contextli[nem]\n",
    "    table.insert(rest)\n",
    "pprint(table.all())"
   ]
  },
  {
   "cell_type": "code",
   "execution_count": null,
   "metadata": {
    "scrolled": true
   },
   "outputs": [],
   "source": [
    "# tinydb 쿼리문\n",
    "res = table.search(Query().review >= 500)\n",
    "pprint(res)"
   ]
  },
  {
   "cell_type": "code",
   "execution_count": 160,
   "metadata": {},
   "outputs": [],
   "source": [
    "import json\n",
    "import csv"
   ]
  },
  {
   "cell_type": "code",
   "execution_count": 191,
   "metadata": {
    "scrolled": true
   },
   "outputs": [],
   "source": [
    "# json파일 csv로 변환\n",
    "with open('gangnamres.json') as f:\n",
    "    json_d = json.load(f)\n",
    "with open('gangnamres.csv',\"w\",encoding='CP949') as g:\n",
    "    csv_d = csv.writer(g)\n",
    "    csv_d.writerow([\"NAME\",\"REVIEW\"])\n",
    "    for i,j in json_d['restaurant_list'].items():\n",
    "        csv_d.writerow([j['name'],j['review']])   \n"
   ]
  },
  {
   "cell_type": "code",
   "execution_count": 110,
   "metadata": {
    "scrolled": true
   },
   "outputs": [],
   "source": []
  },
  {
   "cell_type": "code",
   "execution_count": 242,
   "metadata": {},
   "outputs": [],
   "source": [
    "url = \"https://www.naver.com/\"\n",
    "driver = webdriver.Chrome()\n",
    "options = webdriver.ChromeOptions()\n",
    "driver.get(url)\n",
    "driver.find_element_by_id('query').send_keys('강남 맛집')\n",
    "driver.find_element_by_xpath('//*[@id=\"search_btn\"]/span[2]').click()\n",
    "time.sleep(2)\n"
   ]
  },
  {
   "cell_type": "code",
   "execution_count": 249,
   "metadata": {},
   "outputs": [
    {
     "name": "stdout",
     "output_type": "stream",
     "text": [
      "['강남역맛집 매콤 소갈비 들어간 강남역파스타', '독특한컨셉 마녀주방 테이스티로드에도 나온 맛집', '강남 토끼정 테이스티로드에 나온 크림카레우동', '서울 강남 프리모 바치오바치 맛있는 피자와 파스타', '강남역쌀국수 tamtam 쌀국수고기고명푸짐한집 소곱창', '미쉐린 가이드 2019']\n"
     ]
    }
   ],
   "source": [
    "context = []\n",
    "\n",
    "\n",
    "for i in range(1,7):\n",
    "    xpathh = driver.find_elements_by_xpath\\\n",
    "    ('//*[@id=\"place_main_ct\"]/div/div/div[2]/div[4]/ul/li[{}]/div/div/div[2]'.format(i))\n",
    "    context.append(xpathh)\n",
    "contextli = []\n",
    "for j in context:\n",
    "    if (len(j[0].text) <=10) or :\n",
    "        contextli.append('')\n",
    "    else:\n",
    "        contextli.append(j[0].text)\n",
    "\n",
    "\n",
    "print(contextli)\n",
    "\n",
    "    \n",
    "    \n",
    "    "
   ]
  },
  {
   "cell_type": "code",
   "execution_count": 241,
   "metadata": {},
   "outputs": [],
   "source": [
    "driver.close()"
   ]
  },
  {
   "cell_type": "code",
   "execution_count": null,
   "metadata": {},
   "outputs": [],
   "source": []
  }
 ],
 "metadata": {
  "kernelspec": {
   "display_name": "Python 3",
   "language": "python",
   "name": "python3"
  },
  "language_info": {
   "codemirror_mode": {
    "name": "ipython",
    "version": 3
   },
   "file_extension": ".py",
   "mimetype": "text/x-python",
   "name": "python",
   "nbconvert_exporter": "python",
   "pygments_lexer": "ipython3",
   "version": "3.5.5"
  }
 },
 "nbformat": 4,
 "nbformat_minor": 2
}
