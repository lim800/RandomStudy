{
 "cells": [
  {
   "cell_type": "markdown",
   "metadata": {},
   "source": [
    "# 레벤슈타인 거리, N-gram, 마르코프 체인"
   ]
  },
  {
   "cell_type": "markdown",
   "metadata": {},
   "source": [
    "### 벡터 변환 저장"
   ]
  },
  {
   "cell_type": "code",
   "execution_count": 1,
   "metadata": {},
   "outputs": [],
   "source": [
    "import os, glob, json"
   ]
  },
  {
   "cell_type": "code",
   "execution_count": 2,
   "metadata": {},
   "outputs": [],
   "source": [
    "root_dir = \"./신문파일\"\n",
    "dic_file = root_dir + \"/word-dic.json\"\n",
    "data_file = root_dir + \"/data.json\"\n",
    "data_file_min = root_dir + \"/data-mini.json\""
   ]
  },
  {
   "cell_type": "code",
   "execution_count": null,
   "metadata": {},
   "outputs": [],
   "source": [
    "word_dic = {\"_MAX\": 0}\n",
    "\n",
    "def text_to_ids(text):\n",
    "    text = text.strip()\n",
    "    words = text.split(\" \")\n",
    "    result = []\n",
    "    for n in words:\n",
    "        n = n.strip()\n",
    "        if n == \"\": continue\n",
    "        if not n in word_dic:\n",
    "            wid = word_dic[n] = word_dic[\"_MAX\"]\n",
    "            word_dic[\"_MAX\"] += 1\n",
    "        else:\n",
    "            wid = word_dic[n]\n",
    "        result.append(wid)\n",
    "    return result\n",
    "\n",
    "def file_to_ids(fname):\n",
    "    with open(fname, 'r', encoding='UTF-8') as f:\n",
    "        text = f.read()\n",
    "        return text_to_ids(text)\n",
    "\n",
    "def register_dic():\n",
    "    files = glob.glob(root_dir + \"**/*/*.text\")\n",
    "    for i in files:\n",
    "        file_to_ids(i)\n",
    "        \n",
    "def count_file_freq(fname):\n",
    "    cnt = [0 for n in range(word_dic[\"_MAX\"])]\n",
    "    with open(fname, 'r', encoding='utf-8') as f:\n",
    "        text"
   ]
  },
  {
   "cell_type": "markdown",
   "metadata": {},
   "source": [
    "### 레벤슈타인 거리"
   ]
  },
  {
   "cell_type": "code",
   "execution_count": null,
   "metadata": {},
   "outputs": [],
   "source": []
  },
  {
   "cell_type": "code",
   "execution_count": 45,
   "metadata": {},
   "outputs": [],
   "source": [
    "def calc_distance(a, b):\n",
    "    print(\"base: \", a, \"n: \", b)\n",
    "    if a == b:\n",
    "        return 0\n",
    "    a_len = len(a)\n",
    "    b_len = len(b)\n",
    "    print(\"a_len: \", a_len)\n",
    "    print(\"b_len: \", b_len)\n",
    "    if a == \"\":\n",
    "        return b_len\n",
    "    if b == \"\":\n",
    "        return a_len\n",
    "    matrix = [[] for i in range(a_len+1)]\n",
    "    for i in range(a_len+1):\n",
    "        matrix[i] = [0 for j in range(b_len+1)]\n",
    "    print(\"matrix초기화: \", matrix)\n",
    "    for i in range(a_len+1):\n",
    "        matrix[i][0] = i\n",
    "    print(\"matrix a 첫값: \", matrix)\n",
    "    for j in range(b_len+1):\n",
    "        matrix[0][j] = j\n",
    "    print(\"matrix b의 첫번째 값들: \",matrix)\n",
    "    for i in range(1, a_len+1):\n",
    "        ac = a[i-1]\n",
    "        print(\"ac 값: \", ac)\n",
    "        for j in range(1, b_len+1):\n",
    "            bc = b[j-1]\n",
    "            print(\"bc 값: \", bc)\n",
    "            cost = 0 if (ac == bc) else 1\n",
    "            matrix[i][j] = min([matrix[i-1][j-1] + cost])\n",
    "#             matrix[i][j] = min([matrix[i-1][j] + 1, matrix[i][j-1] + 1, matrix[i-1][j-1] + cost ])\n",
    "            print(\"중간매트릭스: \", matrix)\n",
    "    print(\"최종매트릭스: \",matrix)\n",
    "    print(\"결과값: \", matrix[a_len][b_len])    \n",
    "    return matrix[a_len][b_len]"
   ]
  },
  {
   "cell_type": "code",
   "execution_count": 46,
   "metadata": {
    "scrolled": true
   },
   "outputs": [
    {
     "name": "stdout",
     "output_type": "stream",
     "text": [
      "base:  신촌역 n:  신발\n",
      "a_len:  3\n",
      "b_len:  2\n",
      "matrix초기화:  [[0, 0, 0], [0, 0, 0], [0, 0, 0], [0, 0, 0]]\n",
      "matrix a 첫값:  [[0, 0, 0], [1, 0, 0], [2, 0, 0], [3, 0, 0]]\n",
      "matrix b의 첫번째 값들:  [[0, 1, 2], [1, 0, 0], [2, 0, 0], [3, 0, 0]]\n",
      "ac 값:  신\n",
      "bc 값:  신\n",
      "중간매트릭스:  [[0, 1, 2], [1, 0, 0], [2, 0, 0], [3, 0, 0]]\n",
      "bc 값:  발\n",
      "중간매트릭스:  [[0, 1, 2], [1, 0, 2], [2, 0, 0], [3, 0, 0]]\n",
      "ac 값:  촌\n",
      "bc 값:  신\n",
      "중간매트릭스:  [[0, 1, 2], [1, 0, 2], [2, 2, 0], [3, 0, 0]]\n",
      "bc 값:  발\n",
      "중간매트릭스:  [[0, 1, 2], [1, 0, 2], [2, 2, 1], [3, 0, 0]]\n",
      "ac 값:  역\n",
      "bc 값:  신\n",
      "중간매트릭스:  [[0, 1, 2], [1, 0, 2], [2, 2, 1], [3, 3, 0]]\n",
      "bc 값:  발\n",
      "중간매트릭스:  [[0, 1, 2], [1, 0, 2], [2, 2, 1], [3, 3, 3]]\n",
      "최종매트릭스:  [[0, 1, 2], [1, 0, 2], [2, 2, 1], [3, 3, 3]]\n",
      "결과값:  3\n",
      "3 신발\n"
     ]
    }
   ],
   "source": [
    "print(calc_distance(\"신촌역\",\"신발\"), \"신발\")"
   ]
  },
  {
   "cell_type": "code",
   "execution_count": 29,
   "metadata": {
    "scrolled": true
   },
   "outputs": [
    {
     "name": "stdout",
     "output_type": "stream",
     "text": [
      "base:  신촌역 n:  신촌역\n",
      "base:  신촌역 n:  신천군\n",
      "a_len:  3\n",
      "b_len:  3\n",
      "[[0, 1, 2, 3], [1, 0, 1, 2], [2, 1, 1, 2], [3, 2, 2, 2]]\n",
      "matrix[a_len][b_len] =  2\n",
      "base:  신촌역 n:  신천역\n",
      "a_len:  3\n",
      "b_len:  3\n",
      "[[0, 1, 2, 3], [1, 0, 1, 2], [2, 1, 1, 2], [3, 2, 2, 1]]\n",
      "matrix[a_len][b_len] =  1\n",
      "base:  신촌역 n:  신발\n",
      "a_len:  3\n",
      "b_len:  2\n",
      "[[0, 1, 2], [1, 0, 1], [2, 1, 1], [3, 2, 2]]\n",
      "matrix[a_len][b_len] =  2\n",
      "base:  신촌역 n:  마곡역\n",
      "a_len:  3\n",
      "b_len:  3\n",
      "[[0, 1, 2, 3], [1, 1, 2, 3], [2, 2, 2, 3], [3, 3, 3, 2]]\n",
      "matrix[a_len][b_len] =  2\n",
      "base:  신촌역 n:  신촌역\n",
      "0 신촌역\n",
      "base:  신촌역 n:  신천역\n",
      "a_len:  3\n",
      "b_len:  3\n",
      "[[0, 1, 2, 3], [1, 0, 1, 2], [2, 1, 1, 2], [3, 2, 2, 1]]\n",
      "matrix[a_len][b_len] =  1\n",
      "1 신천역\n",
      "base:  신촌역 n:  신천군\n",
      "a_len:  3\n",
      "b_len:  3\n",
      "[[0, 1, 2, 3], [1, 0, 1, 2], [2, 1, 1, 2], [3, 2, 2, 2]]\n",
      "matrix[a_len][b_len] =  2\n",
      "2 신천군\n",
      "base:  신촌역 n:  신발\n",
      "a_len:  3\n",
      "b_len:  2\n",
      "[[0, 1, 2], [1, 0, 1], [2, 1, 1], [3, 2, 2]]\n",
      "matrix[a_len][b_len] =  2\n",
      "2 신발\n",
      "base:  신촌역 n:  마곡역\n",
      "a_len:  3\n",
      "b_len:  3\n",
      "[[0, 1, 2, 3], [1, 1, 2, 3], [2, 2, 2, 3], [3, 3, 3, 2]]\n",
      "matrix[a_len][b_len] =  2\n",
      "2 마곡역\n"
     ]
    }
   ],
   "source": [
    "samples = [\"신촌역\", \"신천군\", \"신천역\", \"신발\", \"마곡역\"]\n",
    "base = samples[0]\n",
    "# sorted()의 key 파라미터는 샘플 리스트의 값들이 key파라미터의 함수를 적용한 결과값을 기준으로 정렬 적용한다\n",
    "r = sorted(samples, key = lambda n: calc_distance(base,n))\n",
    "for n in r:\n",
    "    print(calc_distance(base, n), n)"
   ]
  },
  {
   "cell_type": "markdown",
   "metadata": {},
   "source": [
    "### N-gram"
   ]
  },
  {
   "cell_type": "code",
   "execution_count": 56,
   "metadata": {},
   "outputs": [],
   "source": [
    "def ngram(s, num):\n",
    "    res = []\n",
    "    slen = len(s) - num + 1\n",
    "    print(\"len:\", len(s), \"slen: \", slen)\n",
    "    for i in range(slen):\n",
    "        ss = s[i: i + num]\n",
    "        res.append(ss)\n",
    "    return res\n",
    "\n",
    "def diff_ngram(sa, sb, num):\n",
    "    a = ngram(sa, num)\n",
    "    print('a: ',a)\n",
    "    b = ngram(sb, num)\n",
    "    print('b: ',b)\n",
    "    r = []\n",
    "    cnt = 0\n",
    "    for i in a:\n",
    "        for j in b:\n",
    "            if i == j:\n",
    "                cnt += 1\n",
    "                r.append(i)\n",
    "    return cnt/len(a), r"
   ]
  },
  {
   "cell_type": "code",
   "execution_count": 57,
   "metadata": {},
   "outputs": [
    {
     "name": "stdout",
     "output_type": "stream",
     "text": [
      "len: 22 slen:  21\n",
      "a:  ['오늘', '늘 ', ' 강', '강남', '남에', '에서', '서 ', ' 맛', '맛있', '있는', '는 ', ' 스', '스파', '파게', '게티', '티를', '를 ', ' 먹', '먹었', '었다', '다.']\n",
      "len: 24 slen:  23\n",
      "b:  ['강남', '남에', '에서', '서 ', ' 먹', '먹었', '었던', '던 ', ' 오', '오늘', '늘의', '의 ', ' 스', '스파', '파게', '게티', '티는', '는 ', ' 맛', '맛있', '있었', '었다', '다.']\n",
      "2-gram:  0.7619047619047619 ['오늘', '강남', '남에', '에서', '서 ', ' 맛', '맛있', '는 ', ' 스', '스파', '파게', '게티', ' 먹', '먹었', '었다', '다.']\n",
      "len: 22 slen:  20\n",
      "a:  ['오늘 ', '늘 강', ' 강남', '강남에', '남에서', '에서 ', '서 맛', ' 맛있', '맛있는', '있는 ', '는 스', ' 스파', '스파게', '파게티', '게티를', '티를 ', '를 먹', ' 먹었', '먹었다', '었다.']\n",
      "len: 24 slen:  22\n",
      "b:  ['강남에', '남에서', '에서 ', '서 먹', ' 먹었', '먹었던', '었던 ', '던 오', ' 오늘', '오늘의', '늘의 ', '의 스', ' 스파', '스파게', '파게티', '게티는', '티는 ', '는 맛', ' 맛있', '맛있었', '있었다', '었다.']\n",
      "3-gram:  0.45 ['강남에', '남에서', '에서 ', ' 맛있', ' 스파', '스파게', '파게티', ' 먹었', '었다.']\n"
     ]
    }
   ],
   "source": [
    "a = \"오늘 강남에서 맛있는 스파게티를 먹었다.\"\n",
    "b = \"강남에서 먹었던 오늘의 스파게티는 맛있었다.\"\n",
    "r2, word2 = diff_ngram(a, b, 2)\n",
    "print(\"2-gram: \", r2, word2)\n",
    "r3, word3 = diff_ngram(a, b, 3)\n",
    "print(\"3-gram: \", r3, word3)"
   ]
  },
  {
   "cell_type": "code",
   "execution_count": null,
   "metadata": {},
   "outputs": [],
   "source": []
  },
  {
   "cell_type": "code",
   "execution_count": null,
   "metadata": {},
   "outputs": [],
   "source": []
  },
  {
   "cell_type": "code",
   "execution_count": null,
   "metadata": {},
   "outputs": [],
   "source": []
  }
 ],
 "metadata": {
  "kernelspec": {
   "display_name": "Python 3",
   "language": "python",
   "name": "python3"
  },
  "language_info": {
   "codemirror_mode": {
    "name": "ipython",
    "version": 3
   },
   "file_extension": ".py",
   "mimetype": "text/x-python",
   "name": "python",
   "nbconvert_exporter": "python",
   "pygments_lexer": "ipython3",
   "version": "3.5.5"
  }
 },
 "nbformat": 4,
 "nbformat_minor": 2
}
