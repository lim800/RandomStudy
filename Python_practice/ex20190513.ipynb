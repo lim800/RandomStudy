{
 "cells": [
  {
   "cell_type": "code",
   "execution_count": 2,
   "metadata": {},
   "outputs": [
    {
     "name": "stdout",
     "output_type": "stream",
     "text": [
      "다르다\n"
     ]
    }
   ],
   "source": [
    "a = 1\n",
    "if a ==2 : print(\"같다\")\n",
    "else: print(\"다르다\")"
   ]
  },
  {
   "cell_type": "code",
   "execution_count": 6,
   "metadata": {},
   "outputs": [
    {
     "ename": "IndentationError",
     "evalue": "unexpected indent (<ipython-input-6-4da15dc8c5f2>, line 4)",
     "output_type": "error",
     "traceback": [
      "\u001b[0;36m  File \u001b[0;32m\"<ipython-input-6-4da15dc8c5f2>\"\u001b[0;36m, line \u001b[0;32m4\u001b[0m\n\u001b[0;31m    print(\"5칸들여쓰기\")\u001b[0m\n\u001b[0m    ^\u001b[0m\n\u001b[0;31mIndentationError\u001b[0m\u001b[0;31m:\u001b[0m unexpected indent\n"
     ]
    }
   ],
   "source": [
    "b = 1\n",
    "if b == 1:\n",
    "    print(\"4칸들여쓰기\")\n",
    "     print(\"5칸들여쓰기\")"
   ]
  },
  {
   "cell_type": "code",
   "execution_count": 8,
   "metadata": {},
   "outputs": [
    {
     "name": "stdout",
     "output_type": "stream",
     "text": [
      "조건이 거짓이면 실행한다\n"
     ]
    }
   ],
   "source": [
    "a = 1\n",
    "if a > 2:\n",
    "    print('조건이 거짓이므로 실행하지 않는다')\n",
    "else:\n",
    "    print('조건이 거짓이면 실행한다')"
   ]
  },
  {
   "cell_type": "code",
   "execution_count": 9,
   "metadata": {},
   "outputs": [
    {
     "name": "stdout",
     "output_type": "stream",
     "text": [
      "조건이 참이면 실행한다\n"
     ]
    }
   ],
   "source": [
    "a = 1\n",
    "b = 2\n",
    "if a == 1 and b == 2:\n",
    "    print('조건이 참이면 실행한다')\n",
    "else:\n",
    "    print('조건이 거짓이면 실행한다')\n",
    "\n",
    "\n"
   ]
  },
  {
   "cell_type": "code",
   "execution_count": 10,
   "metadata": {},
   "outputs": [
    {
     "name": "stdout",
     "output_type": "stream",
     "text": [
      "조건이 참이면 실행한다\n"
     ]
    }
   ],
   "source": [
    "#멤버쉽 테스트\n",
    "a = [1,2,3]\n",
    "if 1 in a:\n",
    "    print('조건이 참이면 실행한다')\n",
    "else:\n",
    "    print('조건이 거짓이면 실행한다')"
   ]
  },
  {
   "cell_type": "code",
   "execution_count": 15,
   "metadata": {},
   "outputs": [
    {
     "name": "stdout",
     "output_type": "stream",
     "text": [
      "조건이 거짓이면 실행한다\n"
     ]
    }
   ],
   "source": [
    "a = [1,2,3]\n",
    "b = []\n",
    "if b:\n",
    "    print('조건이 참이면 실행한다')\n",
    "else:\n",
    "    print('조건이 거짓이면 실행한다')"
   ]
  },
  {
   "cell_type": "code",
   "execution_count": 16,
   "metadata": {},
   "outputs": [
    {
     "name": "stdout",
     "output_type": "stream",
     "text": [
      "C grade\n"
     ]
    }
   ],
   "source": [
    "credit = 75\n",
    "if credit >= 90:\n",
    "    print('A grade')\n",
    "elif credit >=80:\n",
    "    print('B grade')\n",
    "elif credit >=70:\n",
    "    print('C grade')\n",
    "elif credit >=60:\n",
    "    print('D grade')\n",
    "else:\n",
    "    print('F grade')"
   ]
  },
  {
   "cell_type": "code",
   "execution_count": 17,
   "metadata": {},
   "outputs": [
    {
     "name": "stdout",
     "output_type": "stream",
     "text": [
      "4000\n"
     ]
    }
   ],
   "source": [
    "order = '자장면'\n",
    "if order =='짬뽕':\n",
    "    price=6000\n",
    "elif order =='간짜장':\n",
    "    price=5000\n",
    "elif order =='자장면':\n",
    "    price=4000\n",
    "print(price)"
   ]
  },
  {
   "cell_type": "code",
   "execution_count": 18,
   "metadata": {},
   "outputs": [
    {
     "name": "stdout",
     "output_type": "stream",
     "text": [
      "5 < y < 7\n"
     ]
    }
   ],
   "source": [
    "# 중첩 if else문\n",
    "x = 5\n",
    "y = 6\n",
    "z = 7\n",
    "if y > x:\n",
    "    if y < z:\n",
    "        print('5 < y < 7')\n",
    "    else:\n",
    "        print('7 < y')\n",
    "else:\n",
    "    print('y < 5')"
   ]
  },
  {
   "cell_type": "code",
   "execution_count": 52,
   "metadata": {},
   "outputs": [
    {
     "name": "stdout",
     "output_type": "stream",
     "text": [
      "국어점수 입력: 110\n",
      "수학점수 입력: 39\n",
      "영어점수 입력: 39\n",
      "188점이지만 수학과목이 39점 이므로 불합격\n",
      "188점이지만 영어과목이 39점 이므로 불합격\n"
     ]
    }
   ],
   "source": [
    "kor = int(input('국어점수 입력: '))\n",
    "mat = int(input('수학점수 입력: '))\n",
    "eng = int(input('영어점수 입력: '))\n",
    "total = kor + mat + eng\n",
    "subject = [{'국어':kor},{'수학':mat},{'영어':eng}]\n",
    "\n",
    "if total >= 180:\n",
    "    if kor < 40 or mat < 40 or eng < 40:\n",
    "        for sub, score in enumerate(subject):\n",
    "            for vkey, value in score.items():\n",
    "                if value < 40:\n",
    "                    print('{}점이지만 {}과목이 {}점 이므로 불합격'.format(total, vkey, value))\n",
    "            \n",
    "    else:\n",
    "        print(\"{}점으로 합격\".format(total))\n",
    "\n",
    "else:\n",
    "    print('{}점으로 불합격'.format(total))"
   ]
  },
  {
   "cell_type": "code",
   "execution_count": 50,
   "metadata": {},
   "outputs": [
    {
     "name": "stdout",
     "output_type": "stream",
     "text": [
      "80\n",
      "70\n",
      "30\n",
      "fail\n"
     ]
    }
   ],
   "source": [
    "kor = 80\n",
    "mat = 30\n",
    "eng = 70\n",
    "total = kor + mat + eng\n",
    "subject = {'국어':kor,'수학':mat,'영어':eng}\n",
    "if total >= 180:\n",
    "    for sub, score in subject.items():\n",
    "        if score < 40:\n",
    "            print(\"fail\")\n",
    "\n",
    "else:\n",
    "    print(\"fail\")"
   ]
  },
  {
   "cell_type": "code",
   "execution_count": 54,
   "metadata": {},
   "outputs": [
    {
     "name": "stdout",
     "output_type": "stream",
     "text": [
      "3  2  1  "
     ]
    }
   ],
   "source": [
    "for i in [3,2,1]:\n",
    "    print(i, end='  ')"
   ]
  },
  {
   "cell_type": "code",
   "execution_count": 55,
   "metadata": {},
   "outputs": [
    {
     "name": "stdout",
     "output_type": "stream",
     "text": [
      "cat\n",
      "고양이\n"
     ]
    }
   ],
   "source": [
    "a = ['cat', '고양이']\n",
    "for i in a: print(i)"
   ]
  },
  {
   "cell_type": "code",
   "execution_count": 56,
   "metadata": {},
   "outputs": [
    {
     "name": "stdout",
     "output_type": "stream",
     "text": [
      "영문은  one 한글은  1 이다\n",
      "영문은  two 한글은  2 이다\n",
      "영문은  three 한글은  3 이다\n"
     ]
    }
   ],
   "source": [
    "#리스트 자료형\n",
    "a = [('one',1), ('two',2), ('three',3)]\n",
    "for i in a: \n",
    "    print('영문은 ', i[0], '한글은 ', i[1], '이다')"
   ]
  },
  {
   "cell_type": "code",
   "execution_count": 57,
   "metadata": {},
   "outputs": [
    {
     "name": "stdout",
     "output_type": "stream",
     "text": [
      "영문은  one 한글은  1 이다\n",
      "영문은  two 한글은  2 이다\n",
      "영문은  three 한글은  3 이다\n"
     ]
    }
   ],
   "source": [
    "#튜플 자료형\n",
    "a = (['one',1]), (['two',2]), (['three',3])\n",
    "for i in a: \n",
    "    print('영문은 ', i[0], '한글은 ', i[1], '이다')"
   ]
  },
  {
   "cell_type": "code",
   "execution_count": 58,
   "metadata": {},
   "outputs": [
    {
     "name": "stdout",
     "output_type": "stream",
     "text": [
      "one 1\n",
      "two 2\n",
      "three 3\n"
     ]
    }
   ],
   "source": [
    "a = (['one',1]), (['two',2]), (['three',3])\n",
    "for i, j in a: \n",
    "    print(i, j)"
   ]
  },
  {
   "cell_type": "markdown",
   "metadata": {},
   "source": [
    "모든 키값의 순차적 추출"
   ]
  },
  {
   "cell_type": "code",
   "execution_count": 59,
   "metadata": {},
   "outputs": [
    {
     "name": "stdout",
     "output_type": "stream",
     "text": [
      "two 2\n",
      "four 4\n",
      "three 3\n",
      "one 1\n"
     ]
    }
   ],
   "source": [
    "a = {'one':1, 'two':2, 'three':3, 'four':4}\n",
    "for i in a.keys():\n",
    "    print(i, a[i])"
   ]
  },
  {
   "cell_type": "code",
   "execution_count": 60,
   "metadata": {},
   "outputs": [
    {
     "name": "stdout",
     "output_type": "stream",
     "text": [
      "('two', 2)\n",
      "('four', 4)\n",
      "('three', 3)\n",
      "('one', 1)\n"
     ]
    }
   ],
   "source": [
    "a = {'one':1, 'two':2, 'three':3, 'four':4}\n",
    "for i in a.items():\n",
    "    print(i)"
   ]
  },
  {
   "cell_type": "code",
   "execution_count": 61,
   "metadata": {},
   "outputs": [
    {
     "name": "stdout",
     "output_type": "stream",
     "text": [
      "2\n",
      "4\n",
      "3\n",
      "1\n"
     ]
    }
   ],
   "source": [
    "a = {'one':1, 'two':2, 'three':3, 'four':4}\n",
    "for i in a.values():\n",
    "    print(i)"
   ]
  },
  {
   "cell_type": "code",
   "execution_count": null,
   "metadata": {},
   "outputs": [],
   "source": []
  }
 ],
 "metadata": {
  "kernelspec": {
   "display_name": "Python 3",
   "language": "python",
   "name": "python3"
  },
  "language_info": {
   "codemirror_mode": {
    "name": "ipython",
    "version": 3
   },
   "file_extension": ".py",
   "mimetype": "text/x-python",
   "name": "python",
   "nbconvert_exporter": "python",
   "pygments_lexer": "ipython3",
   "version": "3.5.5"
  }
 },
 "nbformat": 4,
 "nbformat_minor": 2
}
