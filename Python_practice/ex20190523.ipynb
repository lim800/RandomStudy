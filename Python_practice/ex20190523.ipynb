{
 "cells": [
  {
   "cell_type": "markdown",
   "metadata": {},
   "source": [
    "# 객체 직렬화"
   ]
  },
  {
   "cell_type": "code",
   "execution_count": 3,
   "metadata": {},
   "outputs": [],
   "source": [
    "from pickle import dump\n",
    "\n",
    "a = {'홍길동': 1234}\n",
    "b = ['string', 12, .12]\n",
    "c = (a, b)\n",
    "with open('pythontest.txt', 'wb') as f :\n",
    "    dump(c,f)"
   ]
  },
  {
   "cell_type": "code",
   "execution_count": 5,
   "metadata": {},
   "outputs": [
    {
     "name": "stdout",
     "output_type": "stream",
     "text": [
      "({'홍길동': 1234}, ['string', 12, 0.12])\n"
     ]
    }
   ],
   "source": [
    "from pickle import load\n",
    "with open('pythontest.txt', 'rb') as f :\n",
    "    s = load(f)\n",
    "    print(s)"
   ]
  },
  {
   "cell_type": "code",
   "execution_count": 7,
   "metadata": {},
   "outputs": [
    {
     "name": "stdout",
     "output_type": "stream",
     "text": [
      "[1, 2, 3]\n"
     ]
    }
   ],
   "source": [
    "from pickle import dumps, loads\n",
    "a = [1, 2, 3]\n",
    "print(loads(dumps(a)))"
   ]
  },
  {
   "cell_type": "code",
   "execution_count": 8,
   "metadata": {},
   "outputs": [
    {
     "name": "stdout",
     "output_type": "stream",
     "text": [
      "10\n"
     ]
    }
   ],
   "source": [
    "from pickle import dump, load\n",
    "class Serializable:\n",
    "    pass\n",
    "a = Serializable()\n",
    "a.count =10\n",
    "\n",
    "#바이너리 데이터를 저장\n",
    "with open('pythontest.txt', 'wb') as f:\n",
    "    dump(a,f)\n",
    "    \n",
    "#바이너리 데이터를 호출\n",
    "with open('pythontest.txt', 'rb') as f:\n",
    "    s = load(f)\n",
    "    print(s.count)"
   ]
  },
  {
   "cell_type": "markdown",
   "metadata": {},
   "source": [
    "## 객체의 스레드"
   ]
  },
  {
   "cell_type": "code",
   "execution_count": 10,
   "metadata": {},
   "outputs": [],
   "source": [
    "import threading as thd"
   ]
  },
  {
   "cell_type": "code",
   "execution_count": 15,
   "metadata": {},
   "outputs": [
    {
     "name": "stdout",
     "output_type": "stream",
     "text": [
      "아이디는 0고 카운트는 0이다\n",
      "아이디는 1고 카운트는 0이다\n",
      "아이디는 0고 카운트는 1이다\n",
      "아이디는 1고 카운트는 1이다\n",
      "아이디는 0고 카운트는 2이다아이디는 1고 카운트는 2이다\n",
      "\n",
      "아이디는 1고 카운트는 3이다아이디는 0고 카운트는 3이다\n",
      "\n",
      "스레드 대기\n",
      "아이디는 1고 카운트는 4이다\n",
      "아이디는 0고 카운트는 4이다\n"
     ]
    }
   ],
   "source": [
    "import time\n",
    "\n",
    "def mythread(id):\n",
    "    for i in range(5):\n",
    "        print('아이디는 {}고 카운트는 {}이다'.format(id, i))\n",
    "        time.sleep(1)\n",
    "        \n",
    "# 스레드를 저장할 빈 리스트 객체를 할당함\n",
    "thread_list = []\n",
    "\n",
    "for i in range(2):\n",
    "    th = thd.Thread(target=mythread, args=(i,))\n",
    "    th.start()\n",
    "    thread_list.append(th)\n",
    "\n",
    "for th in thread_list:\n",
    "    th.join(2)\n",
    "print('스레드 대기')"
   ]
  },
  {
   "cell_type": "code",
   "execution_count": 32,
   "metadata": {},
   "outputs": [
    {
     "name": "stdout",
     "output_type": "stream",
     "text": [
      "\n",
      "홍길동 800905-*******\n"
     ]
    }
   ],
   "source": [
    "data = \"\"\"\n",
    "홍길동 800905-1049118\n",
    "\"\"\"\n",
    "a = list(data)\n",
    "a.pop()\n",
    "\n",
    "\n",
    "for i in range(len(a)):\n",
    "    if a[i] == '-':\n",
    "        j = i\n",
    "    if i > j:\n",
    "        a[i] = '*'\n",
    "        \n",
    "print(''.join(a))"
   ]
  },
  {
   "cell_type": "markdown",
   "metadata": {},
   "source": [
    "## re 모듈 : 정규표현식"
   ]
  },
  {
   "cell_type": "code",
   "execution_count": 33,
   "metadata": {},
   "outputs": [
    {
     "name": "stdout",
     "output_type": "stream",
     "text": [
      "<_sre.SRE_Match object; span=(0, 6), match='Python'>\n"
     ]
    }
   ],
   "source": [
    "import re\n",
    "p = re.compile('Python|Java')\n",
    "m = p.match('Python Hello')\n",
    "print(m)"
   ]
  },
  {
   "cell_type": "code",
   "execution_count": 34,
   "metadata": {},
   "outputs": [
    {
     "name": "stdout",
     "output_type": "stream",
     "text": [
      "<_sre.SRE_Match object; span=(0, 4), match='Life'>\n",
      "None\n"
     ]
    }
   ],
   "source": [
    "print(re.search('^Life', 'Life is too short'))\n",
    "print(re.search('^Life', 'My Life'))"
   ]
  },
  {
   "cell_type": "code",
   "execution_count": 35,
   "metadata": {},
   "outputs": [
    {
     "name": "stdout",
     "output_type": "stream",
     "text": [
      "<_sre.SRE_Match object; span=(12, 17), match='short'>\n"
     ]
    }
   ],
   "source": [
    "print(re.search('short$', 'Life is too short'))"
   ]
  },
  {
   "cell_type": "code",
   "execution_count": 43,
   "metadata": {},
   "outputs": [
    {
     "name": "stdout",
     "output_type": "stream",
     "text": [
      "<_sre.SRE_Match object; span=(3, 8), match='class'>\n"
     ]
    }
   ],
   "source": [
    "p = re.compile(r'\\bclass\\b')\n",
    "print(p.search('no class at all'))"
   ]
  },
  {
   "cell_type": "code",
   "execution_count": null,
   "metadata": {},
   "outputs": [],
   "source": []
  }
 ],
 "metadata": {
  "kernelspec": {
   "display_name": "Python 3",
   "language": "python",
   "name": "python3"
  },
  "language_info": {
   "codemirror_mode": {
    "name": "ipython",
    "version": 3
   },
   "file_extension": ".py",
   "mimetype": "text/x-python",
   "name": "python",
   "nbconvert_exporter": "python",
   "pygments_lexer": "ipython3",
   "version": "3.5.5"
  }
 },
 "nbformat": 4,
 "nbformat_minor": 2
}
