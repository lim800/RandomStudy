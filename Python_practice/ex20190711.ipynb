{
 "cells": [
  {
   "cell_type": "markdown",
   "metadata": {},
   "source": [
    "# TensorFlow"
   ]
  },
  {
   "cell_type": "code",
   "execution_count": 1,
   "metadata": {},
   "outputs": [],
   "source": [
    "import tensorflow as tf"
   ]
  },
  {
   "cell_type": "code",
   "execution_count": 2,
   "metadata": {},
   "outputs": [],
   "source": [
    "x_data = [ [1, 2], [2, 3], [3, 1], [4, 3], [5, 3], [6, 2] ]\n",
    "y_data = [ [0], [0], [0], [1], [1], [1], ]"
   ]
  },
  {
   "cell_type": "code",
   "execution_count": 3,
   "metadata": {},
   "outputs": [],
   "source": [
    "X = tf.placeholder(tf.float32, shape=[None, 2])\n",
    "Y = tf.placeholder(tf.float32, shape=[None, 1])\n",
    "W = tf.Variable(tf.random.normal([2,1]), 'weight')\n",
    "b = tf.Variable(tf.random.normal([1]), 'bias')"
   ]
  },
  {
   "cell_type": "code",
   "execution_count": 7,
   "metadata": {},
   "outputs": [],
   "source": [
    "hypo = tf.sigmoid(tf.matmul(X, W) + b)\n",
    "cost = -tf.reduce_mean(Y * tf.math.log(hypo) + (1-Y) * tf.math.log(1-hypo))\n",
    "opti = tf.train.GradientDescentOptimizer(learning_rate=0.001)\n",
    "train = opti.minimize(cost)"
   ]
  },
  {
   "cell_type": "code",
   "execution_count": 8,
   "metadata": {},
   "outputs": [],
   "source": [
    "pred = tf.cast(hypo > 0.5, dtype=tf.float32)"
   ]
  },
  {
   "cell_type": "code",
   "execution_count": 13,
   "metadata": {},
   "outputs": [],
   "source": [
    "acc = tf.reduce_mean(tf.cast(tf.equal(pred, Y), dtype=tf.float32))\n",
    "with tf.Session() as sess:\n",
    "    sess.run(tf.global_variables_initializer())\n",
    "    for step in range(20001):\n",
    "        cost_val, train_val = sess.run([cost, train], feed_dict={X: x_data, Y: y_data})\n",
    "    hypo_val, pred_val, acc_val = sess.run([hypo, pred, acc], feed_dict={X: x_data, Y: y_data})"
   ]
  },
  {
   "cell_type": "code",
   "execution_count": 14,
   "metadata": {},
   "outputs": [
    {
     "name": "stdout",
     "output_type": "stream",
     "text": [
      "\n",
      "가설: \n",
      " [[0.1958526 ]\n",
      " [0.22343215]\n",
      " [0.7301991 ]\n",
      " [0.6155467 ]\n",
      " [0.7906621 ]\n",
      " [0.94678545]] \n",
      "예측(Y) : \n",
      " [[0.]\n",
      " [0.]\n",
      " [1.]\n",
      " [1.]\n",
      " [1.]\n",
      " [1.]] \n",
      "정확도 : \n",
      " 0.8333333\n"
     ]
    }
   ],
   "source": [
    "print(\"\\n가설: \\n\", hypo_val, \"\\n예측(Y) : \\n\", pred_val, \"\\n정확도 : \\n\", acc_val)"
   ]
  },
  {
   "cell_type": "markdown",
   "metadata": {},
   "source": [
    "## SoftMax"
   ]
  },
  {
   "cell_type": "code",
   "execution_count": 34,
   "metadata": {},
   "outputs": [],
   "source": [
    "csv = pd.read_csv(\"/Users/lesson6_mac/AtomData/python/bmi/bmi.csv\")"
   ]
  },
  {
   "cell_type": "code",
   "execution_count": 35,
   "metadata": {},
   "outputs": [
    {
     "name": "stdout",
     "output_type": "stream",
     "text": [
      "<class 'pandas.core.frame.DataFrame'>\n",
      "RangeIndex: 20000 entries, 0 to 19999\n",
      "Data columns (total 3 columns):\n",
      "height    20000 non-null int64\n",
      "weight    20000 non-null int64\n",
      "label     20000 non-null object\n",
      "dtypes: int64(2), object(1)\n",
      "memory usage: 468.8+ KB\n"
     ]
    }
   ],
   "source": [
    "csv.info()"
   ]
  },
  {
   "cell_type": "code",
   "execution_count": 36,
   "metadata": {
    "scrolled": true
   },
   "outputs": [
    {
     "data": {
      "text/html": [
       "<div>\n",
       "<style scoped>\n",
       "    .dataframe tbody tr th:only-of-type {\n",
       "        vertical-align: middle;\n",
       "    }\n",
       "\n",
       "    .dataframe tbody tr th {\n",
       "        vertical-align: top;\n",
       "    }\n",
       "\n",
       "    .dataframe thead th {\n",
       "        text-align: right;\n",
       "    }\n",
       "</style>\n",
       "<table border=\"1\" class=\"dataframe\">\n",
       "  <thead>\n",
       "    <tr style=\"text-align: right;\">\n",
       "      <th></th>\n",
       "      <th>height</th>\n",
       "      <th>weight</th>\n",
       "    </tr>\n",
       "  </thead>\n",
       "  <tbody>\n",
       "    <tr>\n",
       "      <th>count</th>\n",
       "      <td>20000.000000</td>\n",
       "      <td>20000.000000</td>\n",
       "    </tr>\n",
       "    <tr>\n",
       "      <th>mean</th>\n",
       "      <td>159.927200</td>\n",
       "      <td>57.535000</td>\n",
       "    </tr>\n",
       "    <tr>\n",
       "      <th>std</th>\n",
       "      <td>23.342096</td>\n",
       "      <td>13.285259</td>\n",
       "    </tr>\n",
       "    <tr>\n",
       "      <th>min</th>\n",
       "      <td>120.000000</td>\n",
       "      <td>35.000000</td>\n",
       "    </tr>\n",
       "    <tr>\n",
       "      <th>25%</th>\n",
       "      <td>140.000000</td>\n",
       "      <td>46.000000</td>\n",
       "    </tr>\n",
       "    <tr>\n",
       "      <th>50%</th>\n",
       "      <td>160.000000</td>\n",
       "      <td>58.000000</td>\n",
       "    </tr>\n",
       "    <tr>\n",
       "      <th>75%</th>\n",
       "      <td>180.000000</td>\n",
       "      <td>69.000000</td>\n",
       "    </tr>\n",
       "    <tr>\n",
       "      <th>max</th>\n",
       "      <td>200.000000</td>\n",
       "      <td>80.000000</td>\n",
       "    </tr>\n",
       "  </tbody>\n",
       "</table>\n",
       "</div>"
      ],
      "text/plain": [
       "             height        weight\n",
       "count  20000.000000  20000.000000\n",
       "mean     159.927200     57.535000\n",
       "std       23.342096     13.285259\n",
       "min      120.000000     35.000000\n",
       "25%      140.000000     46.000000\n",
       "50%      160.000000     58.000000\n",
       "75%      180.000000     69.000000\n",
       "max      200.000000     80.000000"
      ]
     },
     "execution_count": 36,
     "metadata": {},
     "output_type": "execute_result"
    }
   ],
   "source": [
    "csv.describe()"
   ]
  },
  {
   "cell_type": "code",
   "execution_count": 37,
   "metadata": {
    "scrolled": true
   },
   "outputs": [
    {
     "data": {
      "text/html": [
       "<div>\n",
       "<style scoped>\n",
       "    .dataframe tbody tr th:only-of-type {\n",
       "        vertical-align: middle;\n",
       "    }\n",
       "\n",
       "    .dataframe tbody tr th {\n",
       "        vertical-align: top;\n",
       "    }\n",
       "\n",
       "    .dataframe thead th {\n",
       "        text-align: right;\n",
       "    }\n",
       "</style>\n",
       "<table border=\"1\" class=\"dataframe\">\n",
       "  <thead>\n",
       "    <tr style=\"text-align: right;\">\n",
       "      <th></th>\n",
       "      <th>height</th>\n",
       "      <th>weight</th>\n",
       "      <th>label</th>\n",
       "    </tr>\n",
       "  </thead>\n",
       "  <tbody>\n",
       "    <tr>\n",
       "      <th>0</th>\n",
       "      <td>142</td>\n",
       "      <td>62</td>\n",
       "      <td>fat</td>\n",
       "    </tr>\n",
       "    <tr>\n",
       "      <th>1</th>\n",
       "      <td>142</td>\n",
       "      <td>73</td>\n",
       "      <td>fat</td>\n",
       "    </tr>\n",
       "    <tr>\n",
       "      <th>2</th>\n",
       "      <td>177</td>\n",
       "      <td>61</td>\n",
       "      <td>normal</td>\n",
       "    </tr>\n",
       "    <tr>\n",
       "      <th>3</th>\n",
       "      <td>187</td>\n",
       "      <td>48</td>\n",
       "      <td>thin</td>\n",
       "    </tr>\n",
       "    <tr>\n",
       "      <th>4</th>\n",
       "      <td>153</td>\n",
       "      <td>60</td>\n",
       "      <td>fat</td>\n",
       "    </tr>\n",
       "  </tbody>\n",
       "</table>\n",
       "</div>"
      ],
      "text/plain": [
       "   height  weight   label\n",
       "0     142      62     fat\n",
       "1     142      73     fat\n",
       "2     177      61  normal\n",
       "3     187      48    thin\n",
       "4     153      60     fat"
      ]
     },
     "execution_count": 37,
     "metadata": {},
     "output_type": "execute_result"
    }
   ],
   "source": [
    "csv.head()"
   ]
  },
  {
   "cell_type": "code",
   "execution_count": 38,
   "metadata": {},
   "outputs": [],
   "source": [
    "csv['height'] = csv['height']/200\n",
    "csv['weight'] = csv['weight']/100"
   ]
  },
  {
   "cell_type": "code",
   "execution_count": 39,
   "metadata": {},
   "outputs": [
    {
     "data": {
      "text/html": [
       "<div>\n",
       "<style scoped>\n",
       "    .dataframe tbody tr th:only-of-type {\n",
       "        vertical-align: middle;\n",
       "    }\n",
       "\n",
       "    .dataframe tbody tr th {\n",
       "        vertical-align: top;\n",
       "    }\n",
       "\n",
       "    .dataframe thead th {\n",
       "        text-align: right;\n",
       "    }\n",
       "</style>\n",
       "<table border=\"1\" class=\"dataframe\">\n",
       "  <thead>\n",
       "    <tr style=\"text-align: right;\">\n",
       "      <th></th>\n",
       "      <th>height</th>\n",
       "      <th>weight</th>\n",
       "      <th>label</th>\n",
       "    </tr>\n",
       "  </thead>\n",
       "  <tbody>\n",
       "    <tr>\n",
       "      <th>0</th>\n",
       "      <td>0.710</td>\n",
       "      <td>0.62</td>\n",
       "      <td>fat</td>\n",
       "    </tr>\n",
       "    <tr>\n",
       "      <th>1</th>\n",
       "      <td>0.710</td>\n",
       "      <td>0.73</td>\n",
       "      <td>fat</td>\n",
       "    </tr>\n",
       "    <tr>\n",
       "      <th>2</th>\n",
       "      <td>0.885</td>\n",
       "      <td>0.61</td>\n",
       "      <td>normal</td>\n",
       "    </tr>\n",
       "    <tr>\n",
       "      <th>3</th>\n",
       "      <td>0.935</td>\n",
       "      <td>0.48</td>\n",
       "      <td>thin</td>\n",
       "    </tr>\n",
       "    <tr>\n",
       "      <th>4</th>\n",
       "      <td>0.765</td>\n",
       "      <td>0.60</td>\n",
       "      <td>fat</td>\n",
       "    </tr>\n",
       "  </tbody>\n",
       "</table>\n",
       "</div>"
      ],
      "text/plain": [
       "   height  weight   label\n",
       "0   0.710    0.62     fat\n",
       "1   0.710    0.73     fat\n",
       "2   0.885    0.61  normal\n",
       "3   0.935    0.48    thin\n",
       "4   0.765    0.60     fat"
      ]
     },
     "execution_count": 39,
     "metadata": {},
     "output_type": "execute_result"
    }
   ],
   "source": [
    "csv.head()"
   ]
  },
  {
   "cell_type": "code",
   "execution_count": 40,
   "metadata": {},
   "outputs": [],
   "source": [
    "byclass = {\"thin\":[1,0,0], \"normal\":[0,1,0], \"fat\":[0,0,1]}"
   ]
  },
  {
   "cell_type": "code",
   "execution_count": 41,
   "metadata": {
    "scrolled": true
   },
   "outputs": [
    {
     "name": "stdout",
     "output_type": "stream",
     "text": [
      "0        [0, 0, 1]\n",
      "1        [0, 0, 1]\n",
      "2        [0, 1, 0]\n",
      "3        [1, 0, 0]\n",
      "4        [0, 0, 1]\n",
      "5        [1, 0, 0]\n",
      "6        [0, 1, 0]\n",
      "7        [1, 0, 0]\n",
      "8        [1, 0, 0]\n",
      "9        [1, 0, 0]\n",
      "10       [0, 0, 1]\n",
      "11       [0, 0, 1]\n",
      "12       [0, 1, 0]\n",
      "13       [1, 0, 0]\n",
      "14       [0, 0, 1]\n",
      "15       [1, 0, 0]\n",
      "16       [0, 0, 1]\n",
      "17       [0, 0, 1]\n",
      "18       [1, 0, 0]\n",
      "19       [0, 0, 1]\n",
      "20       [0, 0, 1]\n",
      "21       [0, 1, 0]\n",
      "22       [0, 1, 0]\n",
      "23       [1, 0, 0]\n",
      "24       [0, 1, 0]\n",
      "25       [0, 0, 1]\n",
      "26       [1, 0, 0]\n",
      "27       [0, 0, 1]\n",
      "28       [0, 0, 1]\n",
      "29       [1, 0, 0]\n",
      "           ...    \n",
      "19970    [0, 0, 1]\n",
      "19971    [1, 0, 0]\n",
      "19972    [0, 0, 1]\n",
      "19973    [0, 0, 1]\n",
      "19974    [0, 0, 1]\n",
      "19975    [0, 0, 1]\n",
      "19976    [0, 0, 1]\n",
      "19977    [0, 0, 1]\n",
      "19978    [0, 1, 0]\n",
      "19979    [0, 1, 0]\n",
      "19980    [1, 0, 0]\n",
      "19981    [1, 0, 0]\n",
      "19982    [0, 1, 0]\n",
      "19983    [1, 0, 0]\n",
      "19984    [0, 1, 0]\n",
      "19985    [0, 1, 0]\n",
      "19986    [0, 0, 1]\n",
      "19987    [0, 1, 0]\n",
      "19988    [0, 0, 1]\n",
      "19989    [0, 0, 1]\n",
      "19990    [0, 0, 1]\n",
      "19991    [1, 0, 0]\n",
      "19992    [0, 0, 1]\n",
      "19993    [1, 0, 0]\n",
      "19994    [1, 0, 0]\n",
      "19995    [0, 0, 1]\n",
      "19996    [0, 1, 0]\n",
      "19997    [1, 0, 0]\n",
      "19998    [1, 0, 0]\n",
      "19999    [0, 1, 0]\n",
      "Name: label_pat, Length: 20000, dtype: object\n"
     ]
    }
   ],
   "source": [
    "csv['label_pat'] = csv['label'].apply(lambda x : np.array(byclass[x]))\n",
    "print(csv['label_pat'])"
   ]
  },
  {
   "cell_type": "code",
   "execution_count": 42,
   "metadata": {},
   "outputs": [
    {
     "data": {
      "text/html": [
       "<div>\n",
       "<style scoped>\n",
       "    .dataframe tbody tr th:only-of-type {\n",
       "        vertical-align: middle;\n",
       "    }\n",
       "\n",
       "    .dataframe tbody tr th {\n",
       "        vertical-align: top;\n",
       "    }\n",
       "\n",
       "    .dataframe thead th {\n",
       "        text-align: right;\n",
       "    }\n",
       "</style>\n",
       "<table border=\"1\" class=\"dataframe\">\n",
       "  <thead>\n",
       "    <tr style=\"text-align: right;\">\n",
       "      <th></th>\n",
       "      <th>height</th>\n",
       "      <th>weight</th>\n",
       "      <th>label</th>\n",
       "      <th>label_pat</th>\n",
       "    </tr>\n",
       "  </thead>\n",
       "  <tbody>\n",
       "    <tr>\n",
       "      <th>0</th>\n",
       "      <td>0.710</td>\n",
       "      <td>0.62</td>\n",
       "      <td>fat</td>\n",
       "      <td>[0, 0, 1]</td>\n",
       "    </tr>\n",
       "    <tr>\n",
       "      <th>1</th>\n",
       "      <td>0.710</td>\n",
       "      <td>0.73</td>\n",
       "      <td>fat</td>\n",
       "      <td>[0, 0, 1]</td>\n",
       "    </tr>\n",
       "    <tr>\n",
       "      <th>2</th>\n",
       "      <td>0.885</td>\n",
       "      <td>0.61</td>\n",
       "      <td>normal</td>\n",
       "      <td>[0, 1, 0]</td>\n",
       "    </tr>\n",
       "    <tr>\n",
       "      <th>3</th>\n",
       "      <td>0.935</td>\n",
       "      <td>0.48</td>\n",
       "      <td>thin</td>\n",
       "      <td>[1, 0, 0]</td>\n",
       "    </tr>\n",
       "    <tr>\n",
       "      <th>4</th>\n",
       "      <td>0.765</td>\n",
       "      <td>0.60</td>\n",
       "      <td>fat</td>\n",
       "      <td>[0, 0, 1]</td>\n",
       "    </tr>\n",
       "  </tbody>\n",
       "</table>\n",
       "</div>"
      ],
      "text/plain": [
       "   height  weight   label  label_pat\n",
       "0   0.710    0.62     fat  [0, 0, 1]\n",
       "1   0.710    0.73     fat  [0, 0, 1]\n",
       "2   0.885    0.61  normal  [0, 1, 0]\n",
       "3   0.935    0.48    thin  [1, 0, 0]\n",
       "4   0.765    0.60     fat  [0, 0, 1]"
      ]
     },
     "execution_count": 42,
     "metadata": {},
     "output_type": "execute_result"
    }
   ],
   "source": [
    "csv.head()"
   ]
  },
  {
   "cell_type": "code",
   "execution_count": 43,
   "metadata": {},
   "outputs": [],
   "source": [
    "test_csv = csv[5000:20000]\n",
    "test_pat = test_csv[['weight', 'height']]\n",
    "test_ans = list(test_csv['label_pat'])\n",
    "X = tf.placeholder(tf.float32, [None, 2])\n",
    "Y = tf.placeholder(tf.float32, [None, 3])\n",
    "W = tf.Variable(tf.zeros([2,3]))\n",
    "b= tf.Variable(tf.zeros([3]))"
   ]
  },
  {
   "cell_type": "code",
   "execution_count": 45,
   "metadata": {},
   "outputs": [],
   "source": [
    "hypo = tf.nn.softmax(tf.matmul(X, W) + b)"
   ]
  },
  {
   "cell_type": "code",
   "execution_count": 63,
   "metadata": {},
   "outputs": [],
   "source": [
    "cross_entropy = -tf.reduce_sum(Y * tf.math.log(hypo))\n",
    "opti = tf.train.GradientDescentOptimizer(learning_rate=0.01)\n",
    "train = opti.minimize(cross_entropy)\n",
    "predict = tf.equal(tf.argmax(hypo, 1), tf.argmax(Y,1))\n",
    "accuracy = tf.reduce_mean(tf.cast(predict, tf.float32))\n"
   ]
  },
  {
   "cell_type": "code",
   "execution_count": 66,
   "metadata": {},
   "outputs": [
    {
     "name": "stdout",
     "output_type": "stream",
     "text": [
      "0 손실= 108.66269 정확도= 0.32073334\n",
      "500 손실= 57.58866 정확도= 0.8888\n",
      "정답율 = :  0.91833335\n"
     ]
    }
   ],
   "source": [
    "with tf.Session() as sess:\n",
    "    sess.run(tf.global_variables_initializer())\n",
    "    for step in range(1000):\n",
    "        i = (step * 100) % 14000\n",
    "        rows = csv[1 + i : 1 + i +100]\n",
    "        x_pat = rows[[\"weight\", \"height\"]]\n",
    "        y_ans = list(rows[\"label_pat\"])\n",
    "        fd = {X: x_pat, Y: y_ans}\n",
    "        sess.run(train, feed_dict=fd)\n",
    "        if step % 500 == 0:\n",
    "            cre = sess.run(cross_entropy, feed_dict=fd)\n",
    "            acc = sess.run(accuracy, feed_dict={X: test_pat, Y: test_ans}) \n",
    "            print(step, \"손실=\", cre, \"정확도=\", acc)\n",
    "    acc = sess.run(accuracy, feed_dict={X: test_pat, Y: test_ans})\n",
    "    print('정답율 = : ', acc)"
   ]
  },
  {
   "cell_type": "code",
   "execution_count": null,
   "metadata": {},
   "outputs": [],
   "source": []
  }
 ],
 "metadata": {
  "kernelspec": {
   "display_name": "Python 3",
   "language": "python",
   "name": "python3"
  },
  "language_info": {
   "codemirror_mode": {
    "name": "ipython",
    "version": 3
   },
   "file_extension": ".py",
   "mimetype": "text/x-python",
   "name": "python",
   "nbconvert_exporter": "python",
   "pygments_lexer": "ipython3",
   "version": "3.5.5"
  }
 },
 "nbformat": 4,
 "nbformat_minor": 2
}
