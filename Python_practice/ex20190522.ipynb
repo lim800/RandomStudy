{
 "cells": [
  {
   "cell_type": "markdown",
   "metadata": {},
   "source": [
    "# OS 모듈"
   ]
  },
  {
   "cell_type": "code",
   "execution_count": 2,
   "metadata": {},
   "outputs": [
    {
     "name": "stdout",
     "output_type": "stream",
     "text": [
      "/Users/lesson6_mac/AtomData/python\n"
     ]
    },
    {
     "data": {
      "text/plain": [
       "32512"
      ]
     },
     "execution_count": 2,
     "metadata": {},
     "output_type": "execute_result"
    }
   ],
   "source": [
    "import os\n",
    "print((os.getcwd()))\n",
    "os.system('calc')"
   ]
  },
  {
   "cell_type": "code",
   "execution_count": 7,
   "metadata": {},
   "outputs": [
    {
     "name": "stdout",
     "output_type": "stream",
     "text": [
      "algo.ipynb\n",
      "ex20190508.ipynb\n",
      "ex20190509.ipynb\n",
      "ex20190513.ipynb\n",
      "ex20190514.ipynb\n",
      "ex20190515.ipynb\n",
      "ex20190516.ipynb\n",
      "ex20190517.ipynb\n",
      "ex20190520.ipynb\n",
      "ex20190521.ipynb\n",
      "ex20190522.ipynb\n",
      "pythontest.txt\n",
      "\n"
     ]
    }
   ],
   "source": [
    "f = os.popen('ls')\n",
    "print(f.read())"
   ]
  },
  {
   "cell_type": "markdown",
   "metadata": {},
   "source": [
    "실행 디렉토리 변경"
   ]
  },
  {
   "cell_type": "code",
   "execution_count": 8,
   "metadata": {
    "scrolled": true
   },
   "outputs": [
    {
     "name": "stdout",
     "output_type": "stream",
     "text": [
      "/Users/lesson6_mac\n"
     ]
    }
   ],
   "source": [
    "os.chdir('/Users/lesson6_mac')\n",
    "print(os.getcwd())"
   ]
  },
  {
   "cell_type": "markdown",
   "metadata": {},
   "source": [
    "명령프롬프트 명령어 사용"
   ]
  },
  {
   "cell_type": "code",
   "execution_count": 9,
   "metadata": {},
   "outputs": [
    {
     "name": "stdout",
     "output_type": "stream",
     "text": [
      "Applications\n",
      "AtomData\n",
      "Desktop\n",
      "Documents\n",
      "Downloads\n",
      "Library\n",
      "Movies\n",
      "Music\n",
      "Pictures\n",
      "Public\n",
      "Wine Files\n",
      "apache-maven\n",
      "eclipse-workspace\n",
      "git_work\n",
      "nltk_data\n",
      "spring-workspace\n",
      "temp\n",
      "\n"
     ]
    }
   ],
   "source": [
    "f = os.popen('ls')\n",
    "print(f.read())"
   ]
  },
  {
   "cell_type": "code",
   "execution_count": 11,
   "metadata": {},
   "outputs": [
    {
     "name": "stdout",
     "output_type": "stream",
     "text": [
      "/Users/lesson6_mac/AtomData/python\n"
     ]
    }
   ],
   "source": [
    "os.chdir('/Users/lesson6_mac/AtomData/python')\n",
    "print(os.getcwd())"
   ]
  },
  {
   "cell_type": "code",
   "execution_count": 14,
   "metadata": {},
   "outputs": [],
   "source": [
    "# renames는 없는 폴더도 생성해줌 vs rename은 안해줌\n",
    "\n",
    "os.rename('pythontest.html', 'pythontest.txt')"
   ]
  },
  {
   "cell_type": "code",
   "execution_count": 15,
   "metadata": {},
   "outputs": [],
   "source": [
    "with open('pythontest.txt', 'w') as tt:\n",
    "    tt.write('testing...')"
   ]
  },
  {
   "cell_type": "code",
   "execution_count": 16,
   "metadata": {},
   "outputs": [],
   "source": [
    "os.renames('pythontest.txt', 'pythontest.html')"
   ]
  },
  {
   "cell_type": "code",
   "execution_count": 18,
   "metadata": {},
   "outputs": [
    {
     "name": "stdout",
     "output_type": "stream",
     "text": [
      ".\n",
      "..\n"
     ]
    }
   ],
   "source": [
    "print(os.curdir)\n",
    "print(os.pardir)"
   ]
  },
  {
   "cell_type": "markdown",
   "metadata": {},
   "source": [
    "디렉토리 생성"
   ]
  },
  {
   "cell_type": "code",
   "execution_count": 19,
   "metadata": {},
   "outputs": [],
   "source": [
    "os.mkdir('one')\n",
    "os.makedirs('two/three')"
   ]
  },
  {
   "cell_type": "markdown",
   "metadata": {},
   "source": [
    "디렉토리 삭제"
   ]
  },
  {
   "cell_type": "code",
   "execution_count": 21,
   "metadata": {},
   "outputs": [],
   "source": [
    "os.rmdir('one')"
   ]
  },
  {
   "cell_type": "code",
   "execution_count": 24,
   "metadata": {},
   "outputs": [],
   "source": [
    "os.rmdir('two/three')"
   ]
  },
  {
   "cell_type": "code",
   "execution_count": 23,
   "metadata": {},
   "outputs": [
    {
     "ename": "OSError",
     "evalue": "[Errno 66] Directory not empty: 'two'",
     "output_type": "error",
     "traceback": [
      "\u001b[0;31m---------------------------------------------------------------------------\u001b[0m",
      "\u001b[0;31mOSError\u001b[0m                                   Traceback (most recent call last)",
      "\u001b[0;32m<ipython-input-23-3d5ba4917b07>\u001b[0m in \u001b[0;36m<module>\u001b[0;34m()\u001b[0m\n\u001b[0;32m----> 1\u001b[0;31m \u001b[0mos\u001b[0m\u001b[0;34m.\u001b[0m\u001b[0mremovedirs\u001b[0m\u001b[0;34m(\u001b[0m\u001b[0;34m'two'\u001b[0m\u001b[0;34m)\u001b[0m\u001b[0;34m\u001b[0m\u001b[0m\n\u001b[0m",
      "\u001b[0;32m/anaconda3/lib/python3.5/os.py\u001b[0m in \u001b[0;36mremovedirs\u001b[0;34m(name)\u001b[0m\n\u001b[1;32m    257\u001b[0m \u001b[0;34m\u001b[0m\u001b[0m\n\u001b[1;32m    258\u001b[0m     \"\"\"\n\u001b[0;32m--> 259\u001b[0;31m     \u001b[0mrmdir\u001b[0m\u001b[0;34m(\u001b[0m\u001b[0mname\u001b[0m\u001b[0;34m)\u001b[0m\u001b[0;34m\u001b[0m\u001b[0m\n\u001b[0m\u001b[1;32m    260\u001b[0m     \u001b[0mhead\u001b[0m\u001b[0;34m,\u001b[0m \u001b[0mtail\u001b[0m \u001b[0;34m=\u001b[0m \u001b[0mpath\u001b[0m\u001b[0;34m.\u001b[0m\u001b[0msplit\u001b[0m\u001b[0;34m(\u001b[0m\u001b[0mname\u001b[0m\u001b[0;34m)\u001b[0m\u001b[0;34m\u001b[0m\u001b[0m\n\u001b[1;32m    261\u001b[0m     \u001b[0;32mif\u001b[0m \u001b[0;32mnot\u001b[0m \u001b[0mtail\u001b[0m\u001b[0;34m:\u001b[0m\u001b[0;34m\u001b[0m\u001b[0m\n",
      "\u001b[0;31mOSError\u001b[0m: [Errno 66] Directory not empty: 'two'"
     ]
    }
   ],
   "source": [
    "os.removedirs('two')"
   ]
  },
  {
   "cell_type": "markdown",
   "metadata": {},
   "source": [
    "walk 메소드: 재귀적으로 인자인 경로부터 모든 하위 디렉토리 및 파일을 탐색"
   ]
  },
  {
   "cell_type": "code",
   "execution_count": 25,
   "metadata": {},
   "outputs": [
    {
     "data": {
      "text/plain": [
       "<generator object walk at 0x114639570>"
      ]
     },
     "execution_count": 25,
     "metadata": {},
     "output_type": "execute_result"
    }
   ],
   "source": [
    "os.walk('/Users/Lesson6_mac/AtomData')"
   ]
  },
  {
   "cell_type": "code",
   "execution_count": 27,
   "metadata": {},
   "outputs": [
    {
     "name": "stdout",
     "output_type": "stream",
     "text": [
      "탐색중인 디렉토리 경로:  /Users/Lesson6_mac/AtomData\n",
      "하위 디렉토리:  ['python']\n",
      "파일 리스트:  ['.DS_Store']\n",
      "탐색중인 디렉토리 경로:  /Users/Lesson6_mac/AtomData/python\n",
      "하위 디렉토리:  ['two', '.ipynb_checkpoints']\n",
      "파일 리스트:  ['ex20190508.ipynb', 'ex20190513.ipynb', '.DS_Store', 'ex20190517.ipynb', 'ex20190515.ipynb', 'ex20190509.ipynb', 'ex20190514.ipynb', 'ex20190516.ipynb', 'ex20190521.ipynb', 'pythontest.html', 'algo.ipynb', 'ex20190522.ipynb', 'ex20190520.ipynb']\n",
      "탐색중인 디렉토리 경로:  /Users/Lesson6_mac/AtomData/python/two\n",
      "하위 디렉토리:  []\n",
      "파일 리스트:  []\n",
      "탐색중인 디렉토리 경로:  /Users/Lesson6_mac/AtomData/python/.ipynb_checkpoints\n",
      "하위 디렉토리:  []\n",
      "파일 리스트:  ['ex20190514-checkpoint.ipynb', 'ex20190521-checkpoint.ipynb', 'ex20190515-checkpoint.ipynb', 'ex20190520-checkpoint.ipynb', 'algo-checkpoint.ipynb', 'ex20190509-checkpoint.ipynb', 'ex20190516-checkpoint.ipynb', 'ex20190522-checkpoint.ipynb', 'ex20190517-checkpoint.ipynb', 'ex20190508-checkpoint.ipynb', 'ex20190513-checkpoint.ipynb']\n"
     ]
    }
   ],
   "source": [
    "for dirp, dirn, filen in os.walk('/Users/Lesson6_mac/AtomData'):\n",
    "    print('탐색중인 디렉토리 경로: ',dirp)\n",
    "    print('하위 디렉토리: ',dirn)\n",
    "    print('파일 리스트: ',filen)"
   ]
  },
  {
   "cell_type": "markdown",
   "metadata": {},
   "source": [
    "listdir 메소드: 절대경로 혹은 상대경로를 사용해서 파일 목록을 리스트로 반환"
   ]
  },
  {
   "cell_type": "code",
   "execution_count": 33,
   "metadata": {},
   "outputs": [
    {
     "name": "stdout",
     "output_type": "stream",
     "text": [
      "/Users/lesson6_mac/AtomData/python\n"
     ]
    },
    {
     "data": {
      "text/plain": [
       "['ex20190508.ipynb',\n",
       " 'ex20190513.ipynb',\n",
       " '.DS_Store',\n",
       " 'ex20190517.ipynb',\n",
       " 'ex20190515.ipynb',\n",
       " 'ex20190509.ipynb',\n",
       " 'ex20190514.ipynb',\n",
       " 'ex20190516.ipynb',\n",
       " 'ex20190521.ipynb',\n",
       " 'pythontest.html',\n",
       " 'two',\n",
       " '.ipynb_checkpoints',\n",
       " 'algo.ipynb',\n",
       " 'ex20190522.ipynb',\n",
       " 'ex20190520.ipynb']"
      ]
     },
     "execution_count": 33,
     "metadata": {},
     "output_type": "execute_result"
    }
   ],
   "source": [
    "# 현재경로\n",
    "print(os.getcwd())\n",
    "os.listdir()"
   ]
  },
  {
   "cell_type": "code",
   "execution_count": 36,
   "metadata": {},
   "outputs": [
    {
     "data": {
      "text/plain": [
       "['ex20190508.ipynb',\n",
       " 'ex20190513.ipynb',\n",
       " '.DS_Store',\n",
       " 'ex20190517.ipynb',\n",
       " 'ex20190515.ipynb',\n",
       " 'ex20190509.ipynb',\n",
       " 'ex20190514.ipynb',\n",
       " 'ex20190516.ipynb',\n",
       " 'ex20190521.ipynb',\n",
       " 'pythontest.html',\n",
       " 'two',\n",
       " '.ipynb_checkpoints',\n",
       " 'algo.ipynb',\n",
       " 'ex20190522.ipynb',\n",
       " 'ex20190520.ipynb']"
      ]
     },
     "execution_count": 36,
     "metadata": {},
     "output_type": "execute_result"
    }
   ],
   "source": [
    "# 현재경로\n",
    "os.listdir('./')"
   ]
  },
  {
   "cell_type": "code",
   "execution_count": 37,
   "metadata": {},
   "outputs": [
    {
     "data": {
      "text/plain": [
       "['ex20190508.ipynb',\n",
       " 'ex20190513.ipynb',\n",
       " '.DS_Store',\n",
       " 'ex20190517.ipynb',\n",
       " 'ex20190515.ipynb',\n",
       " 'ex20190509.ipynb',\n",
       " 'ex20190514.ipynb',\n",
       " 'ex20190516.ipynb',\n",
       " 'ex20190521.ipynb',\n",
       " 'pythontest.html',\n",
       " 'two',\n",
       " '.ipynb_checkpoints',\n",
       " 'algo.ipynb',\n",
       " 'ex20190522.ipynb',\n",
       " 'ex20190520.ipynb']"
      ]
     },
     "execution_count": 37,
     "metadata": {},
     "output_type": "execute_result"
    }
   ],
   "source": [
    "# 현재경로\n",
    "os.listdir('.')"
   ]
  },
  {
   "cell_type": "code",
   "execution_count": 38,
   "metadata": {},
   "outputs": [
    {
     "data": {
      "text/plain": [
       "['.DS_Store', 'python']"
      ]
     },
     "execution_count": 38,
     "metadata": {},
     "output_type": "execute_result"
    }
   ],
   "source": [
    "# 현재의 부모경로\n",
    "os.listdir('../')"
   ]
  },
  {
   "cell_type": "code",
   "execution_count": 30,
   "metadata": {},
   "outputs": [
    {
     "data": {
      "text/plain": [
       "['home',\n",
       " 'usr',\n",
       " '.Spotlight-V100',\n",
       " 'net',\n",
       " '.DS_Store',\n",
       " '.PKInstallSandboxManager',\n",
       " '.PKInstallSandboxManager-SystemSoftware',\n",
       " 'bin',\n",
       " 'installer.failurerequests',\n",
       " 'Network',\n",
       " 'sbin',\n",
       " '.file',\n",
       " 'etc',\n",
       " 'var',\n",
       " 'Library',\n",
       " 'System',\n",
       " 'vm',\n",
       " '.OSInstallerMessages',\n",
       " '.fseventsd',\n",
       " 'private',\n",
       " '.DocumentRevisions-V100',\n",
       " '.vol',\n",
       " 'Users',\n",
       " 'Applications',\n",
       " 'dev',\n",
       " 'Volumes',\n",
       " 'anaconda3',\n",
       " 'tmp',\n",
       " 'cores']"
      ]
     },
     "execution_count": 30,
     "metadata": {},
     "output_type": "execute_result"
    }
   ],
   "source": [
    "# 절대경로\n",
    "os.listdir('/')"
   ]
  },
  {
   "cell_type": "markdown",
   "metadata": {},
   "source": [
    "현재/부모 디렉토리 표시"
   ]
  },
  {
   "cell_type": "code",
   "execution_count": 39,
   "metadata": {},
   "outputs": [
    {
     "name": "stdout",
     "output_type": "stream",
     "text": [
      ".\n",
      "..\n"
     ]
    }
   ],
   "source": [
    "print(os.curdir)\n",
    "print(os.pardir)"
   ]
  },
  {
   "cell_type": "markdown",
   "metadata": {},
   "source": [
    "디렉토리 구분자"
   ]
  },
  {
   "cell_type": "code",
   "execution_count": 41,
   "metadata": {},
   "outputs": [
    {
     "name": "stdout",
     "output_type": "stream",
     "text": [
      "/\n"
     ]
    }
   ],
   "source": [
    "print(os.sep)"
   ]
  },
  {
   "cell_type": "markdown",
   "metadata": {},
   "source": [
    "## os.path 모듈"
   ]
  },
  {
   "cell_type": "code",
   "execution_count": 42,
   "metadata": {},
   "outputs": [],
   "source": [
    "import os.path as op"
   ]
  },
  {
   "cell_type": "markdown",
   "metadata": {},
   "source": [
    "abspath 메소드: 인자인 상대경로를 절대경로로 변경함"
   ]
  },
  {
   "cell_type": "code",
   "execution_count": 43,
   "metadata": {},
   "outputs": [
    {
     "name": "stdout",
     "output_type": "stream",
     "text": [
      "/Users/lesson6_mac/AtomData/python/pythontest.txt\n"
     ]
    }
   ],
   "source": [
    "print(op.abspath('pythontest.txt'))"
   ]
  },
  {
   "cell_type": "markdown",
   "metadata": {},
   "source": [
    "basename : 파일명을 추출"
   ]
  },
  {
   "cell_type": "code",
   "execution_count": 46,
   "metadata": {
    "scrolled": true
   },
   "outputs": [
    {
     "name": "stdout",
     "output_type": "stream",
     "text": [
      "pythontest.txt\n"
     ]
    }
   ],
   "source": [
    "print(op.basename('/Users/lesson6_mac/AtomData/python/pythontest.txt'))"
   ]
  },
  {
   "cell_type": "markdown",
   "metadata": {},
   "source": [
    "commonprefix : 인자인 경로 리스트로부터 공통 접두사를 추출해서 반환"
   ]
  },
  {
   "cell_type": "code",
   "execution_count": 48,
   "metadata": {},
   "outputs": [
    {
     "name": "stdout",
     "output_type": "stream",
     "text": [
      "random\n"
     ]
    }
   ],
   "source": [
    "print(op.commonprefix(['randomnames', 'randomage']))"
   ]
  },
  {
   "cell_type": "markdown",
   "metadata": {},
   "source": [
    "dirname : 인자에서 디렉토리 경로 추출 (슬래시'/'로 구분)"
   ]
  },
  {
   "cell_type": "code",
   "execution_count": 50,
   "metadata": {},
   "outputs": [
    {
     "name": "stdout",
     "output_type": "stream",
     "text": [
      "a\n"
     ]
    }
   ],
   "source": [
    "print(op.dirname('a/sdfasdg.txt'))"
   ]
  },
  {
   "cell_type": "markdown",
   "metadata": {},
   "source": [
    "exists : 인자인 파일이 존재 여부를 true/false로 반환"
   ]
  },
  {
   "cell_type": "code",
   "execution_count": 55,
   "metadata": {},
   "outputs": [
    {
     "name": "stdout",
     "output_type": "stream",
     "text": [
      "False\n",
      "True\n"
     ]
    }
   ],
   "source": [
    "print(op.exists('./test.txt'))\n",
    "print(op.exists('./pythontest.html'))"
   ]
  },
  {
   "cell_type": "markdown",
   "metadata": {},
   "source": [
    "expanduser : 인자값 앞에 ~ 부분을 현재 사용자 디렉토리의 절대경로로 대체"
   ]
  },
  {
   "cell_type": "code",
   "execution_count": 57,
   "metadata": {},
   "outputs": [
    {
     "name": "stdout",
     "output_type": "stream",
     "text": [
      "/Users/lesson6_mac/python\n"
     ]
    }
   ],
   "source": [
    "print(op.expanduser('~/python'))"
   ]
  },
  {
   "cell_type": "code",
   "execution_count": 61,
   "metadata": {},
   "outputs": [
    {
     "name": "stdout",
     "output_type": "stream",
     "text": [
      "10\n"
     ]
    }
   ],
   "source": [
    "print(op.getsize('./pythontest.html'))"
   ]
  },
  {
   "cell_type": "markdown",
   "metadata": {},
   "source": [
    "isfile : 인자값이 가르키는것이 파일이면 true 파일이 아니면 false"
   ]
  },
  {
   "cell_type": "code",
   "execution_count": 62,
   "metadata": {},
   "outputs": [
    {
     "name": "stdout",
     "output_type": "stream",
     "text": [
      "False\n",
      "True\n"
     ]
    }
   ],
   "source": [
    "print(op.isfile('./'))\n",
    "print(op.isfile('./pythontest.html'))"
   ]
  },
  {
   "cell_type": "markdown",
   "metadata": {},
   "source": [
    "isdir : 인자값이 가르키는것이 디렉토리면 true 디렉토리가 아니면 false"
   ]
  },
  {
   "cell_type": "code",
   "execution_count": 63,
   "metadata": {},
   "outputs": [
    {
     "name": "stdout",
     "output_type": "stream",
     "text": [
      "True\n",
      "False\n"
     ]
    }
   ],
   "source": [
    "print(op.isdir('./'))\n",
    "print(op.isdir('./pythontest.html'))"
   ]
  },
  {
   "cell_type": "markdown",
   "metadata": {},
   "source": [
    "join : os 형식에 맞게 입력받은 두개의 경로를 연결. 인자들 중에 절대경로가 나오면 그 절대경로로 리셋되어 다음 인자를 연결한다"
   ]
  },
  {
   "cell_type": "code",
   "execution_count": 68,
   "metadata": {},
   "outputs": [
    {
     "name": "stdout",
     "output_type": "stream",
     "text": [
      "/abdasdfa/aaaa\n",
      "/aaaa\n",
      "/abdasdfa/../aaaa\n"
     ]
    }
   ],
   "source": [
    "print(op.join('/abdasdfa', 'aaaa'))\n",
    "print(op.join('/abdasdfa', '/aaaa'))\n",
    "print(op.join('/abdasdfa', '../aaaa'))"
   ]
  },
  {
   "cell_type": "markdown",
   "metadata": {},
   "source": [
    "normpath : 인자로 입력받은 경로를 정규화 함 -> ..이나 . 등 을 없애줌"
   ]
  },
  {
   "cell_type": "code",
   "execution_count": 75,
   "metadata": {},
   "outputs": [
    {
     "name": "stdout",
     "output_type": "stream",
     "text": [
      "/deep/dasdf/hi\n"
     ]
    }
   ],
   "source": [
    "print(op.normpath('/deep/./dasdf//hi'))"
   ]
  },
  {
   "cell_type": "markdown",
   "metadata": {},
   "source": [
    "split : 인자값에서 파일명과 디렉토리 경로를 나눠줌"
   ]
  },
  {
   "cell_type": "code",
   "execution_count": 76,
   "metadata": {},
   "outputs": [
    {
     "name": "stdout",
     "output_type": "stream",
     "text": [
      "('/abc/def', 'test.txt')\n"
     ]
    }
   ],
   "source": [
    "print(op.split('/abc/def/test.txt'))"
   ]
  },
  {
   "cell_type": "markdown",
   "metadata": {},
   "source": [
    "splitext : 인자값에서 확장자를 분리해줌"
   ]
  },
  {
   "cell_type": "code",
   "execution_count": 77,
   "metadata": {},
   "outputs": [
    {
     "name": "stdout",
     "output_type": "stream",
     "text": [
      "('/abc/def/test', '.html')\n"
     ]
    }
   ],
   "source": [
    "print(op.splitext('/abc/def/test.html'))"
   ]
  },
  {
   "cell_type": "markdown",
   "metadata": {},
   "source": [
    "## glob"
   ]
  },
  {
   "cell_type": "code",
   "execution_count": 83,
   "metadata": {},
   "outputs": [
    {
     "name": "stdout",
     "output_type": "stream",
     "text": [
      "['algo.ipynb']\n",
      "['ex20190508.ipynb', 'ex20190513.ipynb', 'ex20190517.ipynb', 'ex20190515.ipynb', 'ex20190509.ipynb', 'ex20190514.ipynb', 'ex20190516.ipynb', 'ex20190521.ipynb', 'algo.ipynb', 'ex20190522.ipynb', 'ex20190520.ipynb']\n",
      "['ex20190508.ipynb', 'ex20190513.ipynb', 'ex20190517.ipynb', 'ex20190515.ipynb', 'ex20190509.ipynb', 'ex20190514.ipynb', 'ex20190516.ipynb', 'ex20190521.ipynb', 'algo.ipynb', 'ex20190522.ipynb', 'ex20190520.ipynb']\n"
     ]
    }
   ],
   "source": [
    "import glob\n",
    "print(glob.glob('a*'))\n",
    "print(glob.glob('*b'))\n",
    "print(glob.glob('*i*'))"
   ]
  },
  {
   "cell_type": "code",
   "execution_count": 87,
   "metadata": {},
   "outputs": [
    {
     "name": "stdout",
     "output_type": "stream",
     "text": [
      "['12.txt']\n",
      "[]\n"
     ]
    }
   ],
   "source": [
    "print(glob.glob('??.txt'))\n",
    "print(glob.glob('?.txt'))"
   ]
  },
  {
   "cell_type": "markdown",
   "metadata": {},
   "source": [
    "shutil"
   ]
  },
  {
   "cell_type": "code",
   "execution_count": 3,
   "metadata": {},
   "outputs": [
    {
     "data": {
      "text/plain": [
       "'aa.html'"
      ]
     },
     "execution_count": 3,
     "metadata": {},
     "output_type": "execute_result"
    }
   ],
   "source": [
    "from shutil import copy, copyfile\n",
    "\n",
    "\n",
    "# copy: 내용과 권한 복사\n",
    "copy('pythontest.html', 'copytest.txt')\n",
    "copyfile('pythontest.html', 'aa.html')\n"
   ]
  },
  {
   "cell_type": "code",
   "execution_count": 7,
   "metadata": {},
   "outputs": [
    {
     "data": {
      "text/plain": [
       "'dire/copytest.txt'"
      ]
     },
     "execution_count": 7,
     "metadata": {},
     "output_type": "execute_result"
    }
   ],
   "source": [
    "from shutil import move\n",
    "move('copytest.txt', 'dire')"
   ]
  },
  {
   "cell_type": "code",
   "execution_count": 8,
   "metadata": {},
   "outputs": [],
   "source": [
    "# rmtree : 폴더와 안에 내용 모두 삭제\n",
    "from shutil import rmtree\n",
    "rmtree('dire')"
   ]
  },
  {
   "cell_type": "markdown",
   "metadata": {},
   "source": [
    "## copy 모듈"
   ]
  },
  {
   "cell_type": "markdown",
   "metadata": {},
   "source": [
    "얕은 복사"
   ]
  },
  {
   "cell_type": "code",
   "execution_count": 10,
   "metadata": {},
   "outputs": [
    {
     "name": "stdout",
     "output_type": "stream",
     "text": [
      "[1, [1, 2, 3]]\n",
      "4503589576\n",
      "4504302856\n",
      "[1, [1, 2, 3, 4]]\n",
      "[1, [1, 2, 3, 4]]\n"
     ]
    }
   ],
   "source": [
    "import copy\n",
    "a = [1, [1, 2, 3]]\n",
    "print(a)\n",
    "print(id(a))\n",
    "\n",
    "b = copy.copy(a)\n",
    "print(id(b))\n",
    "\n",
    "b[1].append(4)\n",
    "print(a)\n",
    "print(b)"
   ]
  },
  {
   "cell_type": "code",
   "execution_count": 11,
   "metadata": {},
   "outputs": [
    {
     "name": "stdout",
     "output_type": "stream",
     "text": [
      "[1, [1, 2, 3, 4, 5]]\n",
      "[1, [1, 2, 3, 4, 5]]\n"
     ]
    }
   ],
   "source": [
    "b[1].append(5)\n",
    "print(a)\n",
    "print(b)"
   ]
  },
  {
   "cell_type": "code",
   "execution_count": 14,
   "metadata": {},
   "outputs": [
    {
     "name": "stdout",
     "output_type": "stream",
     "text": [
      "[1, [1, 2, 3]]\n",
      "4503709960\n",
      "[1, [1, 2, 3]]\n",
      "4504276616\n"
     ]
    }
   ],
   "source": [
    "c = [1, [1, 2, 3]]\n",
    "\n",
    "d = c.copy()\n",
    "\n",
    "print(c)\n",
    "print(id(c))\n",
    "print(d)\n",
    "print(id(d))\n"
   ]
  },
  {
   "cell_type": "code",
   "execution_count": 15,
   "metadata": {},
   "outputs": [
    {
     "name": "stdout",
     "output_type": "stream",
     "text": [
      "[1, [1, 2, 3, 3]]\n",
      "[1, [1, 2, 3, 3]]\n"
     ]
    }
   ],
   "source": [
    "d[1].append(3)\n",
    "print(c)\n",
    "print(d)"
   ]
  },
  {
   "cell_type": "code",
   "execution_count": null,
   "metadata": {},
   "outputs": [],
   "source": []
  }
 ],
 "metadata": {
  "kernelspec": {
   "display_name": "Python 3",
   "language": "python",
   "name": "python3"
  },
  "language_info": {
   "codemirror_mode": {
    "name": "ipython",
    "version": 3
   },
   "file_extension": ".py",
   "mimetype": "text/x-python",
   "name": "python",
   "nbconvert_exporter": "python",
   "pygments_lexer": "ipython3",
   "version": "3.5.5"
  }
 },
 "nbformat": 4,
 "nbformat_minor": 2
}
