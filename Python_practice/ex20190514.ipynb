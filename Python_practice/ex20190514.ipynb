{
 "cells": [
  {
   "cell_type": "code",
   "execution_count": 4,
   "metadata": {},
   "outputs": [
    {
     "name": "stdout",
     "output_type": "stream",
     "text": [
      "[2단] 2 x 1 = 2 2 x 2 = 4 2 x 3 = 6 2 x 4 = 8 2 x 5 = 10 2 x 6 = 12 2 x 7 = 14 2 x 8 = 16 2 x 9 = 18 \n",
      "[3단] 3 x 1 = 3 3 x 2 = 6 3 x 3 = 9 3 x 4 = 12 3 x 5 = 15 3 x 6 = 18 3 x 7 = 21 3 x 8 = 24 3 x 9 = 27 \n",
      "[4단] 4 x 1 = 4 4 x 2 = 8 4 x 3 = 12 4 x 4 = 16 4 x 5 = 20 4 x 6 = 24 4 x 7 = 28 4 x 8 = 32 4 x 9 = 36 \n",
      "[5단] 5 x 1 = 5 5 x 2 = 10 5 x 3 = 15 5 x 4 = 20 5 x 5 = 25 5 x 6 = 30 5 x 7 = 35 5 x 8 = 40 5 x 9 = 45 \n",
      "[6단] 6 x 1 = 6 6 x 2 = 12 6 x 3 = 18 6 x 4 = 24 6 x 5 = 30 6 x 6 = 36 6 x 7 = 42 6 x 8 = 48 6 x 9 = 54 \n",
      "[7단] 7 x 1 = 7 7 x 2 = 14 7 x 3 = 21 7 x 4 = 28 7 x 5 = 35 7 x 6 = 42 7 x 7 = 49 7 x 8 = 56 7 x 9 = 63 \n",
      "[8단] 8 x 1 = 8 8 x 2 = 16 8 x 3 = 24 8 x 4 = 32 8 x 5 = 40 8 x 6 = 48 8 x 7 = 56 8 x 8 = 64 8 x 9 = 72 \n",
      "[9단] 9 x 1 = 9 9 x 2 = 18 9 x 3 = 27 9 x 4 = 36 9 x 5 = 45 9 x 6 = 54 9 x 7 = 63 9 x 8 = 72 9 x 9 = 81 \n"
     ]
    }
   ],
   "source": [
    "for x in range(2,10):\n",
    "    print('[' + str(x) + '단]', end=\" \")\n",
    "    for y in range(1,10):\n",
    "        print(x, 'x', y, '=' , x*y, end=' ')\n",
    "    print()"
   ]
  },
  {
   "cell_type": "code",
   "execution_count": 6,
   "metadata": {},
   "outputs": [
    {
     "name": "stdout",
     "output_type": "stream",
     "text": [
      "[3, 6, 9, 12]\n"
     ]
    }
   ],
   "source": [
    "#1\n",
    "a = [1, 2, 3, 4]\n",
    "s = []\n",
    "for i in a:\n",
    "    s.append(i*3)\n",
    "print(s)"
   ]
  },
  {
   "cell_type": "code",
   "execution_count": 7,
   "metadata": {},
   "outputs": [
    {
     "name": "stdout",
     "output_type": "stream",
     "text": [
      "[3, 6, 9, 12]\n"
     ]
    }
   ],
   "source": [
    "#2\n",
    "t = [i*3 for i in a]\n",
    "print(t)"
   ]
  },
  {
   "cell_type": "code",
   "execution_count": 8,
   "metadata": {},
   "outputs": [
    {
     "name": "stdout",
     "output_type": "stream",
     "text": [
      "[('a', 1), ('a', 2), ('a', 3), ('b', 1), ('b', 2), ('b', 3), ('c', 1), ('c', 2), ('c', 3)]\n"
     ]
    }
   ],
   "source": [
    "a = 'abc'\n",
    "b = 1, 2, 3\n",
    "c = [(x,y) for x in a for y in b]\n",
    "print(c)"
   ]
  },
  {
   "cell_type": "code",
   "execution_count": 11,
   "metadata": {},
   "outputs": [
    {
     "name": "stdout",
     "output_type": "stream",
     "text": [
      "[['THE', 'the', 3], ['QUICK', 'quick', 5], ['BROWN', 'brown', 5], ['FOX', 'fox', 3], ['JUMPS', 'jumps', 5], ['OVER', 'over', 4], ['THE', 'the', 3], ['TOM', 'tom', 3], ['DOG', 'dog', 3], ['LARY', 'lary', 4]]\n"
     ]
    }
   ],
   "source": [
    "words = 'The quick brown fox jumps over the Tom dog Lary'.split(' ')\n",
    "s = [[w.upper(), w.lower(), len(w)] for w in words]\n",
    "print(s)\n"
   ]
  },
  {
   "cell_type": "code",
   "execution_count": 12,
   "metadata": {},
   "outputs": [
    {
     "name": "stdout",
     "output_type": "stream",
     "text": [
      "exit\n"
     ]
    }
   ],
   "source": [
    "# while else\n",
    "a = 1\n",
    "while a == 2:\n",
    "    print(a)\n",
    "else: \n",
    "    print('exit')"
   ]
  },
  {
   "cell_type": "code",
   "execution_count": 62,
   "metadata": {
    "scrolled": true
   },
   "outputs": [
    {
     "name": "stdout",
     "output_type": "stream",
     "text": [
      "wrong\n"
     ]
    }
   ],
   "source": [
    "for i in range(10):\n",
    "#     if i > 11:\n",
    "#         break\n",
    "#     print(i)\n",
    "    pass\n",
    "else:\n",
    "    print('wrong')"
   ]
  },
  {
   "cell_type": "code",
   "execution_count": 63,
   "metadata": {
    "scrolled": true
   },
   "outputs": [
    {
     "name": "stdout",
     "output_type": "stream",
     "text": [
      "wrong\n",
      "wrong\n",
      "wrong\n",
      "wrong\n",
      "wrong\n",
      "wrong\n",
      "wrong\n",
      "7\n",
      "8\n",
      "9\n",
      "end\n"
     ]
    }
   ],
   "source": [
    "for i in range(10):\n",
    "    if i > 6:\n",
    "        print(i)\n",
    "    else:\n",
    "        print('wrong')\n",
    "else:\n",
    "    print('end')"
   ]
  },
  {
   "cell_type": "code",
   "execution_count": 27,
   "metadata": {},
   "outputs": [
    {
     "name": "stdout",
     "output_type": "stream",
     "text": [
      "숫자 입력: 2\n",
      "더 작은 수\n",
      "숫자 입력: 1\n",
      "정답\n"
     ]
    }
   ],
   "source": [
    "from random import randint\n",
    "#1부터 10까지 난수 발생\n",
    "n = randint(1,10)\n",
    "\n",
    "while True:\n",
    "    ans = input('숫자 입력: ')\n",
    "    if ans.upper()=='Q':\n",
    "        break\n",
    "    ians = int(ans)\n",
    "    if n == ians:\n",
    "        print('정답')\n",
    "        break\n",
    "    elif n > ians:\n",
    "        print('더 큰 수')\n",
    "    else:\n",
    "        print('더 작은 수')\n",
    "    "
   ]
  },
  {
   "cell_type": "markdown",
   "metadata": {},
   "source": [
    "식권 판매기"
   ]
  },
  {
   "cell_type": "code",
   "execution_count": 72,
   "metadata": {},
   "outputs": [
    {
     "name": "stdout",
     "output_type": "stream",
     "text": [
      "돈을 넣어주어라: 5000\n",
      "식권을 출력합니다\n",
      "돈을 넣어주어라: 5000\n",
      "식권을 출력합니다\n",
      "돈을 넣어주어라: 5000\n",
      "식권을 출력합니다\n",
      "식권이 다 떨어져서 판매 중지\n"
     ]
    }
   ],
   "source": [
    "meal_ticket = 3\n",
    "while True:\n",
    "    money = int(input('돈을 넣어주어라: '))\n",
    "    if money == 5000:\n",
    "        print('식권을 출력합니다')\n",
    "        meal_ticket = meal_ticket - 1\n",
    "    elif money > 5000:\n",
    "        print('거스름돈 {}원을 주고 식권을 출력합니다'.format(money-5000))\n",
    "        meal_ticket = meal_ticket -1\n",
    "    else:\n",
    "        print('돈이 적습니다. {}원을 추가로 더 넣어주세요'.format(5000-money))\n",
    "        #얼마 돈이 적은지 확인하고 나머지를 다시 이력해서 식권을 출력할수 있도록 코딩\n",
    "        left_money = 5000 - money\n",
    "        while True:\n",
    "\n",
    "            extra_money = int(input('추가금액 입금: '))\n",
    "            if extra_money == left_money:\n",
    "                print('식권을 출력합니다')\n",
    "                meal_ticket = meal_ticket - 1\n",
    "                break\n",
    "            elif extra_money > left_money:\n",
    "                print('거스름돈 {}원을 주고 식권을 출력합니다'.format(extra_money - left_money))\n",
    "                meal_ticket = meal_ticket -1\n",
    "                break\n",
    "            else:\n",
    "                left_money = left_money - extra_money\n",
    "                print('돈이 적습니다. {}원을 추가로 더 넣어주세요'.format(left_money))\n",
    "            \n",
    "    if not meal_ticket:\n",
    "        print('식권이 다 떨어져서 판매 중지')\n",
    "        break"
   ]
  },
  {
   "cell_type": "code",
   "execution_count": 74,
   "metadata": {},
   "outputs": [
    {
     "name": "stdout",
     "output_type": "stream",
     "text": [
      "구매할 식권 매수를 입력하세요 : 3\n",
      "돈을 넣어주세요15000\n",
      "식권 3장을 출력합니다\n",
      "식권이 매진되었습니다. 판매 중지\n"
     ]
    }
   ],
   "source": [
    "ticket = 3\n",
    "\n",
    "while True:\n",
    "    tic = int(input('구매할 식권 매수를 입력하세요 : '))\n",
    "    if ticket < tic:\n",
    "        print('남은 식권은 {}장입니다'.format(ticket))\n",
    "        continue\n",
    "    money = int(input('돈을 넣어주세요'))\n",
    "    cost = 5000*tic\n",
    "    if money == cost:\n",
    "        print('식권 {}장을 출력합니다'.format(tic))\n",
    "        ticket -= tic\n",
    "    elif money > cost:\n",
    "        print('거스름돈{}원을 받으세요'.format(money-cost))\n",
    "        print('식권 {}장을 출력합니다'.format(tic))\n",
    "        ticket -= tic\n",
    "    else:\n",
    "        print('{}원이 모자랍니다. 식권은 5000원입니다.'.format((cost-money)))\n",
    "        continue\n",
    "    if not ticket:\n",
    "        print('식권이 매진되었습니다. 판매 중지')\n",
    "        break"
   ]
  },
  {
   "cell_type": "code",
   "execution_count": 2,
   "metadata": {},
   "outputs": [
    {
     "name": "stdout",
     "output_type": "stream",
     "text": [
      "돈을 넣어주어라: 5000\n",
      "식권을 출력합니다\n",
      "돈을 넣어주어라: 5000\n",
      "식권을 출력합니다\n",
      "돈을 넣어주어라: 5000\n",
      "식권을 출력합니다\n",
      "식권이 다 떨어져서 판매 중지\n"
     ]
    }
   ],
   "source": [
    "# money 변수 하나로 하기\n",
    "\n",
    "meal_ticket = 3\n",
    "money = []\n",
    "count = 0\n",
    "x = 1\n",
    "\n",
    "while True:\n",
    "\n",
    "    money.append((int(input('돈을 넣어주어라: '))))\n",
    "    if int(money[count]) == 5000:\n",
    "        print('식권을 출력합니다')\n",
    "        meal_ticket = meal_ticket - 1\n",
    "    elif money[count] > 5000:\n",
    "        print('거스름돈 {}원을 주고 식권을 출력합니다'.format(money[count]-5000))\n",
    "        meal_ticket = meal_ticket -1\n",
    "    else:\n",
    "        print('돈이 적습니다. {}원을 추가로 더 넣어주세요'.format(5000-money[count]))\n",
    "        #얼마 돈이 적은지 확인하고 나머지를 다시 이력해서 식권을 출력할수 있도록 코딩\n",
    "        money[count] = 5000 - money[count]\n",
    "        while True:\n",
    "            money.append(int(input('추가금액 입금: ')))\n",
    "            if money[count + x] == money[count]:\n",
    "                print('식권을 출력합니다')\n",
    "                meal_ticket = meal_ticket - 1\n",
    "                break\n",
    "            elif money[count + x] > money[count]:\n",
    "                print('거스름돈 {}원을 주고 식권을 출력합니다'.format(money[count + x] - money[count]))\n",
    "                meal_ticket = meal_ticket -1\n",
    "                break\n",
    "            else:\n",
    "                money[count] = money[count] - money[count + x]\n",
    "                print('돈이 적습니다. {}원을 추가로 더 넣어주세요'.format(money[count]))\n",
    "                x = x + 1\n",
    "            \n",
    "    if not meal_ticket:\n",
    "        print('식권이 다 떨어져서 판매 중지')\n",
    "        break\n",
    "    count = count+1"
   ]
  },
  {
   "cell_type": "code",
   "execution_count": 85,
   "metadata": {},
   "outputs": [
    {
     "name": "stdout",
     "output_type": "stream",
     "text": [
      "enter: 123\n",
      "None\n"
     ]
    }
   ],
   "source": [
    "aa = []\n",
    "aa = aa.append(input('enter: '))\n",
    "\n",
    "print(aa)\n",
    "\n",
    "# if aa[0] == 300:\n",
    "#     print(\"ok\")"
   ]
  },
  {
   "cell_type": "code",
   "execution_count": 3,
   "metadata": {},
   "outputs": [
    {
     "name": "stdout",
     "output_type": "stream",
     "text": [
      "구매할 식권 매수를 입력하세요 : 2\n",
      "돈을 넣어주세요11000\n",
      "거스름돈1000원을 받으세요\n",
      "식권 2장을 출력합니다\n",
      "구매할 식권 매수를 입력하세요 : 1\n",
      "돈을 넣어주세요2000\n",
      "3000원이 모자랍니다. 식권은 장당 5000원입니다.\n",
      "돈을 더 넣어주세요2000\n",
      "1000원이 모자랍니다. 식권은 장당 5000원입니다.\n",
      "돈을 더 넣어주세요1000\n",
      "식권 1장을 출력합니다\n",
      "식권이 매진되었습니다. 판매 중지\n"
     ]
    }
   ],
   "source": [
    "ticket = 3\n",
    " \n",
    "while True:\n",
    "    tic = int(input('구매할 식권 매수를 입력하세요 : '))\n",
    "    if ticket < tic:\n",
    "        print('남은 식권은 {}장입니다'.format(ticket))\n",
    "        continue\n",
    "    money = int(input('돈을 넣어주세요'))\n",
    "    cost = 5000*tic\n",
    "    while True:\n",
    "        if money == cost:\n",
    "            print('식권 {}장을 출력합니다'.format(tic))\n",
    "            ticket -= tic\n",
    "            break\n",
    "        elif money > cost:\n",
    "            print('거스름돈{}원을 받으세요'.format(money-cost))\n",
    "            print('식권 {}장을 출력합니다'.format(tic))\n",
    "            ticket -= tic\n",
    "            break\n",
    "        elif money < cost:\n",
    "            print('{}원이 모자랍니다. 식권은 장당 5000원입니다.'.format((cost-money)))\n",
    "            money += int(input('돈을 더 넣어주세요'))\n",
    "    if not ticket:\n",
    "        print('식권이 매진되었습니다. 판매 중지')\n",
    "        break"
   ]
  },
  {
   "cell_type": "markdown",
   "metadata": {},
   "source": [
    "### 파이썬 함수"
   ]
  },
  {
   "cell_type": "code",
   "execution_count": 4,
   "metadata": {},
   "outputs": [
    {
     "name": "stdout",
     "output_type": "stream",
     "text": [
      "숫자:  4.4\n",
      "문자열:  onetwo\n",
      "리스트:  ['하나', '둘', '셋']\n"
     ]
    }
   ],
   "source": [
    "def add(a,b):\n",
    "    return a+b\n",
    "print('숫자: ', add(1, 3.4))\n",
    "print('문자열: ', add('one', 'two'))\n",
    "print('리스트: ', add(['하나'],['둘','셋']))"
   ]
  },
  {
   "cell_type": "code",
   "execution_count": 5,
   "metadata": {},
   "outputs": [
    {
     "name": "stdout",
     "output_type": "stream",
     "text": [
      "결과:  4\n"
     ]
    }
   ],
   "source": [
    "def absuse(x):\n",
    "    if x < 0 :\n",
    "        x = -x\n",
    "        return x\n",
    "print('결과: ' , absuse(-4))"
   ]
  },
  {
   "cell_type": "code",
   "execution_count": 6,
   "metadata": {},
   "outputs": [
    {
     "name": "stdout",
     "output_type": "stream",
     "text": [
      "안녕\n"
     ]
    }
   ],
   "source": [
    "def say():\n",
    "    return '안녕'\n",
    "call = say()\n",
    "print(call)"
   ]
  },
  {
   "cell_type": "code",
   "execution_count": 7,
   "metadata": {},
   "outputs": [
    {
     "name": "stdout",
     "output_type": "stream",
     "text": [
      "hello\n"
     ]
    }
   ],
   "source": [
    "def say():\n",
    "    print(\"hello\")\n",
    "say()"
   ]
  },
  {
   "cell_type": "code",
   "execution_count": 8,
   "metadata": {},
   "outputs": [
    {
     "name": "stdout",
     "output_type": "stream",
     "text": [
      "None\n"
     ]
    }
   ],
   "source": [
    "def say():\n",
    "    pass\n",
    "print(say())"
   ]
  },
  {
   "cell_type": "code",
   "execution_count": 9,
   "metadata": {},
   "outputs": [
    {
     "name": "stdout",
     "output_type": "stream",
     "text": [
      "None\n"
     ]
    }
   ],
   "source": [
    "def use():\n",
    "    return\n",
    "print(use())"
   ]
  },
  {
   "cell_type": "code",
   "execution_count": 10,
   "metadata": {},
   "outputs": [
    {
     "name": "stdout",
     "output_type": "stream",
     "text": [
      "리스트 길이 반환:  [6, 5, 7, 5]\n"
     ]
    }
   ],
   "source": [
    "def length_list(a):\n",
    "    empty_list=[]\n",
    "    for i in a:\n",
    "        empty_list.append(len(i))\n",
    "    return empty_list\n",
    "a = ['python', 'pyson', 'pythong', 'pydon']\n",
    "print('리스트 길이 반환: ', length_list(a))"
   ]
  },
  {
   "cell_type": "code",
   "execution_count": 11,
   "metadata": {},
   "outputs": [
    {
     "name": "stdout",
     "output_type": "stream",
     "text": [
      "리스트 길이 내포문을 통한 반환:  [6, 5, 7, 5]\n"
     ]
    }
   ],
   "source": [
    "a = ['python', 'pyson', 'pythong', 'pydon']\n",
    "print('리스트 길이 내포문을 통한 반환: ', [len(i) for i in a])"
   ]
  },
  {
   "cell_type": "markdown",
   "metadata": {},
   "source": [
    "멤버 관리"
   ]
  },
  {
   "cell_type": "code",
   "execution_count": 20,
   "metadata": {},
   "outputs": [
    {
     "name": "stdout",
     "output_type": "stream",
     "text": [
      "회원 입력하세요: q\n"
     ]
    }
   ],
   "source": [
    "#등록된 회원이 있으면 등록을 하지 않는다\n",
    "\n",
    "def add_member(member_list, new_members):\n",
    "\n",
    "    if not new_members in member_list:\n",
    "        member_list.append(new_members)\n",
    "        print(id(member_list))\n",
    "    else:\n",
    "        print('already registered')\n",
    "    return member_list\n",
    "\n",
    "member_list = ['amen', 'beckor']\n",
    "while True:\n",
    "    new_members = input('회원 입력하세요: ')\n",
    "    if new_members == 'q':\n",
    "        break\n",
    "    add_member(member_list, new_members)\n",
    "    print(id(member_list))\n",
    "    print(id(new_members))\n",
    "    if member_list == new_members:\n",
    "        pass\n"
   ]
  },
  {
   "cell_type": "code",
   "execution_count": 21,
   "metadata": {},
   "outputs": [
    {
     "name": "stdout",
     "output_type": "stream",
     "text": [
      "a 객체의 레퍼런스:  4305478224\n",
      "b 객체의 레퍼런스:  4305478224\n",
      "b 객체 출력값:  200\n"
     ]
    }
   ],
   "source": [
    "def use(b):\n",
    "    print('b 객체의 레퍼런스: ', id(b))\n",
    "    print('b 객체 출력값: ', b)\n",
    "a = 200\n",
    "print('a 객체의 레퍼런스: ', id(a))\n",
    "use(a)"
   ]
  },
  {
   "cell_type": "code",
   "execution_count": 22,
   "metadata": {},
   "outputs": [
    {
     "name": "stdout",
     "output_type": "stream",
     "text": [
      "b 객체 출력값:  abc\n"
     ]
    }
   ],
   "source": [
    "def use(b):\n",
    "    print('b 객체 출력값: ', b)\n",
    "a = 'abc'\n",
    "use(a)"
   ]
  },
  {
   "cell_type": "code",
   "execution_count": 23,
   "metadata": {},
   "outputs": [
    {
     "name": "stdout",
     "output_type": "stream",
     "text": [
      "b 객체 출력값:  [1, 2, 3]\n"
     ]
    }
   ],
   "source": [
    "def use(b):\n",
    "    print('b 객체 출력값: ', b)\n",
    "a = [1,2,3]\n",
    "use(a)"
   ]
  },
  {
   "cell_type": "code",
   "execution_count": 24,
   "metadata": {},
   "outputs": [
    {
     "name": "stdout",
     "output_type": "stream",
     "text": [
      "b 객체 출력값:  (1, 2, 3)\n"
     ]
    }
   ],
   "source": [
    "def use(b):\n",
    "    print('b 객체 출력값: ', b)\n",
    "a = (1,2,3)\n",
    "use(a)"
   ]
  },
  {
   "cell_type": "code",
   "execution_count": 25,
   "metadata": {},
   "outputs": [
    {
     "name": "stdout",
     "output_type": "stream",
     "text": [
      "b 객체 출력값:  {'a': 1}\n"
     ]
    }
   ],
   "source": [
    "def use(b):\n",
    "    print('b 객체 출력값: ', b)\n",
    "a = {'a': 1}\n",
    "use(a)"
   ]
  },
  {
   "cell_type": "code",
   "execution_count": 26,
   "metadata": {},
   "outputs": [
    {
     "name": "stdout",
     "output_type": "stream",
     "text": [
      "a 객체 출력값:  [1, 10, 3]\n"
     ]
    }
   ],
   "source": [
    "def use(b):\n",
    "    b[1] = 10\n",
    "    \n",
    "a = [1,2,3]\n",
    "use(a)\n",
    "print('a 객체 출력값: ', a)"
   ]
  },
  {
   "cell_type": "code",
   "execution_count": 27,
   "metadata": {},
   "outputs": [
    {
     "name": "stdout",
     "output_type": "stream",
     "text": [
      "a 객체 출력값:  {'a': 10}\n"
     ]
    }
   ],
   "source": [
    "def use(b):\n",
    "    b['a'] = 10\n",
    "    \n",
    "a = {'a': 1}\n",
    "use(a)\n",
    "print('a 객체 출력값: ', a)"
   ]
  },
  {
   "cell_type": "code",
   "execution_count": null,
   "metadata": {},
   "outputs": [],
   "source": []
  }
 ],
 "metadata": {
  "kernelspec": {
   "display_name": "Python 3",
   "language": "python",
   "name": "python3"
  },
  "language_info": {
   "codemirror_mode": {
    "name": "ipython",
    "version": 3
   },
   "file_extension": ".py",
   "mimetype": "text/x-python",
   "name": "python",
   "nbconvert_exporter": "python",
   "pygments_lexer": "ipython3",
   "version": "3.5.5"
  }
 },
 "nbformat": 4,
 "nbformat_minor": 2
}
