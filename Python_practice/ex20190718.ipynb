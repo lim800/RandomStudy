{
 "cells": [
  {
   "cell_type": "markdown",
   "metadata": {},
   "source": [
    "# 마르코프 체인"
   ]
  },
  {
   "cell_type": "code",
   "execution_count": 1,
   "metadata": {},
   "outputs": [],
   "source": [
    "import requests\n",
    "import codecs\n",
    "from bs4 import BeautifulSoup\n",
    "from konlpy.tag import Mecab\n",
    "import xmltodict\n",
    "import os, json, random"
   ]
  },
  {
   "cell_type": "code",
   "execution_count": 17,
   "metadata": {},
   "outputs": [],
   "source": [
    "# 마르코프 체인의 딕셔너리 생성\n",
    "def make_dic(words):\n",
    "    tmp = [\"@\"]\n",
    "    dic = {}\n",
    "    for word in words:\n",
    "        tmp.append(word)\n",
    "        if len(tmp) < 3:\n",
    "            continue\n",
    "        if len(tmp) > 3:\n",
    "            tmp = tmp[1:]\n",
    "        set_word3(dic, tmp)\n",
    "        if word == \".\":\n",
    "            tmp = [\"@\"]\n",
    "            continue\n",
    "    return dic\n",
    "\n",
    "# 딕셔너리에 데이터를 등록\n",
    "def set_word3(dic, s3):\n",
    "    w1, w2, w3 = s3\n",
    "    if not w1 in dic: dic[w1] = {}\n",
    "    if not w2 in dic[w1]: dic[w1][w2] = {}\n",
    "    if not w3 in dic[w1][w2]: dic[w1][w2][w3] = 0\n",
    "    dic[w1][w2][w3] += 1\n",
    "\n",
    "# 문장을 생성\n",
    "def make_sentence(dic):\n",
    "    ret = []\n",
    "    if not \"@\" in dic:\n",
    "        return \"no dic\"\n",
    "    top = dic[\"@\"]\n",
    "    w1 = word_choice(top)\n",
    "    w2 = word_choice(top[w1])\n",
    "    ret.append(w1)\n",
    "    ret.append(w2)\n",
    "    while True:\n",
    "        w3 = word_choice(dic[w1][w2])\n",
    "        ret.append(w3)\n",
    "        if w3 == \".\":\n",
    "            break\n",
    "        w1, w2 = w2, w3\n",
    "    ret = \"\".join(ret)\n",
    "    test = {\"text1\" : ret}\n",
    "    headers = {'accept': 'application/xml'}\n",
    "    data = requests.post(\"http://speller.cs.pusan.ac.kr/getXMLResult\", data=test, headers= headers)\n",
    "    data = data.text\n",
    "#     print(data)\n",
    "    soup1 = BeautifulSoup(data, \"html.parser\")\n",
    "    return soup1.select('candword')[len(soup1.select('candword'))-1].getText()\n",
    "\n",
    "def word_choice(sel):\n",
    "    keys = sel.keys()\n",
    "    return random.choice(list(keys))\n",
    "\n",
    "dict_file = \"./malist/malmal.json\"\n",
    "if not os.path.exists(dict_file):\n",
    "    fp1 = codecs.open(\"/Users/lesson6_mac/AtomData/python/words/class/7CM00009.txt\", 'r', encoding=\"utf-16\")\n",
    "    fp2 = codecs.open('/Users/lesson6_mac/AtomData/python/words/dating/6CM00029.txt', 'r', encoding=\"utf-16\")\n",
    "    fp3 = codecs.open('/Users/lesson6_mac/AtomData/python/words/ent_news/6CM00090.txt', 'r', encoding=\"utf-16\")\n",
    "    fp4 = codecs.open('/Users/lesson6_mac/AtomData/python/words/diet/7CM00045.txt', 'r', encoding=\"utf-16\")\n",
    "    fp5 = codecs.open('/Users/lesson6_mac/AtomData/python/words/univ/6CM00023.txt', 'r', encoding=\"utf-16\")\n",
    "    fp6 = codecs.open('/Users/lesson6_mac/AtomData/python/words/traffic/4CM00014.txt', 'r', encoding=\"utf-16\")\n",
    "    fp7 = codecs.open('/Users/lesson6_mac/AtomData/python/words/travel/BRGO0347.txt', 'r', encoding=\"utf-16\")\n",
    "    soup = BeautifulSoup(fp1, \"html.parser\")\n",
    "    text = soup.getText()\n",
    "    text = text.replace(\"...\", \"\")\n",
    "    mec = Mecab()\n",
    "    malist = mec.pos(text)\n",
    "    for i in [fp2,fp3,fp4,fp5,fp6,fp7]:\n",
    "        soup = BeautifulSoup(i, \"html.parser\")\n",
    "        text = soup.getText()\n",
    "        text = text.replace(\"...\", \"\")\n",
    "        mec = Mecab()\n",
    "        for xx in mec.pos(text):\n",
    "            malist.append(xx)\n",
    "    words = []\n",
    "    for word in malist:\n",
    "        if word[0] ==\".\":\n",
    "            words.append(word[0])\n",
    "        if not word[1] in [\"SC\", \"SSC\", \"SY\", \"SN\", \"SL\",\"SSO\"]:\n",
    "            words.append(word[0])\n",
    "    dic = make_dic(words)\n",
    "    json.dump(dic, open(dict_file,\"w\", encoding=\"utf-8\"))\n",
    "else:\n",
    "    dic = json.load(open(dict_file, \"r\"))\n"
   ]
  },
  {
   "cell_type": "code",
   "execution_count": 25,
   "metadata": {
    "scrolled": true
   },
   "outputs": [
    {
     "data": {
      "text/plain": [
       "'피라미드를 세운 지 천여 개나 세웠다고 하자'"
      ]
     },
     "execution_count": 25,
     "metadata": {},
     "output_type": "execute_result"
    }
   ],
   "source": [
    "make_sentence(dic)"
   ]
  },
  {
   "cell_type": "markdown",
   "metadata": {},
   "source": [
    "## 챗봇 만들기"
   ]
  },
  {
   "cell_type": "code",
   "execution_count": 67,
   "metadata": {},
   "outputs": [],
   "source": [
    "def chat_sentence(chatchat):\n",
    "    ret = []\n",
    "    dict_file = \"./malist/malmal.json\"\n",
    "    dic = json.load(open(dict_file, \"r\"))\n",
    "    top = dic[chatchat]\n",
    "    w1 = word_choice(top)\n",
    "    w2 = word_choice(top[w1])\n",
    "    ret.append(w1)\n",
    "    ret.append(w2)\n",
    "    while True:\n",
    "        w3 = word_choice(dic[w1][w2])\n",
    "        ret.append(w3)\n",
    "        if w3 == \".\":\n",
    "            break\n",
    "        w1, w2 = w2, w3\n",
    "    ret = \"\".join(ret)\n",
    "    test = {\"text1\" : ret}\n",
    "    headers = {'accept': 'application/xml'}\n",
    "    data = requests.post(\"http://speller.cs.pusan.ac.kr/getXMLResult\", data=test, headers= headers)\n",
    "    data = data.text\n",
    "    soup1 = BeautifulSoup(data, \"html.parser\")\n",
    "    return soup1.select('candword')[len(soup1.select('candword'))-1].getText()"
   ]
  },
  {
   "cell_type": "code",
   "execution_count": 78,
   "metadata": {},
   "outputs": [],
   "source": [
    "def chatbot_start():\n",
    "    print(\"=====================\")\n",
    "    print(\"| 1. 대화는 한글만 사용       |\")\n",
    "    print(\"| 2. 채팅종료 -> 'exit' 입력 |\")\n",
    "    print(\"=====================\\n\")\n",
    "    print(\"<<<<< 대화방에 입장했어. 대화를 시작해 보자\\n\")\n",
    "    while True:\n",
    "        chatchat = input(\"사용자: \")\n",
    "        if chatchat == \"exit\":\n",
    "            break\n",
    "#         print(\"강력한챗봇머신: {}\".format(chat_sentence(chatchat)))\n",
    "        try:\n",
    "            print(\"강력한챗봇머신: {}\".format(chat_sentence(chatchat)))\n",
    "        except:\n",
    "            print(\"강력한챗봇머신: 다른얘기를 하자 피곤하다\")"
   ]
  },
  {
   "cell_type": "code",
   "execution_count": 79,
   "metadata": {},
   "outputs": [
    {
     "name": "stdout",
     "output_type": "stream",
     "text": [
      "=====================\n",
      "| 1. 대화는 한글만 사용       |\n",
      "| 2. 채팅종료 -> 'exit' 입력 |\n",
      "=====================\n",
      "\n",
      "<<<<< 대화방에 입장했어. 대화를 시작해 보자\n",
      "\n",
      "사용자: 저녁\n",
      "강력한챗봇머신: 먹는 과자처럼 생겼다고 나 할까요\n",
      "사용자: 아침\n",
      "강력한챗봇머신: 여행자가원하는장에서 바빌로니아왕국은 가장\n",
      "사용자: 뭐라는거야\n",
      "강력한챗봇머신: 다른얘기를 하자 피곤하다\n",
      "사용자: 서운하다\n",
      "강력한챗봇머신: 다른얘기를 하자 피곤하다\n",
      "사용자: 그래서ㅏ\n",
      "강력한챗봇머신: 다른얘기를 하자 피곤하다\n",
      "사용자: 그래서\n",
      "강력한챗봇머신: 평화일 것이던가요\n",
      "사용자: 네\n",
      "강력한챗봇머신: 맏형 노릇을 하셨더니 금방 태도를 바꾸어줍니다\n",
      "사용자: 태도\n",
      "강력한챗봇머신: 웬일이야 진짜 어어 근데 막 필리핀 같은 걸로\n",
      "사용자: 혼자 떠들기\n",
      "강력한챗봇머신: 다른얘기를 하자 피곤하다\n",
      "사용자: exit\n"
     ]
    }
   ],
   "source": [
    "chatbot_start()"
   ]
  },
  {
   "cell_type": "code",
   "execution_count": null,
   "metadata": {},
   "outputs": [],
   "source": []
  }
 ],
 "metadata": {
  "kernelspec": {
   "display_name": "Python 3",
   "language": "python",
   "name": "python3"
  },
  "language_info": {
   "codemirror_mode": {
    "name": "ipython",
    "version": 3
   },
   "file_extension": ".py",
   "mimetype": "text/x-python",
   "name": "python",
   "nbconvert_exporter": "python",
   "pygments_lexer": "ipython3",
   "version": "3.5.5"
  }
 },
 "nbformat": 4,
 "nbformat_minor": 2
}
