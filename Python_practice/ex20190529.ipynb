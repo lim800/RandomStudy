{
 "cells": [
  {
   "cell_type": "markdown",
   "metadata": {},
   "source": [
    "# Selenium"
   ]
  },
  {
   "cell_type": "code",
   "execution_count": 56,
   "metadata": {},
   "outputs": [],
   "source": [
    "import time"
   ]
  },
  {
   "cell_type": "code",
   "execution_count": 15,
   "metadata": {},
   "outputs": [],
   "source": [
    "from selenium import webdriver\n",
    "url = \"https://www.google.co.kr\"\n",
    "driver = webdriver.Chrome()\n",
    "options = webdriver.ChromeOptions()\n",
    "driver.get(url)"
   ]
  },
  {
   "cell_type": "code",
   "execution_count": 9,
   "metadata": {},
   "outputs": [],
   "source": [
    "# 처리 대기시간을 3초까지 기다려줌\n",
    "driver.implicitly_wait(3)"
   ]
  },
  {
   "cell_type": "code",
   "execution_count": 10,
   "metadata": {},
   "outputs": [],
   "source": [
    "# 브라우져 최대크기 \n",
    "driver.maximize_window()"
   ]
  },
  {
   "cell_type": "code",
   "execution_count": 12,
   "metadata": {},
   "outputs": [
    {
     "data": {
      "text/plain": [
       "True"
      ]
     },
     "execution_count": 12,
     "metadata": {},
     "output_type": "execute_result"
    }
   ],
   "source": [
    "# 스크린샷 저장\n",
    "driver.save_screenshot('google_main.png')"
   ]
  },
  {
   "cell_type": "code",
   "execution_count": 13,
   "metadata": {},
   "outputs": [
    {
     "data": {
      "text/plain": [
       "True"
      ]
     },
     "execution_count": 13,
     "metadata": {},
     "output_type": "execute_result"
    }
   ],
   "source": [
    "# 스크린샷을 파일로 저장\n",
    "driver.get_screenshot_as_file('google_main2.png')"
   ]
  },
  {
   "cell_type": "markdown",
   "metadata": {},
   "source": [
    "옵션지정"
   ]
  },
  {
   "cell_type": "code",
   "execution_count": 18,
   "metadata": {},
   "outputs": [],
   "source": [
    "from selenium import webdriver\n",
    "url = \"https://www.google.co.kr\"\n",
    "options = webdriver.ChromeOptions()\n",
    "\n",
    "# 브라우져 창 없이 실행\n",
    "options.add_argument('headless')\n",
    "# 브라우져 창 사이즈 변경\n",
    "options.add_argument('window-size=1366x768')\n",
    "# 그래픽 관련 에러가 날때 그래픽 장치 사용 안함 설정\n",
    "options.add_argument('disable-gpu')\n",
    "\n",
    "driver = webdriver.Chrome(chrome_options=options)\n",
    "driver.get(url)"
   ]
  },
  {
   "cell_type": "markdown",
   "metadata": {},
   "source": [
    "텍스트 입력"
   ]
  },
  {
   "cell_type": "code",
   "execution_count": 44,
   "metadata": {},
   "outputs": [
    {
     "name": "stdout",
     "output_type": "stream",
     "text": [
      "file:///Users/lesson6_mac/AtomData/python/sel_test.html\n"
     ]
    }
   ],
   "source": [
    "from selenium import webdriver\n",
    "url = \"file:///Users/lesson6_mac/AtomData/python/sel_test.html\"\n",
    "print(url)\n",
    "driver = webdriver.Chrome()\n",
    "driver.get(url)\n",
    "idd = driver.find_element_by_id('idset')\n",
    "idd.send_keys('limjj')\n",
    "name = driver.find_element_by_name('name')\n",
    "name.send_keys('jungjulim')"
   ]
  },
  {
   "cell_type": "markdown",
   "metadata": {},
   "source": [
    "구글 검색창에 내용 입력"
   ]
  },
  {
   "cell_type": "code",
   "execution_count": 57,
   "metadata": {},
   "outputs": [],
   "source": [
    "from selenium import webdriver\n",
    "import time\n",
    "url = \"https://www.google.co.kr\"\n",
    "driver = webdriver.Chrome()\n",
    "options = webdriver.ChromeOptions()\n",
    "driver.get(url)\n",
    "driver.find_element_by_name('q').send_keys('python drivers')\n",
    "button = driver.find_element_by_xpath('//*[@id=\"tsf\"]/div[2]/div/div[3]/center/input[1]')\n",
    "button.click()\n",
    "time.sleep(5)\n",
    "driver.quit()"
   ]
  },
  {
   "cell_type": "markdown",
   "metadata": {},
   "source": [
    "네이버 로그인"
   ]
  },
  {
   "cell_type": "code",
   "execution_count": 62,
   "metadata": {},
   "outputs": [],
   "source": [
    "from selenium import webdriver\n",
    "import time\n",
    "url = \"https://nid.naver.com/\"\n",
    "driver = webdriver.Chrome()\n",
    "driver.get(url)\n",
    "# 자동입력방지 우회 : element.send_key() 가 방지 걸림 요인\n",
    "driver.execute_script(\"document.getElementsByName('id')[0].value='lp700'\")\n",
    "time.sleep(2)\n",
    "driver.execute_script(\"document.getElementsByName('pw')[0].value='패스'\")\n",
    "time.sleep(2)\n",
    "driver.find_element_by_xpath('//*[@id=\"frmNIDLogin\"]/fieldset/input').click()\n",
    "\n",
    "time.sleep(5)\n",
    "driver.quit()"
   ]
  },
  {
   "cell_type": "markdown",
   "metadata": {},
   "source": [
    "쿠팡 로그인-> 마이페이지"
   ]
  },
  {
   "cell_type": "code",
   "execution_count": 65,
   "metadata": {},
   "outputs": [],
   "source": [
    "from selenium import webdriver\n",
    "import time\n",
    "url = \"https://login.coupang.com/login/login.pang\"\n",
    "driver = webdriver.Chrome()\n",
    "driver.get(url)\n",
    "\n",
    "driver.find_element_by_xpath('//*[@id=\"login-email-input\"]').send_keys('email')\n",
    "time.sleep(2)\n",
    "driver.find_element_by_xpath('//*[@id=\"login-password-input\"]').send_keys('pass')\n",
    "time.sleep(2)\n",
    "driver.find_element_by_xpath('/html/body/div[1]/div/div/form/div[5]/button').click()\n",
    "time.sleep(2)\n",
    "driver.find_element_by_css_selector('li.my-coupang.more > a').click()\n",
    "\n",
    "time.sleep(5)\n",
    "driver.quit()"
   ]
  },
  {
   "cell_type": "markdown",
   "metadata": {},
   "source": [
    "인스타그램"
   ]
  },
  {
   "cell_type": "code",
   "execution_count": null,
   "metadata": {},
   "outputs": [],
   "source": [
    "from selenium import webdriver\n",
    "import time\n",
    "url = \"https://www.instagram.com/accounts/login/\"\n",
    "driver = webdriver.Chrome()\n",
    "driver.get(url)\n",
    "\n",
    "driver.find_element_by_name('username').send_keys('lim800@gmail.com')\n",
    "time.sleep(4)\n",
    "driver.find_element_by_name('password').send_keys('QWER1qwer1')\n",
    "time.sleep(3)\n",
    "driver.find_element_by_class_name('_0mzm- sqdOP  L3NKy       ').click()\n",
    "\n",
    "time.sleep(5)\n",
    "driver.quit()"
   ]
  },
  {
   "cell_type": "code",
   "execution_count": null,
   "metadata": {},
   "outputs": [],
   "source": []
  },
  {
   "cell_type": "code",
   "execution_count": null,
   "metadata": {},
   "outputs": [],
   "source": []
  },
  {
   "cell_type": "code",
   "execution_count": 45,
   "metadata": {},
   "outputs": [],
   "source": [
    "# 브라우져만 닫기\n",
    "driver.close()"
   ]
  },
  {
   "cell_type": "code",
   "execution_count": 71,
   "metadata": {},
   "outputs": [],
   "source": [
    "# 드라이버 종료 및 브라우져 닫기\n",
    "driver.quit()"
   ]
  },
  {
   "cell_type": "code",
   "execution_count": null,
   "metadata": {},
   "outputs": [],
   "source": []
  }
 ],
 "metadata": {
  "kernelspec": {
   "display_name": "Python 3",
   "language": "python",
   "name": "python3"
  },
  "language_info": {
   "codemirror_mode": {
    "name": "ipython",
    "version": 3
   },
   "file_extension": ".py",
   "mimetype": "text/x-python",
   "name": "python",
   "nbconvert_exporter": "python",
   "pygments_lexer": "ipython3",
   "version": "3.5.5"
  }
 },
 "nbformat": 4,
 "nbformat_minor": 2
}
