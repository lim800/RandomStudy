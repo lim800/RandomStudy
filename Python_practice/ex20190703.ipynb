{
 "cells": [
  {
   "cell_type": "markdown",
   "metadata": {},
   "source": [
    "# 손글씨 데이터"
   ]
  },
  {
   "cell_type": "code",
   "execution_count": 1,
   "metadata": {},
   "outputs": [],
   "source": [
    "import struct"
   ]
  },
  {
   "cell_type": "code",
   "execution_count": 9,
   "metadata": {},
   "outputs": [],
   "source": [
    "def to_csvv(name, maxdata):\n",
    "    labels_f = open(\"./MNIST/\" + name + \"-labels-idx1-ubyte.gz\", \"rb\")\n",
    "    images_f = open(\"./MNIST/\" + name + \"-images-idx3-ubyte.gz\", \"rb\")\n",
    "    csv_f = open(\"./MNIST/\" + name + \".csv\", \"w\", encoding=\"utf-8\")\n",
    "    \n",
    "    mag, labels_count = struct.unpack(\">ll\", labels_f.read(8))\n",
    "    mag, img_count = struct.unpack(\">ll\", images_f.read(8))\n",
    "    rows, cols = struct.unpack(\">ll\", images_f.read(8))\n",
    "    pixels = rows * cols\n",
    "    for idx in range(labels_count):\n",
    "        if idx > maxdata:\n",
    "            break\n",
    "        label = struct.unpack(\"B\", labels_f.read(1))[0]\n",
    "        bdata = images_f.read(pixels)\n",
    "        sdata = list(map(lambda n: str(n), bdata))\n",
    "        csv_f.write(str(label)+ \",\")\n",
    "        csv_f.write(\",\".join(sdata)+ \"\\r\\n\")\n",
    "        \n",
    "        if idx < 10:\n",
    "            s = \"P2 28 28 255\\n\"\n",
    "            s += \" \".join(sdata)\n",
    "            iname = \"./MNIST/{}-{}-{}.pgm\".format(name, idx, label)\n",
    "            with open(iname, \"w\", encoding=\"utf-8\") as f:\n",
    "                f.write(s)\n",
    "    csv_f.close()\n",
    "    labels_f.close()\n",
    "    images_f.close()\n",
    "to_csvv(\"train\", 10000)\n",
    "to_csvv(\"t10k\", 3000)\n",
    "        \n",
    "        \n",
    "        \n",
    "        \n",
    "    "
   ]
  },
  {
   "cell_type": "code",
   "execution_count": null,
   "metadata": {},
   "outputs": [],
   "source": []
  },
  {
   "cell_type": "code",
   "execution_count": null,
   "metadata": {},
   "outputs": [],
   "source": []
  },
  {
   "cell_type": "code",
   "execution_count": null,
   "metadata": {},
   "outputs": [],
   "source": []
  },
  {
   "cell_type": "code",
   "execution_count": null,
   "metadata": {},
   "outputs": [],
   "source": []
  }
 ],
 "metadata": {
  "kernelspec": {
   "display_name": "Python 3",
   "language": "python",
   "name": "python3"
  },
  "language_info": {
   "codemirror_mode": {
    "name": "ipython",
    "version": 3
   },
   "file_extension": ".py",
   "mimetype": "text/x-python",
   "name": "python",
   "nbconvert_exporter": "python",
   "pygments_lexer": "ipython3",
   "version": "3.5.5"
  }
 },
 "nbformat": 4,
 "nbformat_minor": 2
}
