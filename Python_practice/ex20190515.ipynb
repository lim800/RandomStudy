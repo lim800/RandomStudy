{
 "cells": [
  {
   "cell_type": "code",
   "execution_count": 2,
   "metadata": {},
   "outputs": [
    {
     "name": "stdout",
     "output_type": "stream",
     "text": [
      "120501403592\n",
      "['one', 'two', 'three']\n"
     ]
    }
   ],
   "source": [
    "def add(a,b):\n",
    "    if b not in a:\n",
    "        a.append(b)\n",
    "        \n",
    "a = ['one', 'two']\n",
    "print(id(a))\n",
    "add(a, 'three')\n",
    "print(a)"
   ]
  },
  {
   "cell_type": "code",
   "execution_count": 3,
   "metadata": {},
   "outputs": [
    {
     "name": "stdout",
     "output_type": "stream",
     "text": [
      "17\n"
     ]
    }
   ],
   "source": [
    "def funcA(a, b):\n",
    "    return a+b\n",
    "\n",
    "def funcB(x):\n",
    "    if x < 0:\n",
    "        x = -x\n",
    "        return x\n",
    "    \n",
    "def funcC(a, b):\n",
    "    c = funcA(a,b)\n",
    "    return funcB(c)\n",
    "\n",
    "print(funcC(-9, -8))"
   ]
  },
  {
   "cell_type": "markdown",
   "metadata": {},
   "source": [
    "재귀적 용법"
   ]
  },
  {
   "cell_type": "code",
   "execution_count": 4,
   "metadata": {},
   "outputs": [
    {
     "name": "stdout",
     "output_type": "stream",
     "text": [
      "재귀 호출값:  55\n"
     ]
    }
   ],
   "source": [
    "def total(n):\n",
    "    if n == 1 :\n",
    "        return 1\n",
    "    return n + total(n-1)\n",
    "print('재귀 호출값: ', total(10))"
   ]
  },
  {
   "cell_type": "code",
   "execution_count": 5,
   "metadata": {},
   "outputs": [
    {
     "name": "stdout",
     "output_type": "stream",
     "text": [
      "7\n"
     ]
    }
   ],
   "source": [
    "def add(a, b):\n",
    "    return a + b\n",
    "\n",
    "print(add(a = 3,b = 4))"
   ]
  },
  {
   "cell_type": "code",
   "execution_count": 6,
   "metadata": {},
   "outputs": [
    {
     "name": "stdout",
     "output_type": "stream",
     "text": [
      "13\n"
     ]
    }
   ],
   "source": [
    "def add(a, b=5):\n",
    "    return a + b\n",
    "\n",
    "print(add(8))"
   ]
  },
  {
   "cell_type": "code",
   "execution_count": 9,
   "metadata": {},
   "outputs": [
    {
     "name": "stdout",
     "output_type": "stream",
     "text": [
      "7\n"
     ]
    }
   ],
   "source": [
    "def add(a, b=True, c=3):\n",
    "    return a + b + c\n",
    "\n",
    "print(add(3))"
   ]
  },
  {
   "cell_type": "markdown",
   "metadata": {},
   "source": [
    "- 인자값의 디폴트 값을 설정한다.\n",
    "- 성별: 남자 혹은 여자 인지 확인\n",
    "- 나이 확인\n",
    "- 개인정보 확인 프로그램 짜기\n",
    "<br>\n",
    "- 이름, 나이, 성별"
   ]
  },
  {
   "cell_type": "code",
   "execution_count": 24,
   "metadata": {},
   "outputs": [
    {
     "name": "stdout",
     "output_type": "stream",
     "text": [
      "이름: ㅁㅁㅁ\n",
      "나이: 34\n",
      "성별(생략 가능): ㅁㅁ\n",
      "\n",
      "이름은 ㅁㅁㅁ 이고, \n",
      "나이는 34세 이며, \n",
      "성별은 ㅁㅁ 입니다.\n"
     ]
    }
   ],
   "source": [
    "def information(a, b, c ='남자'):\n",
    "    print('이름은 {} 이고, \\n나이는 {}세 이며, \\n성별은 {} 입니다.'.format(a,b,c))\n",
    "\n",
    "a = input('이름: ')\n",
    "b = int(input('나이: '))\n",
    "c = input('성별(생략 가능): ')\n",
    "\n",
    "print()\n",
    "if c == '':\n",
    "    information(a,b)\n",
    "else:\n",
    "    information(a,b,c)\n",
    "    "
   ]
  },
  {
   "cell_type": "code",
   "execution_count": 29,
   "metadata": {},
   "outputs": [
    {
     "name": "stdout",
     "output_type": "stream",
     "text": [
      "이름: ㅇㅇ\n",
      "나이: 34\n",
      "성별: \n",
      "이름은 ㅇㅇ 입니다.\n",
      "나이는 34살 입니다.\n",
      "남자입니다.\n"
     ]
    }
   ],
   "source": [
    "def self_introduction(name, age, man=True):\n",
    "    print('이름은 {} 입니다.'.format(name))\n",
    "    print('나이는 {}살 입니다.'.format(age))\n",
    "    if man:\n",
    "        print('남자입니다.')\n",
    "    else:\n",
    "        print('여자입니다.')\n",
    "name = input('이름: ')\n",
    "age = input('나이: ')\n",
    "gender = input('성별: ')\n",
    "\n",
    "if gender == '여자':\n",
    "    gender = False\n",
    "else:\n",
    "    gender = True\n",
    "    \n",
    "self_introduction(name, age, gender)"
   ]
  },
  {
   "cell_type": "markdown",
   "metadata": {},
   "source": [
    "가변 인자"
   ]
  },
  {
   "cell_type": "code",
   "execution_count": 34,
   "metadata": {},
   "outputs": [
    {
     "name": "stdout",
     "output_type": "stream",
     "text": [
      "(1, 2, 3)\n"
     ]
    }
   ],
   "source": [
    "def use(*args):\n",
    "    print(args)\n",
    "use(1,2,3)"
   ]
  },
  {
   "cell_type": "code",
   "execution_count": 35,
   "metadata": {},
   "outputs": [
    {
     "name": "stdout",
     "output_type": "stream",
     "text": [
      "1 ()\n"
     ]
    }
   ],
   "source": [
    "def use(a, *args):\n",
    "    print(a, args)\n",
    "use(1)"
   ]
  },
  {
   "cell_type": "code",
   "execution_count": 37,
   "metadata": {},
   "outputs": [
    {
     "name": "stdout",
     "output_type": "stream",
     "text": [
      "1 2 3\n",
      "1 2 3\n"
     ]
    }
   ],
   "source": [
    "def use(a,b,c):\n",
    "    print(a,b,c)\n",
    "    \n",
    "args = (1,2,3)\n",
    "lists = [1,2,3]\n",
    "\n",
    "use(*args)\n",
    "use(*lists)"
   ]
  },
  {
   "cell_type": "code",
   "execution_count": 42,
   "metadata": {},
   "outputs": [
    {
     "name": "stdout",
     "output_type": "stream",
     "text": [
      "1 2 3\n"
     ]
    }
   ],
   "source": [
    "def use(a,b,c):\n",
    "    print(a,b,c)\n",
    "    \n",
    "args = {'a':1, 'b':2, 'c':3} # 키 값과 파라미터 변수가 같아야 들어감\n",
    "argss = {'k':1, 'b':2, 'c':3}\n",
    "\n",
    "use(**args)"
   ]
  },
  {
   "cell_type": "code",
   "execution_count": 44,
   "metadata": {},
   "outputs": [
    {
     "name": "stdout",
     "output_type": "stream",
     "text": [
      "20\n"
     ]
    }
   ],
   "source": [
    "x = 10\n",
    "y = 5\n",
    "\n",
    "def f():\n",
    "    print(y) #오류남\n",
    "    y = 20\n",
    "    \n",
    "f()"
   ]
  },
  {
   "cell_type": "code",
   "execution_count": 50,
   "metadata": {},
   "outputs": [
    {
     "name": "stdout",
     "output_type": "stream",
     "text": [
      "3 \n",
      "\n"
     ]
    },
    {
     "ename": "AttributeError",
     "evalue": "'function' object has no attribute 'a'",
     "output_type": "error",
     "traceback": [
      "\u001b[0;31m---------------------------------------------------------------------------\u001b[0m",
      "\u001b[0;31mAttributeError\u001b[0m                            Traceback (most recent call last)",
      "\u001b[0;32m<ipython-input-50-b6755acb663a>\u001b[0m in \u001b[0;36m<module>\u001b[0;34m()\u001b[0m\n\u001b[1;32m      5\u001b[0m \u001b[0mf\u001b[0m\u001b[0;34m.\u001b[0m\u001b[0mc\u001b[0m \u001b[0;34m=\u001b[0m \u001b[0;36m3\u001b[0m\u001b[0;34m\u001b[0m\u001b[0m\n\u001b[1;32m      6\u001b[0m \u001b[0mprint\u001b[0m\u001b[0;34m(\u001b[0m\u001b[0mf\u001b[0m\u001b[0;34m.\u001b[0m\u001b[0mc\u001b[0m\u001b[0;34m,\u001b[0m \u001b[0;34m'\\n'\u001b[0m\u001b[0;34m)\u001b[0m\u001b[0;34m\u001b[0m\u001b[0m\n\u001b[0;32m----> 7\u001b[0;31m \u001b[0mprint\u001b[0m\u001b[0;34m(\u001b[0m\u001b[0mf\u001b[0m\u001b[0;34m.\u001b[0m\u001b[0ma\u001b[0m\u001b[0;34m)\u001b[0m\u001b[0;34m\u001b[0m\u001b[0m\n\u001b[0m",
      "\u001b[0;31mAttributeError\u001b[0m: 'function' object has no attribute 'a'"
     ]
    }
   ],
   "source": [
    "# 외부 접근 불가\n",
    "def f():\n",
    "    a = 1\n",
    "    b = 2\n",
    "f.c = 3\n",
    "print(f.c, '\\n')\n",
    "print(f.a)"
   ]
  },
  {
   "cell_type": "code",
   "execution_count": 56,
   "metadata": {},
   "outputs": [
    {
     "ename": "UnboundLocalError",
     "evalue": "local variable 'x' referenced before assignment",
     "output_type": "error",
     "traceback": [
      "\u001b[0;31m---------------------------------------------------------------------------\u001b[0m",
      "\u001b[0;31mUnboundLocalError\u001b[0m                         Traceback (most recent call last)",
      "\u001b[0;32m<ipython-input-56-d31f8f750a49>\u001b[0m in \u001b[0;36m<module>\u001b[0;34m()\u001b[0m\n\u001b[1;32m      5\u001b[0m \u001b[0;34m\u001b[0m\u001b[0m\n\u001b[1;32m      6\u001b[0m     \u001b[0;32mreturn\u001b[0m \u001b[0mx\u001b[0m\u001b[0;34m\u001b[0m\u001b[0m\n\u001b[0;32m----> 7\u001b[0;31m \u001b[0mprint\u001b[0m\u001b[0;34m(\u001b[0m\u001b[0mf\u001b[0m\u001b[0;34m(\u001b[0m\u001b[0;34m)\u001b[0m\u001b[0;34m)\u001b[0m\u001b[0;34m\u001b[0m\u001b[0m\n\u001b[0m",
      "\u001b[0;32m<ipython-input-56-d31f8f750a49>\u001b[0m in \u001b[0;36mf\u001b[0;34m()\u001b[0m\n\u001b[1;32m      1\u001b[0m \u001b[0mx\u001b[0m \u001b[0;34m=\u001b[0m \u001b[0;36m10\u001b[0m\u001b[0;34m\u001b[0m\u001b[0m\n\u001b[1;32m      2\u001b[0m \u001b[0;32mdef\u001b[0m \u001b[0mf\u001b[0m\u001b[0;34m(\u001b[0m\u001b[0;34m)\u001b[0m\u001b[0;34m:\u001b[0m\u001b[0;34m\u001b[0m\u001b[0m\n\u001b[0;32m----> 3\u001b[0;31m     \u001b[0ma\u001b[0m \u001b[0;34m=\u001b[0m \u001b[0mx\u001b[0m\u001b[0;34m\u001b[0m\u001b[0m\n\u001b[0m\u001b[1;32m      4\u001b[0m     \u001b[0mx\u001b[0m \u001b[0;34m=\u001b[0m \u001b[0;36m20\u001b[0m\u001b[0;34m\u001b[0m\u001b[0m\n\u001b[1;32m      5\u001b[0m \u001b[0;34m\u001b[0m\u001b[0m\n",
      "\u001b[0;31mUnboundLocalError\u001b[0m: local variable 'x' referenced before assignment"
     ]
    }
   ],
   "source": [
    "x = 10\n",
    "def f():\n",
    "    a = x\n",
    "    x = 20\n",
    "\n",
    "    return x\n",
    "print(f())"
   ]
  },
  {
   "cell_type": "markdown",
   "metadata": {},
   "source": [
    "글로벌 선언"
   ]
  },
  {
   "cell_type": "code",
   "execution_count": 57,
   "metadata": {},
   "outputs": [
    {
     "name": "stdout",
     "output_type": "stream",
     "text": [
      "20\n"
     ]
    }
   ],
   "source": [
    "x = 10\n",
    "def f():\n",
    "    global x\n",
    "    a = x\n",
    "    x = 20\n",
    "\n",
    "    return x\n",
    "print(f())"
   ]
  },
  {
   "cell_type": "code",
   "execution_count": 58,
   "metadata": {},
   "outputs": [
    {
     "name": "stdout",
     "output_type": "stream",
     "text": [
      "1\n"
     ]
    }
   ],
   "source": [
    "x = 2\n",
    "def f():\n",
    "    x = 1\n",
    "    def g():\n",
    "        print(x)\n",
    "    g()\n",
    "f()"
   ]
  },
  {
   "cell_type": "code",
   "execution_count": 59,
   "metadata": {},
   "outputs": [
    {
     "name": "stdout",
     "output_type": "stream",
     "text": [
      "[2, 4]\n"
     ]
    }
   ],
   "source": [
    "f = list(filter(lambda x: x%2-1, [1,2,3,4,5]))\n",
    "print(f)"
   ]
  },
  {
   "cell_type": "code",
   "execution_count": 60,
   "metadata": {},
   "outputs": [
    {
     "name": "stdout",
     "output_type": "stream",
     "text": [
      "[1, 4, 9]\n"
     ]
    }
   ],
   "source": [
    "def f(x):\n",
    "    return x*x\n",
    "a = [1,2,3]\n",
    "b = map(f, a)\n",
    "\n",
    "print(list(b))\n"
   ]
  },
  {
   "cell_type": "code",
   "execution_count": 62,
   "metadata": {},
   "outputs": [
    {
     "name": "stdout",
     "output_type": "stream",
     "text": [
      "[1, 4, 9]\n"
     ]
    }
   ],
   "source": [
    "a = [1,2,3]\n",
    "print(list(map(lambda x: x*x, a)))"
   ]
  },
  {
   "cell_type": "markdown",
   "metadata": {},
   "source": [
    "sorted 함수"
   ]
  },
  {
   "cell_type": "code",
   "execution_count": 67,
   "metadata": {},
   "outputs": [
    {
     "name": "stdout",
     "output_type": "stream",
     "text": [
      "[('A', 3), ('C', 5), ('D', 6), ('F', 9)]\n"
     ]
    }
   ],
   "source": [
    "a = {'A': 3, 'C': 5,'F': 9, 'D': 6}\n",
    "key_call = sorted(a.items())\n",
    "print(key_call)"
   ]
  },
  {
   "cell_type": "code",
   "execution_count": null,
   "metadata": {},
   "outputs": [],
   "source": [
    "func = [lambda x, y: x+y, lambda x, y: y-x if y>x else x-y, lambda x, y: x*y,\\\n",
    "        lambda x, y: '0으로 나눌 수가 없다' if y==0 else x/y]\n",
    "\n",
    "while True:\n",
    "    try:\n",
    "        print('1.더하기   2.빼기   3.곱하기   4. 나누기   5.끝내기')\n",
    "        select = int(input('번호를 선택해라(1~5): '))\n",
    "    except:\n",
    "        print('잘못입력했다')\n",
    "    if select < 1 or select > 5:\n",
    "        print('잘못입력했다')\n",
    "        continue\n",
    "    elif select == 5:\n",
    "        break\n",
    "    try:\n",
    "        x = int(input('첫번째 숫자: '))\n",
    "        y = int(input('두번째 숫자: '))\n",
    "    except:\n",
    "        print('잘못입력했다. 처음부터 다시~')\n",
    "    \n",
    "    print('결과 = ', func[select-1](x,y))\n",
    "    "
   ]
  },
  {
   "cell_type": "code",
   "execution_count": null,
   "metadata": {},
   "outputs": [],
   "source": []
  }
 ],
 "metadata": {
  "kernelspec": {
   "display_name": "Python 3",
   "language": "python",
   "name": "python3"
  },
  "language_info": {
   "codemirror_mode": {
    "name": "ipython",
    "version": 3
   },
   "file_extension": ".py",
   "mimetype": "text/x-python",
   "name": "python",
   "nbconvert_exporter": "python",
   "pygments_lexer": "ipython3",
   "version": "3.5.5"
  }
 },
 "nbformat": 4,
 "nbformat_minor": 2
}
