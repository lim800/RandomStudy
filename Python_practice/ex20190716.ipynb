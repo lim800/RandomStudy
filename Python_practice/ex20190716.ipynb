{
 "cells": [
  {
   "cell_type": "markdown",
   "metadata": {},
   "source": [
    "# Naive Bayes"
   ]
  },
  {
   "cell_type": "markdown",
   "metadata": {},
   "source": [
    "$P(스팸메일|광고) = \\frac{P(광고|스팸메일)  P(스팸메일)}{       P(광고)           }$"
   ]
  },
  {
   "cell_type": "markdown",
   "metadata": {},
   "source": [
    "$P(B|A) = \\frac{P(A|B)P(B)}{P(A)}$"
   ]
  },
  {
   "cell_type": "code",
   "execution_count": 4,
   "metadata": {},
   "outputs": [],
   "source": [
    "import math, sys\n",
    "from konlpy.tag import Okt, Mecab"
   ]
  },
  {
   "cell_type": "code",
   "execution_count": 81,
   "metadata": {},
   "outputs": [],
   "source": [
    "class BayesianFilter22:\n",
    "    def __init__(self):\n",
    "        self.words = set()\n",
    "        self.word_dict = {}\n",
    "        self.category_dict ={}\n",
    "    \n",
    "    def split(self, text):\n",
    "        results = []\n",
    "        mec = Mecab()\n",
    "        malist = mec.pos(text)\n",
    "#         okt = Okt()\n",
    "#         malist = okt.pos(text, norm=True, stem= True)\n",
    "#         print(\"malist: \\n\", malist)\n",
    "        for word in malist:\n",
    "            if not word[1] in ['Josa', \"Eomi\", \"Punctuation\"]:\n",
    "                results.append(word[0])\n",
    "#         print(\"result: \\n\", results)\n",
    "        return results\n",
    "    \n",
    "    def inc_word(self, word, category):\n",
    "        if not category in self.word_dict:\n",
    "            self.word_dict[category] ={}\n",
    "        if not word in self.word_dict[category]:\n",
    "            self.word_dict[category][word] = 0 \n",
    "        self.word_dict[category][word] += 1\n",
    "        self.words.add(word)\n",
    "    \n",
    "    def inc_category(self, category):\n",
    "        if not category in self.category_dict:\n",
    "            self.category_dict[category] = 0\n",
    "        self.category_dict[category] += 1\n",
    "    \n",
    "    def fit(self, text, category):\n",
    "        word_list = self.split(text)\n",
    "        for word in word_list:\n",
    "            self.inc_word(word, category)\n",
    "        self.inc_category(category)\n",
    "    \n",
    "    def score(self, words, category):\n",
    "        score = math.log(self.category_prob(category))\n",
    "        for word in words:\n",
    "            score += math.log(self.word_prob(word, category))\n",
    "        return score\n",
    "   \n",
    "    def predict(self, text):\n",
    "        best_category = None\n",
    "        max_score = -sys.maxsize\n",
    "        words = self.split(text)\n",
    "        score_list = []\n",
    "        for category in self.category_dict.keys():\n",
    "            score = self.score(words, category)\n",
    "            score_list.append((category, score))\n",
    "            if score > max_score:\n",
    "                max_score = score\n",
    "                best_category = category\n",
    "        return best_category, score_list\n",
    "        \n",
    "    def get_word_count(self, word, category):\n",
    "        if word in self.word_dict[category]:\n",
    "            print(self.word_dict)\n",
    "            return self.word_dict[category][word]\n",
    "        else:\n",
    "            return 0\n",
    "    \n",
    "    def category_prob(self, category):\n",
    "        sum_categories = sum(self.category_dict.values())\n",
    "        category_v = self.category_dict[category]\n",
    "        return category_v / sum_categories\n",
    "    \n",
    "    def word_prob(self, word, category):\n",
    "        n = self.get_word_count(word, category) + 1\n",
    "        d = sum(self.word_dict[category].values()) + len(self.words)\n",
    "        return n / d"
   ]
  },
  {
   "cell_type": "code",
   "execution_count": 82,
   "metadata": {},
   "outputs": [],
   "source": [
    "bf = BayesianFilter22()"
   ]
  },
  {
   "cell_type": "code",
   "execution_count": 83,
   "metadata": {},
   "outputs": [
    {
     "name": "stdout",
     "output_type": "stream",
     "text": [
      "{'광고': {'세일': 3, '따뜻': 1, '한': 1, '선물': 1, '만': 1, '소식': 1, '%': 1, '기간': 1, '무료': 1, '백화점': 1, '한정': 1, '쿠폰': 1, '과': 1, '&': 1, '함께': 1, '30': 1, '-': 1, '파격': 1, '인기': 1, '배송': 1, '까지': 1, '봄': 1, '신': 1, '오늘': 1, '할인': 1, '찾아온': 1, '제품': 2}, '중요': {'계약': 1, '회의': 1, '고': 1, '등록': 1, '프로젝트': 1, '부탁드립니다': 1, '진행': 1, '잘': 1, '상황': 1, '이': 2, '보': 1, '일정': 3, '었': 1, '오늘': 2, '습니다': 2, '없': 1, '되': 1, '.': 2, '확인': 1}}\n",
      "결과 = 광고\n",
      "[('광고', -4.31748811353631), ('중요', -4.941642422609305)]\n"
     ]
    }
   ],
   "source": [
    "bf.fit(\"파격 세일 - 오늘까지만 30% 할인\", \"광고\") \n",
    "bf.fit(\"쿠폰 선물 & 무료 배송\", \"광고\")\n",
    "bf.fit(\"백화점 세일\", \"광고\")\n",
    "bf.fit(\"봄과 함께 찾아온 따뜻한 신제품 소식\", \"광고\") \n",
    "bf.fit(\"인기 제품 기간 한정 세일\", \"광고\")\n",
    "bf.fit(\"오늘 일정 확인\", \"중요\")\n",
    "bf.fit(\"프로젝트 진행 상황 보고\",\"중요\")\n",
    "bf.fit(\"계약 잘 부탁드립니다\",\"중요\")\n",
    "bf.fit(\"회의 일정이 등록되었습니다.\",\"중요\")\n",
    "bf.fit(\"오늘 일정이 없습니다.\",\"중요\")\n",
    "# 예측을 한다.\n",
    "pre, scorelist = bf.predict(\"인기\") \n",
    "print(\"결과 =\", pre)\n",
    "print(scorelist)"
   ]
  },
  {
   "cell_type": "code",
   "execution_count": 77,
   "metadata": {},
   "outputs": [
    {
     "data": {
      "text/plain": [
       "[('아버지', 'NNG'),\n",
       " ('가', 'JKS'),\n",
       " ('방', 'NNG'),\n",
       " ('에', 'JKB'),\n",
       " ('들어가', 'VV'),\n",
       " ('신다', 'EP+EC')]"
      ]
     },
     "execution_count": 77,
     "metadata": {},
     "output_type": "execute_result"
    }
   ],
   "source": [
    "mec = Mecab()\n",
    "malist = mec.pos(\"아버지가방에들어가신다\")\n",
    "malist"
   ]
  },
  {
   "cell_type": "code",
   "execution_count": 52,
   "metadata": {},
   "outputs": [
    {
     "data": {
      "text/plain": [
       "-9223372036854775807"
      ]
     },
     "execution_count": 52,
     "metadata": {},
     "output_type": "execute_result"
    }
   ],
   "source": [
    "-sys.maxsize"
   ]
  },
  {
   "cell_type": "markdown",
   "metadata": {},
   "source": [
    "### 다층 퍼셉트론"
   ]
  },
  {
   "cell_type": "code",
   "execution_count": 84,
   "metadata": {},
   "outputs": [],
   "source": [
    "from keras.models import Sequential\n",
    "from keras.layers import Dense, Dropout, Activation\n",
    "from keras.wrappers.scikit_learn import KerasClassifier\n",
    "from keras.utils import np_utils\n",
    "from sklearn.model_selection import train_test_split\n",
    "from sklearn import metrics\n",
    "import json\n",
    "import numpy as np\n",
    "import logging\n",
    "logging.disable(logging.WARNING)"
   ]
  },
  {
   "cell_type": "code",
   "execution_count": 85,
   "metadata": {},
   "outputs": [],
   "source": [
    "max_words = 56681\n",
    "nb_classes =  9"
   ]
  },
  {
   "cell_type": "code",
   "execution_count": 86,
   "metadata": {},
   "outputs": [],
   "source": [
    "def build_model():\n",
    "    model = Sequential()\n",
    "    model.add(Dense(512, input_shape=(max_words,)))\n",
    "    model.add(Activation(\"relu\"))\n",
    "    model.add(Dropout(0.5))\n",
    "    model.add(Dense(nb_classes))\n",
    "    model.add(Activation(\"softmax\"))\n",
    "    model.compile(loss=\"categorical_crossentropy\", optimizer= 'adam', metrics=['accuracy'])\n",
    "    return model"
   ]
  },
  {
   "cell_type": "code",
   "execution_count": 101,
   "metadata": {},
   "outputs": [],
   "source": [
    "data = json.load(open('/Users/lesson6_mac/AtomData/python/신문파일/data.json'))\n",
    "X = np.array(data['X'])\n",
    "Y = np.array(data['Y'])\n"
   ]
  },
  {
   "cell_type": "code",
   "execution_count": 102,
   "metadata": {},
   "outputs": [
    {
     "name": "stdout",
     "output_type": "stream",
     "text": [
      "6314 6314\n"
     ]
    }
   ],
   "source": [
    "X_train, X_test, Y_train, Y_test = train_test_split(X,Y)\n",
    "Y_train = np_utils.to_categorical(Y_train, nb_classes)\n",
    "print(len(X_train),len(Y_train))"
   ]
  },
  {
   "cell_type": "code",
   "execution_count": 103,
   "metadata": {},
   "outputs": [
    {
     "name": "stdout",
     "output_type": "stream",
     "text": [
      "Epoch 1/20\n",
      "6314/6314 [==============================] - 34s 5ms/step - loss: 0.5687 - acc: 0.8435\n",
      "Epoch 2/20\n",
      "6314/6314 [==============================] - 31s 5ms/step - loss: 0.1304 - acc: 0.9721\n",
      "Epoch 3/20\n",
      "6314/6314 [==============================] - 31s 5ms/step - loss: 0.0710 - acc: 0.9867\n",
      "Epoch 4/20\n",
      "6314/6314 [==============================] - 31s 5ms/step - loss: 0.0502 - acc: 0.9907\n",
      "Epoch 5/20\n",
      "6314/6314 [==============================] - 31s 5ms/step - loss: 0.0506 - acc: 0.9905\n",
      "Epoch 6/20\n",
      "6314/6314 [==============================] - 31s 5ms/step - loss: 0.0447 - acc: 0.9918\n",
      "Epoch 7/20\n",
      "6314/6314 [==============================] - 31s 5ms/step - loss: 0.0406 - acc: 0.9938\n",
      "Epoch 8/20\n",
      "6314/6314 [==============================] - 31s 5ms/step - loss: 0.0369 - acc: 0.9941\n",
      "Epoch 9/20\n",
      "6314/6314 [==============================] - 31s 5ms/step - loss: 0.0490 - acc: 0.9937\n",
      "Epoch 10/20\n",
      "6314/6314 [==============================] - 31s 5ms/step - loss: 0.0432 - acc: 0.9940\n",
      "Epoch 11/20\n",
      "6314/6314 [==============================] - 31s 5ms/step - loss: 0.0518 - acc: 0.9921\n",
      "Epoch 12/20\n",
      "6314/6314 [==============================] - 31s 5ms/step - loss: 0.0426 - acc: 0.9937\n",
      "Epoch 13/20\n",
      "6314/6314 [==============================] - 31s 5ms/step - loss: 0.0420 - acc: 0.9946\n",
      "Epoch 14/20\n",
      "6314/6314 [==============================] - 31s 5ms/step - loss: 0.0395 - acc: 0.9948\n",
      "Epoch 15/20\n",
      "6314/6314 [==============================] - 32s 5ms/step - loss: 0.0492 - acc: 0.9929\n",
      "Epoch 16/20\n",
      "6314/6314 [==============================] - 32s 5ms/step - loss: 0.0451 - acc: 0.9929\n",
      "Epoch 17/20\n",
      "6314/6314 [==============================] - 32s 5ms/step - loss: 0.0523 - acc: 0.9924\n",
      "Epoch 18/20\n",
      "6314/6314 [==============================] - 32s 5ms/step - loss: 0.0473 - acc: 0.9943\n",
      "Epoch 19/20\n",
      "6314/6314 [==============================] - 32s 5ms/step - loss: 0.0514 - acc: 0.9933\n",
      "Epoch 20/20\n",
      "6314/6314 [==============================] - 32s 5ms/step - loss: 0.0601 - acc: 0.9910\n"
     ]
    },
    {
     "data": {
      "text/plain": [
       "<keras.callbacks.History at 0x1c309c5e10>"
      ]
     },
     "execution_count": 103,
     "metadata": {},
     "output_type": "execute_result"
    }
   ],
   "source": [
    "model = KerasClassifier(build_fn=build_model, epochs=20, batch_size=64)\n",
    "model.fit(X_train, Y_train)"
   ]
  },
  {
   "cell_type": "code",
   "execution_count": 104,
   "metadata": {},
   "outputs": [
    {
     "name": "stdout",
     "output_type": "stream",
     "text": [
      "정답률 =  0.8907363420427553\n",
      "리포트 =                precision    recall  f1-score   support\n",
      "\n",
      "           0       0.96      0.93      0.94       338\n",
      "           1       0.85      0.89      0.87       355\n",
      "           2       0.88      0.90      0.89       342\n",
      "           3       0.90      0.84      0.87       362\n",
      "           4       0.92      0.89      0.90       355\n",
      "           5       0.85      0.90      0.87       353\n",
      "\n",
      "    accuracy                           0.89      2105\n",
      "   macro avg       0.89      0.89      0.89      2105\n",
      "weighted avg       0.89      0.89      0.89      2105\n",
      "\n"
     ]
    }
   ],
   "source": [
    "y = model.predict(X_test)\n",
    "ac_score = metrics.accuracy_score(Y_test, y)\n",
    "cl_report = metrics.classification_report(Y_test, y)\n",
    "print(\"정답률 = \", ac_score)\n",
    "print(\"리포트 = \", cl_report)"
   ]
  },
  {
   "cell_type": "code",
   "execution_count": null,
   "metadata": {},
   "outputs": [],
   "source": []
  }
 ],
 "metadata": {
  "kernelspec": {
   "display_name": "Python 3",
   "language": "python",
   "name": "python3"
  },
  "language_info": {
   "codemirror_mode": {
    "name": "ipython",
    "version": 3
   },
   "file_extension": ".py",
   "mimetype": "text/x-python",
   "name": "python",
   "nbconvert_exporter": "python",
   "pygments_lexer": "ipython3",
   "version": "3.5.5"
  }
 },
 "nbformat": 4,
 "nbformat_minor": 2
}
