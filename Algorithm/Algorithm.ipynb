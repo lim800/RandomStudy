{
 "cells": [
  {
   "cell_type": "code",
   "execution_count": 1,
   "metadata": {},
   "outputs": [
    {
     "ename": "IndexError",
     "evalue": "list index out of range",
     "output_type": "error",
     "traceback": [
      "\u001b[0;31m---------------------------------------------------------------------------\u001b[0m",
      "\u001b[0;31mIndexError\u001b[0m                                Traceback (most recent call last)",
      "\u001b[0;32m<ipython-input-1-f712430ed55c>\u001b[0m in \u001b[0;36m<module>\u001b[0;34m()\u001b[0m\n\u001b[1;32m     15\u001b[0m         \u001b[0;32mif\u001b[0m \u001b[0mk\u001b[0m\u001b[0;34m-\u001b[0m\u001b[0;36m1\u001b[0m \u001b[0;34m>=\u001b[0m \u001b[0mlen\u001b[0m\u001b[0;34m(\u001b[0m\u001b[0malist\u001b[0m\u001b[0;34m)\u001b[0m\u001b[0;34m:\u001b[0m\u001b[0;34m\u001b[0m\u001b[0m\n\u001b[1;32m     16\u001b[0m             \u001b[0mcount\u001b[0m \u001b[0;34m+=\u001b[0m \u001b[0;36m1\u001b[0m\u001b[0;34m\u001b[0m\u001b[0m\n\u001b[0;32m---> 17\u001b[0;31m             \u001b[0mcheck\u001b[0m \u001b[0;34m=\u001b[0m \u001b[0malist\u001b[0m\u001b[0;34m[\u001b[0m\u001b[0mk\u001b[0m\u001b[0;34m-\u001b[0m\u001b[0;36m1\u001b[0m\u001b[0;34m-\u001b[0m\u001b[0;34m(\u001b[0m\u001b[0mlen\u001b[0m\u001b[0;34m(\u001b[0m\u001b[0malist\u001b[0m\u001b[0;34m)\u001b[0m\u001b[0;34m*\u001b[0m\u001b[0mcount\u001b[0m\u001b[0;34m)\u001b[0m\u001b[0;34m]\u001b[0m\u001b[0;34m\u001b[0m\u001b[0m\n\u001b[0m\u001b[1;32m     18\u001b[0m         \u001b[0;32melif\u001b[0m \u001b[0;34m(\u001b[0m\u001b[0malist\u001b[0m \u001b[0;34m==\u001b[0m \u001b[0;34m[\u001b[0m\u001b[0;34m]\u001b[0m\u001b[0;34m)\u001b[0m\u001b[0;34m:\u001b[0m\u001b[0;34m\u001b[0m\u001b[0m\n\u001b[1;32m     19\u001b[0m             \u001b[0;32mpass\u001b[0m\u001b[0;34m\u001b[0m\u001b[0m\n",
      "\u001b[0;31mIndexError\u001b[0m: list index out of range"
     ]
    }
   ],
   "source": [
    "N,k = 3,2\n",
    "count = 0\n",
    "alist = list(range(1,N+1))\n",
    "check = alist[k-1]\n",
    "ans = []\n",
    "\n",
    "while(alist != []):\n",
    "    p = alist.pop(0)\n",
    "#     print(alist)\n",
    "#     print('p:',p)\n",
    "#     print('check:' , check)\n",
    "    if p != check:\n",
    "        alist.append(p)\n",
    "    else:\n",
    "        if k-1 >= len(alist):\n",
    "            count += 1\n",
    "            check = alist[k-1-(len(alist)*count)]\n",
    "        elif (alist == []):\n",
    "            pass\n",
    "        else:\n",
    "            check = alist[k-1]\n",
    "        ans.append(p)\n",
    "\n",
    "print(ans)"
   ]
  },
  {
   "cell_type": "code",
   "execution_count": 55,
   "metadata": {},
   "outputs": [
    {
     "name": "stdout",
     "output_type": "stream",
     "text": [
      "<3, 6, 2, 7, 5, 1, 4>\n"
     ]
    }
   ],
   "source": [
    "# N, K = map(int, input().split(' '))\n",
    "N,k = 7,3\n",
    "count = 0\n",
    "alist = list(range(1,N+1))\n",
    "CCC = alist.copy()\n",
    "ans = []\n",
    "\n",
    "while(len(alist)!=0):\n",
    "    try:\n",
    "        check = CCC[k-1-(len(alist)*count)]\n",
    "    except:\n",
    "        count += 1\n",
    "        continue\n",
    "        \n",
    "    p = alist.pop(0)\n",
    "    if p != check:\n",
    "        alist.append(p)\n",
    "    else:\n",
    "        ans.append(p)\n",
    "        CCC = alist.copy()\n",
    "\n",
    "\n",
    "print('<', end='')\n",
    "for i in ans:\n",
    "    if i == ans[len(ans)-1]:\n",
    "        print(i, end='')\n",
    "    else:\n",
    "        print(i, end=', ')\n",
    "print('>')\n"
   ]
  },
  {
   "cell_type": "code",
   "execution_count": 69,
   "metadata": {},
   "outputs": [
    {
     "name": "stdout",
     "output_type": "stream",
     "text": [
      "7 3\n",
      "<3, 6, 2, 7, 5, 1, 4>\n"
     ]
    }
   ],
   "source": [
    "N, K = map(int, input().split(' '))\n",
    "# N,K = (7,3)\n",
    "count = 0\n",
    "alist = list(range(1,N+1))\n",
    "check = alist[K-1]\n",
    "ans = []\n",
    "\n",
    "while(len(alist)!=0):\n",
    "    p = alist.pop(0)\n",
    "    if p != check:\n",
    "        alist.append(p)\n",
    "    else:\n",
    "        while True:\n",
    "            try:\n",
    "                if alist ==[]:\n",
    "                    break\n",
    "                check = alist[K-1-(len(alist)*count)]\n",
    "            except:\n",
    "                count += 1\n",
    "            else:\n",
    "                break\n",
    "        ans.append(p)\n",
    "print('<', end='')\n",
    "for i in ans:\n",
    "    if i == ans[len(ans)-1]:\n",
    "        print(i, end='')\n",
    "    else:\n",
    "        print(i, end=', ')\n",
    "print('>')\n"
   ]
  },
  {
   "cell_type": "code",
   "execution_count": 102,
   "metadata": {},
   "outputs": [
    {
     "name": "stdout",
     "output_type": "stream",
     "text": [
      "2\n",
      "3\n",
      "7\n",
      "5\n",
      "4\n",
      "210\n",
      "84\n"
     ]
    }
   ],
   "source": [
    "ans = []\n",
    "T = int(input())\n",
    "for _ in range(T):\n",
    "    K = int(input())\n",
    "    N = int(input())\n",
    "    pocket = list(range(1,N+1))\n",
    "    ans.append(ppl())\n",
    "def ppl():\n",
    "    global K\n",
    "    K -=1\n",
    "    for i in range(1,N):\n",
    "        pocket[i] = pocket[i] + pocket[i-1]\n",
    "    if K == 0:\n",
    "        return pocket[N-1]\n",
    "    return ppl()\n",
    "for j in ans:\n",
    "    print(j)"
   ]
  },
  {
   "cell_type": "code",
   "execution_count": 103,
   "metadata": {},
   "outputs": [
    {
     "name": "stdout",
     "output_type": "stream",
     "text": [
      "2\n",
      "3\n",
      "7\n",
      "5\n",
      "4\n",
      "210\n",
      "84\n"
     ]
    }
   ],
   "source": [
    "ans = []\n",
    "T = int(input())\n",
    "for _ in range(T):\n",
    "    K = int(input())\n",
    "    N = int(input())\n",
    "    pocket = list(range(1,N+1))\n",
    "    while True:\n",
    "        K -=1\n",
    "        for i in range(1,N):\n",
    "            pocket[i] = pocket[i] + pocket[i-1]\n",
    "        if K == 0:\n",
    "            ans.append(pocket[N-1])\n",
    "            break\n",
    "for j in ans:\n",
    "    print(j)"
   ]
  },
  {
   "cell_type": "code",
   "execution_count": 20,
   "metadata": {},
   "outputs": [
    {
     "name": "stdout",
     "output_type": "stream",
     "text": [
      "4.0\n",
      "3.0\n",
      "2.0\n",
      "1.0\n",
      "0.0\n",
      "-1.0\n",
      "-2.0\n",
      "-3.0\n",
      "0.0\n",
      "-1.0\n",
      "count:  12\n"
     ]
    }
   ],
   "source": [
    "x, y = 45, 50\n",
    "k = 1\n",
    "count = 2\n",
    "if y-x == 0:\n",
    "    count = 1\n",
    "else:\n",
    "    while True:\n",
    "        x += k\n",
    "        if x == (y-1):\n",
    "            break\n",
    "        T_dist = [((y-1)-(x+k-1))**2, ((y-1)-(x+k))**2, ((y-1)-(x+k+1))**2]\n",
    "        k = ((min(T_dist))**0.5+(y-1-x))\n",
    "        print(k)\n",
    "        count += 1\n",
    "\n",
    "\n",
    "print('count: ',count)"
   ]
  },
  {
   "cell_type": "code",
   "execution_count": 26,
   "metadata": {},
   "outputs": [
    {
     "name": "stdout",
     "output_type": "stream",
     "text": [
      "15\n"
     ]
    }
   ],
   "source": [
    "k = 5\n",
    "print(sum(range(1,k+1)))"
   ]
  },
  {
   "cell_type": "code",
   "execution_count": 83,
   "metadata": {},
   "outputs": [
    {
     "name": "stdout",
     "output_type": "stream",
     "text": [
      "k:  1\n",
      "x:  2\n",
      "y-x:  3\n",
      "sum:  1\n",
      "\n",
      "k:  1\n",
      "x:  3\n",
      "y-x:  2\n",
      "sum:  1\n",
      "\n",
      "k:  1\n",
      "x:  4\n",
      "y-x:  1\n",
      "sum:  1\n",
      "\n",
      "k:  1\n",
      "x:  5\n",
      "y-x:  0\n",
      "sum:  1\n",
      "\n",
      "count:  5\n"
     ]
    }
   ],
   "source": [
    "x, y = 1, 5\n",
    "k = 1\n",
    "count = 1\n",
    "if y-x != 1:\n",
    "    while True:\n",
    "        x += k\n",
    "        print('k: ', k)\n",
    "        print('x: ', x)\n",
    "        print('y-x: ', y-x)\n",
    "        print('sum: ', sum(range(1,k+1)))\n",
    "        print()\n",
    "        if (y-x) == 0:\n",
    "            count += 1\n",
    "            break\n",
    "        elif (y-x) > sum(range(1,k+1)):\n",
    "            if (y-x) :\n",
    "                pass\n",
    "            else: \n",
    "                k += 1\n",
    "            count += 1\n",
    "        elif (y-x) < sum(range(1,k+1)):\n",
    "            k -= 1\n",
    "            count += 1\n",
    "\n",
    "        elif (y-x) == sum(range(1,k+1)):\n",
    "            count += len(range(k))\n",
    "            break\n",
    "\n",
    "print('count: ', count)"
   ]
  },
  {
   "cell_type": "code",
   "execution_count": 109,
   "metadata": {},
   "outputs": [
    {
     "name": "stdout",
     "output_type": "stream",
     "text": [
      "k:  1\n",
      "x:  46\n",
      "\n",
      "k:  2\n",
      "x:  48\n",
      "\n",
      "count:  4\n"
     ]
    }
   ],
   "source": [
    "x, y = 45, 50\n",
    "k = 1\n",
    "count = 1\n",
    "if y-x != 1:\n",
    "    while True:\n",
    "        x += k\n",
    "        print('k: ', k)\n",
    "        print('x: ', x)\n",
    "        print()\n",
    "        if x == y :\n",
    "            break\n",
    "\n",
    "        if (y-(x+k+1))-sum(range(1,k+2)) >= -2:\n",
    "            if (y-(x+k+1)) == sum(range(1,k+2)):\n",
    "                count += len(range(k+2))\n",
    "                break\n",
    "            k += 1\n",
    "            count += 1\n",
    "        elif (y-(x+k))-sum(range(1,k+1)) >= -2:\n",
    "            if (y-(x+k)) == sum(range(1,k+1)):\n",
    "                count += len(range(k+1))\n",
    "                break\n",
    "            count += 1\n",
    "        elif (y-(x+k-1))-sum(range(1,k)) >= -2:\n",
    "            if (y-(x+k-1)) == sum(range(1,k)):\n",
    "                count += len(range(k))\n",
    "                break\n",
    "            k -= 1\n",
    "            count +=1\n",
    "\n",
    "\n",
    "\n",
    "print('count: ', count)"
   ]
  },
  {
   "cell_type": "code",
   "execution_count": 139,
   "metadata": {},
   "outputs": [
    {
     "name": "stdout",
     "output_type": "stream",
     "text": [
      "1\n",
      "45 50\n",
      "4\n"
     ]
    }
   ],
   "source": [
    "ans = []\n",
    "T = int(input())\n",
    "for _ in range(T):\n",
    "    x,y = list(input().split())\n",
    "    k,x,y = 1, int(x), int(y)\n",
    "    count = 1\n",
    "    if y-x != 1:\n",
    "        while True:\n",
    "            x += k\n",
    "            if x == y :\n",
    "                break\n",
    "            if (y-(x+k+1))-sum(range(1,k+2)) >= -2:\n",
    "#                 if (y-(x+k+1)) == sum(range(1,k+2)):\n",
    "#                     count += len(range(k+2))\n",
    "#                     break\n",
    "                k += 1\n",
    "                count += 1\n",
    "            elif (y-(x+k))-sum(range(1,k+1)) >= -2:\n",
    "#                 if (y-(x+k)) == sum(range(1,k+1)):\n",
    "#                     count += len(range(k+1))\n",
    "#                     break\n",
    "                count += 1\n",
    "            elif (y-(x+k-1))-sum(range(1,k)) >= -2:\n",
    "#                 if (y-(x+k-1)) == sum(range(1,k)):\n",
    "#                     count += len(range(k))\n",
    "#                     break\n",
    "                k -= 1\n",
    "                count +=1\n",
    "    ans.append(count)\n",
    "    \n",
    "for j in ans:\n",
    "    print(j)"
   ]
  },
  {
   "cell_type": "code",
   "execution_count": null,
   "metadata": {},
   "outputs": [],
   "source": [
    "ans = []\n",
    "T = int(input())\n",
    "for _ in range(T):\n",
    "    x,y = list(input().split())\n",
    "    k,x,y = 1, int(x), int(y)\n",
    "    count = 1\n",
    "    if y-x != 1:\n",
    "        while True:\n",
    "            x += k\n",
    "            if x == y :\n",
    "                break\n",
    "            if (y-(x+k+1))-sum(range(1,k+2)) >= -2:\n",
    "                k += 1\n",
    "                count += 1\n",
    "            elif (y-(x+k))-sum(range(1,k+1)) >= -2:\n",
    "                count += 1\n",
    "            elif (y-(x+k-1))-sum(range(1,k)) >= -2:\n",
    "                k -= 1\n",
    "                count +=1\n",
    "    ans.append(count)\n",
    "    \n",
    "for j in ans:\n",
    "    print(j)"
   ]
  },
  {
   "cell_type": "code",
   "execution_count": 148,
   "metadata": {},
   "outputs": [
    {
     "name": "stdout",
     "output_type": "stream",
     "text": [
      "1\n",
      "0 3\n",
      "3\n"
     ]
    }
   ],
   "source": [
    "case_num = int(input())\n",
    "ans = []\n",
    "for i in range(case_num):\n",
    "    a, b = map(int, input().split())\n",
    "    num = b-a\n",
    "    k = 1\n",
    "    p = 1\n",
    "    while num > 0:\n",
    "        num -= k\n",
    "        k += 1\n",
    "        if num >= p:\n",
    "            num -= p\n",
    "            p += 1\n",
    "\n",
    "    ans.append(k+p-2)\n",
    "\n",
    "for i in ans:\n",
    "    print(i)    "
   ]
  },
  {
   "cell_type": "markdown",
   "metadata": {},
   "source": [
    "## 숌 코드"
   ]
  },
  {
   "cell_type": "code",
   "execution_count": 2,
   "metadata": {},
   "outputs": [
    {
     "data": {
      "text/plain": [
       "'th3s 3s str3ng 2x1mpl2....w4w!!!'"
      ]
     },
     "execution_count": 2,
     "metadata": {},
     "output_type": "execute_result"
    }
   ],
   "source": [
    "intab = \"aeiou\"\n",
    "outtab = \"12345\"\n",
    "trantab = str.maketrans(intab, outtab)\n",
    "\n",
    "str = \"this is string example....wow!!!\"\n",
    "str.translate(trantab)"
   ]
  },
  {
   "cell_type": "code",
   "execution_count": 82,
   "metadata": {},
   "outputs": [],
   "source": [
    "import re\n",
    "import numpy as np\n",
    "from random import sample\n",
    "from itertools import permutations"
   ]
  },
  {
   "cell_type": "markdown",
   "metadata": {},
   "source": [
    "#### 1차"
   ]
  },
  {
   "cell_type": "code",
   "execution_count": 83,
   "metadata": {},
   "outputs": [
    {
     "name": "stdout",
     "output_type": "stream",
     "text": [
      "{'110a110', '1a1a0a1a1a0'}\n",
      "{'110a110', '1a1a0a1a1a0'}\n",
      "{'110a110', '1a1a0a1a1a0'}\n",
      "{'110a110', '1a1a0a1a1a0'}\n",
      "{'110a110', '1a1a0a1a1a0'}\n",
      "1\n"
     ]
    }
   ],
   "source": [
    "# T = int(input())\n",
    "# lista = []\n",
    "# for _ in range(T):\n",
    "#     lista.append(input())\n",
    "# lista.append('@')\n",
    "# lista = sorted(lista, key=len, reverse=True)\n",
    "lista = ['110110' , '110', '10' , '1' , '0', '@']\n",
    "ans = []\n",
    "anslist = []\n",
    "anslist2 = []\n",
    "#==================\n",
    "while True:\n",
    "    target = lista.pop(0)\n",
    "    if target == '@':\n",
    "        break\n",
    "    target_fix = target\n",
    "    target2 = 'none'\n",
    "    cnt = 0\n",
    "    while True:\n",
    "        for i in lista:\n",
    "            while True:\n",
    "                if i == target[0:len(i)]:\n",
    "                    anslist.append(i)\n",
    "                    target = target.replace(i, \"\", 1)\n",
    "                else:\n",
    "                    break\n",
    "        if target == target2:\n",
    "            cnt+=1\n",
    "#             print(cnt)\n",
    "            if len(target) == 0:\n",
    "                anslist2.append(\"a\".join(anslist))\n",
    "                anslist = []\n",
    "                if cnt != 20:\n",
    "                    lista = sample(lista, len(lista))\n",
    "#                     print(\"lista: \", lista)\n",
    "                    target = target_fix\n",
    "                else:\n",
    "                    break\n",
    "            else:\n",
    "                break\n",
    "        target2 = target\n",
    "    lista.append(lista.pop(lista.index('@')))\n",
    "    print(set(anslist2))\n",
    "    if (len(set(anslist2))+1) >= 3:\n",
    "        ans.append(len(target_fix))\n",
    "#====================        \n",
    "if not ans:\n",
    "    print(-1)\n",
    "else:\n",
    "    print(min(ans))\n"
   ]
  },
  {
   "cell_type": "markdown",
   "metadata": {},
   "source": [
    "#### 2차"
   ]
  },
  {
   "cell_type": "code",
   "execution_count": 90,
   "metadata": {},
   "outputs": [
    {
     "name": "stdout",
     "output_type": "stream",
     "text": [
      "{'110a110', '1a1a0a110'}\n",
      "{'1a1a0'}\n",
      "{'1a0'}\n",
      "set()\n",
      "6\n"
     ]
    }
   ],
   "source": [
    "# T = int(input())\n",
    "# lista = []\n",
    "# for _ in range(T):\n",
    "#     lista.append(input())\n",
    "# lista.append('@')\n",
    "# lista = sorted(lista, key=len, reverse=True)\n",
    "lista = ['110110' , '110', '10' , '1' , '0', '@']\n",
    "ans = []\n",
    "while True:\n",
    "    target = lista.pop(0) \n",
    "    if target == '@':\n",
    "        break\n",
    "    target_fix = target\n",
    "    target2 = 'none'\n",
    "    anslist = []\n",
    "    anslist2 = []\n",
    "    while True:\n",
    "        for i in lista:\n",
    "            while True:\n",
    "                if i == target[0:len(i)]:\n",
    "                    anslist.append(i)\n",
    "                    target = target.replace(i, \"\", 1)\n",
    "                else:\n",
    "                    break\n",
    "                    \n",
    "        if target == target2:\n",
    "            if len(target) == 0:\n",
    "                anslist2.append(\"a\".join(anslist))\n",
    "                anslist = []\n",
    "                if lista[0] != '@':\n",
    "                    lista.append(lista.pop(0))\n",
    "                    target = target_fix\n",
    "                else:\n",
    "                    break\n",
    "            else:\n",
    "                break\n",
    "        target2 = target\n",
    "    print(set(anslist2))\n",
    "    lista.append(lista.pop(0))\n",
    "    \n",
    "    if (len(set(anslist2))+1) >= 3:\n",
    "        ans.append(len(target_fix))\n",
    "if not ans:\n",
    "    print(-1)\n",
    "else:\n",
    "    print(min(ans))\n"
   ]
  },
  {
   "cell_type": "code",
   "execution_count": null,
   "metadata": {},
   "outputs": [],
   "source": [
    "anslist = []\n",
    "def abc(lista, trg):\n",
    "#     print(lista)\n",
    "#     if lista[0] == '@':\n",
    "#         return anslist\n",
    "    for i in lista:\n",
    "        m = re.match(lista[0], trg)\n",
    "        if m:\n",
    "            anslist.append(lista[0])\n",
    "    #         print(\"anslist\",anslist)\n",
    "            trg = trg.replace(lista[0], \"\", 1)\n",
    "            abc(lista, trg)\n",
    "\n",
    "        else:\n",
    "            lista.append(lista.pop(0))\n",
    "            abc(lista, trg)\n",
    "        \n",
    "        \n",
    "print(abc(['110', '10' , '1' , '0', '@'], '110110'))"
   ]
  },
  {
   "cell_type": "code",
   "execution_count": 265,
   "metadata": {
    "scrolled": true
   },
   "outputs": [
    {
     "data": {
      "text/plain": [
       "0"
      ]
     },
     "execution_count": 265,
     "metadata": {},
     "output_type": "execute_result"
    }
   ],
   "source": [
    "lista.index(\"@\")"
   ]
  },
  {
   "cell_type": "markdown",
   "metadata": {},
   "source": [
    "### 3차"
   ]
  },
  {
   "cell_type": "markdown",
   "metadata": {},
   "source": [
    "['110110' , '110', '10' , '1' , '0', '@']\n",
    "\n",
    "- 1, 1, 0, 1, 1, 0\n",
    "- 1, 1, 0, 1, 10\n",
    "- 1, 1, 0, 110\n",
    "- 1, 10, 1, 1, 0\n",
    "- 1, 10, 1, 10\n",
    "- 1, 10, 110\n",
    "- 110, 1, 1, 0\n",
    "- 110, 1, 10\n",
    "- 110, 110\n",
    "- 110110"
   ]
  },
  {
   "cell_type": "code",
   "execution_count": 3,
   "metadata": {},
   "outputs": [],
   "source": [
    "import re"
   ]
  },
  {
   "cell_type": "code",
   "execution_count": 34,
   "metadata": {},
   "outputs": [
    {
     "data": {
      "text/plain": [
       "['110', '1']"
      ]
     },
     "execution_count": 34,
     "metadata": {},
     "output_type": "execute_result"
    }
   ],
   "source": [
    "anslist = []\n",
    "def matchlist(lista, trg):\n",
    "    for i in lista:\n",
    "        if re.match(i, trg):\n",
    "            anslist.append(i)\n",
    "    return anslist\n",
    "\n",
    "matchlist(['110', '10' , '1' , '0', '@'], '110110')\n"
   ]
  },
  {
   "cell_type": "code",
   "execution_count": 76,
   "metadata": {},
   "outputs": [
    {
     "data": {
      "text/plain": [
       "{0: 'start', 1: ['110', '10110']}"
      ]
     },
     "execution_count": 76,
     "metadata": {},
     "output_type": "execute_result"
    }
   ],
   "source": [
    "anslist = []\n",
    "anslist2 = []\n",
    "dix = {0:'start'}\n",
    "num = 0\n",
    "def trglist(lista, trg):\n",
    "    global num\n",
    "    a = matchlist(lista, trg)\n",
    "    if a:\n",
    "        for j in a:\n",
    "            anslist2.append(trg.replace(j, \"\", 1))\n",
    "        if dix[num]:\n",
    "            num +=1\n",
    "            dix[num] = anslist2\n",
    "        else:\n",
    "            dix[num] = anslist2\n",
    "        return dix\n",
    "    else:\n",
    "        a.append(\"@\")\n",
    "        if dix[num]:\n",
    "            num+=1\n",
    "            dix[num] = anslist2\n",
    "        else:\n",
    "            dix[num] = anslist2\n",
    "        return dix\n",
    "\n",
    "trglist(['110', '10' , '1' , '0'], '110110')\n",
    "    "
   ]
  },
  {
   "cell_type": "code",
   "execution_count": 26,
   "metadata": {},
   "outputs": [
    {
     "name": "stdout",
     "output_type": "stream",
     "text": [
      "<_sre.SRE_Match object; span=(0, 3), match='110'>\n"
     ]
    }
   ],
   "source": [
    "# \"110110\" == [10.]\n",
    "# p = re.compile(\"110\")\n",
    "m = re.match(\"110\",\"110110\")\n",
    "print(m)"
   ]
  },
  {
   "cell_type": "code",
   "execution_count": null,
   "metadata": {},
   "outputs": [],
   "source": [
    "def mem(trg):\n",
    "    if trg[:1] in lista:\n",
    "        trg = trg[1:]\n",
    "        mem(trg)\n",
    "    else:\n",
    "        nonmem(trg)\n",
    "        "
   ]
  },
  {
   "cell_type": "code",
   "execution_count": 224,
   "metadata": {},
   "outputs": [
    {
     "data": {
      "text/plain": [
       "<_sre.SRE_Match object; span=(0, 2), match='00'>"
      ]
     },
     "execution_count": 224,
     "metadata": {},
     "output_type": "execute_result"
    }
   ],
   "source": [
    "re.search('00', '00000000',flags=0)"
   ]
  },
  {
   "cell_type": "code",
   "execution_count": 84,
   "metadata": {},
   "outputs": [
    {
     "data": {
      "text/plain": [
       "[('456', '123', '4542'),\n",
       " ('456', '4542', '123'),\n",
       " ('123', '456', '4542'),\n",
       " ('123', '4542', '456'),\n",
       " ('4542', '456', '123'),\n",
       " ('4542', '123', '456')]"
      ]
     },
     "execution_count": 84,
     "metadata": {},
     "output_type": "execute_result"
    }
   ],
   "source": [
    "from random import sample\n",
    "from itertools import permutations\n",
    "test = ['456','123','4542']\n",
    "# test.pop(np.argmax([len(x) for x in test]))\n",
    "# sorted(test, key=len)\n",
    "# sample(test, len(test))\n",
    "list(permutations(test, len(test)))"
   ]
  },
  {
   "cell_type": "code",
   "execution_count": 89,
   "metadata": {},
   "outputs": [
    {
     "data": {
      "text/plain": [
       "[('456', '123', '4542')]"
      ]
     },
     "execution_count": 89,
     "metadata": {},
     "output_type": "execute_result"
    }
   ],
   "source": [
    "from itertools import combinations\n",
    "list(combinations(test, len(test)))"
   ]
  },
  {
   "cell_type": "code",
   "execution_count": 4,
   "metadata": {},
   "outputs": [
    {
     "data": {
      "text/plain": [
       "[('10',), ('1', '0')]"
      ]
     },
     "execution_count": 4,
     "metadata": {},
     "output_type": "execute_result"
    }
   ],
   "source": [
    "from itertools import product\n",
    "answers = []\n",
    "# X=['10101','1', '1010' , '01' ]\n",
    "X=['110110' , '110', '10' , '1' , '0' ]\n",
    "TRG = '10'\n",
    "for r in range(1, round(len(TRG)/min([len(arg) for arg in X]))+1):\n",
    "    li = [p for p in product(X, repeat=r)]\n",
    "    for i in li:\n",
    "        if \"\".join(i) == TRG:\n",
    "            answers.append(i)\n",
    "answers"
   ]
  },
  {
   "cell_type": "code",
   "execution_count": null,
   "metadata": {},
   "outputs": [],
   "source": [
    "from itertools import product\n",
    "answers = []\n",
    "X=['10101','1', '1010' , '01' ]\n",
    "TRG = '10101'\n",
    "li = [p for p in product(X, repeat=50)]\n",
    "for i in li:\n",
    "    if len(\"\".join(i)) <= 50:\n",
    "        answers.append(\"\".join(i))\n",
    "answers"
   ]
  },
  {
   "cell_type": "code",
   "execution_count": null,
   "metadata": {},
   "outputs": [],
   "source": [
    "# lista = ['110110' , '110', '10' , '1' , '0' ]"
   ]
  },
  {
   "cell_type": "code",
   "execution_count": 24,
   "metadata": {
    "scrolled": false
   },
   "outputs": [
    {
     "name": "stdout",
     "output_type": "stream",
     "text": [
      "('110', '1', '1')\n",
      "('110', '1', '0')\n",
      "('110', '0', '1')\n",
      "('110', '0', '0')\n",
      "('10', '10', '1')\n",
      "('10', '10', '0')\n",
      "('10', '1', '10')\n",
      "('10', '0', '10')\n",
      "('1', '110', '1')\n",
      "('1', '110', '0')\n",
      "('1', '10', '10')\n",
      "('1', '1', '110')\n",
      "('1', '0', '110')\n",
      "('0', '110', '1')\n",
      "('0', '110', '0')\n",
      "('0', '10', '10')\n",
      "('0', '1', '110')\n",
      "('0', '0', '110')\n"
     ]
    }
   ],
   "source": [
    "for i in filter(lambda x: len(\"\".join(x))  ==5,  product(lista, repeat=3)):\n",
    "    print(i)\n"
   ]
  },
  {
   "cell_type": "markdown",
   "metadata": {},
   "source": [
    "### 4차"
   ]
  },
  {
   "cell_type": "code",
   "execution_count": null,
   "metadata": {},
   "outputs": [],
   "source": [
    "from itertools import product\n",
    "\n",
    "# T = int(input())\n",
    "# lista = []\n",
    "# for _ in range(T):\n",
    "#     lista.append(input())\n",
    "lista = ['110', '10' , '1' , '0' ]\n",
    "ans = []\n",
    "targetlist = []\n",
    "if '-1' in lista:\n",
    "    print(\"0\")\n",
    "else:\n",
    "    for k in [p for p in product(lista, repeat=len(lista))]:\n",
    "        targetlist.append(\"\".join(k))\n",
    "    for number in range(len(lista)):\n",
    "        anslist = []\n",
    "        target = lista[number]\n",
    "        if target == '-1':\n",
    "            continue\n",
    "        for r in range(1, round(len(target)/min([len(arg) for arg in lista]))+1):\n",
    "            li = [p for p in product(lista, repeat=r)]\n",
    "            for i in li:\n",
    "                if \"\".join(i) == target:\n",
    "                    anslist.append(i)\n",
    "#         if (len(anslist)) >= 3:\n",
    "        ans.append(len(target))\n",
    "    \n",
    "    \n",
    "    \n",
    "    print('ans: ',ans)\n",
    "    print(min(ans))"
   ]
  },
  {
   "cell_type": "code",
   "execution_count": null,
   "metadata": {},
   "outputs": [],
   "source": [
    "li"
   ]
  },
  {
   "cell_type": "markdown",
   "metadata": {},
   "source": [
    "### 5차"
   ]
  },
  {
   "cell_type": "code",
   "execution_count": 84,
   "metadata": {
    "scrolled": true
   },
   "outputs": [
    {
     "name": "stdout",
     "output_type": "stream",
     "text": [
      "target_len:  7\n",
      "targetlist:  ['0111100', '1100011', '0111100', '0111001', '1100011', '1001011', '0111100', '0111001', '1100011', '1001011', '0111100', '0111001', '1100011', '1100101', '1001011', '1001101', '1011100', '1011001', '0111100', '0111001', '1100011', '1100101', '1001011', '1001101', '1011100', '1011001', '0110111', '0111011', '0111011', '0111101', '1010111', '1010111', '1011011', '1011011', '1011101', '1011011', '1011101', '1101011', '1101011', '1101101', '1110101', '1100111', '1001111', '1110011', '1100111', '1111001', '1110011', '1111100', '1111001', '0111111', '1011111', '1011111', '1101111', '1101111', '1110111', '1110111', '1111011', '1111011', '1111101', '1111111']\n",
      "target:  0111100 anslist:  []\n",
      "target:  0111100 anslist:  [('011', '1100')]\n",
      "target:  0111100 anslist:  [('011', '1100')]\n",
      "target:  0111100 anslist:  [('011', '1100')]\n",
      "target:  0111100 anslist:  [('011', '1100')]\n",
      "target:  0111100 anslist:  [('011', '1100')]\n",
      "target:  0111100 anslist:  [('011', '1100')]\n",
      "target:  1100011 anslist:  []\n",
      "target:  1100011 anslist:  [('1100', '011')]\n",
      "target:  1100011 anslist:  [('1100', '011')]\n",
      "target:  1100011 anslist:  [('1100', '011')]\n",
      "target:  1100011 anslist:  [('1100', '011')]\n",
      "target:  1100011 anslist:  [('1100', '011')]\n",
      "target:  1100011 anslist:  [('1100', '011')]\n",
      "target:  0111100 anslist:  []\n",
      "target:  0111100 anslist:  [('011', '1100')]\n",
      "target:  0111100 anslist:  [('011', '1100')]\n",
      "target:  0111100 anslist:  [('011', '1100')]\n",
      "target:  0111100 anslist:  [('011', '1100')]\n",
      "target:  0111100 anslist:  [('011', '1100')]\n",
      "target:  0111100 anslist:  [('011', '1100')]\n",
      "target:  0111001 anslist:  []\n",
      "target:  0111001 anslist:  [('011', '1001')]\n",
      "target:  0111001 anslist:  [('011', '1001')]\n",
      "target:  0111001 anslist:  [('011', '1001')]\n",
      "target:  0111001 anslist:  [('011', '1001')]\n",
      "target:  0111001 anslist:  [('011', '1001')]\n",
      "target:  0111001 anslist:  [('011', '1001')]\n",
      "target:  1100011 anslist:  []\n",
      "target:  1100011 anslist:  [('1100', '011')]\n",
      "target:  1100011 anslist:  [('1100', '011')]\n",
      "target:  1100011 anslist:  [('1100', '011')]\n",
      "target:  1100011 anslist:  [('1100', '011')]\n",
      "target:  1100011 anslist:  [('1100', '011')]\n",
      "target:  1100011 anslist:  [('1100', '011')]\n",
      "target:  1001011 anslist:  []\n",
      "target:  1001011 anslist:  [('1001', '011')]\n",
      "target:  1001011 anslist:  [('1001', '011')]\n",
      "target:  1001011 anslist:  [('1001', '011')]\n",
      "target:  1001011 anslist:  [('1001', '011')]\n",
      "target:  1001011 anslist:  [('1001', '011')]\n",
      "target:  1001011 anslist:  [('1001', '011')]\n",
      "target:  0111100 anslist:  []\n",
      "target:  0111100 anslist:  [('011', '1100')]\n",
      "target:  0111100 anslist:  [('011', '1100')]\n",
      "target:  0111100 anslist:  [('011', '1100')]\n",
      "target:  0111100 anslist:  [('011', '1100')]\n",
      "target:  0111100 anslist:  [('011', '1100')]\n",
      "target:  0111100 anslist:  [('011', '1100')]\n",
      "target:  0111001 anslist:  []\n",
      "target:  0111001 anslist:  [('011', '1001')]\n",
      "target:  0111001 anslist:  [('011', '1001')]\n",
      "target:  0111001 anslist:  [('011', '1001')]\n",
      "target:  0111001 anslist:  [('011', '1001')]\n",
      "target:  0111001 anslist:  [('011', '1001')]\n",
      "target:  0111001 anslist:  [('011', '1001')]\n",
      "target:  1100011 anslist:  []\n",
      "target:  1100011 anslist:  [('1100', '011')]\n",
      "target:  1100011 anslist:  [('1100', '011')]\n",
      "target:  1100011 anslist:  [('1100', '011')]\n",
      "target:  1100011 anslist:  [('1100', '011')]\n",
      "target:  1100011 anslist:  [('1100', '011')]\n",
      "target:  1100011 anslist:  [('1100', '011')]\n",
      "target:  1001011 anslist:  []\n",
      "target:  1001011 anslist:  [('1001', '011')]\n",
      "target:  1001011 anslist:  [('1001', '011')]\n",
      "target:  1001011 anslist:  [('1001', '011')]\n",
      "target:  1001011 anslist:  [('1001', '011')]\n",
      "target:  1001011 anslist:  [('1001', '011')]\n",
      "target:  1001011 anslist:  [('1001', '011')]\n",
      "target:  0111100 anslist:  []\n",
      "target:  0111100 anslist:  [('011', '1100')]\n",
      "target:  0111100 anslist:  [('011', '1100')]\n",
      "target:  0111100 anslist:  [('011', '1100')]\n",
      "target:  0111100 anslist:  [('011', '1100')]\n",
      "target:  0111100 anslist:  [('011', '1100')]\n",
      "target:  0111100 anslist:  [('011', '1100')]\n",
      "target:  0111001 anslist:  []\n",
      "target:  0111001 anslist:  [('011', '1001')]\n",
      "target:  0111001 anslist:  [('011', '1001')]\n",
      "target:  0111001 anslist:  [('011', '1001')]\n",
      "target:  0111001 anslist:  [('011', '1001')]\n",
      "target:  0111001 anslist:  [('011', '1001')]\n",
      "target:  0111001 anslist:  [('011', '1001')]\n",
      "target:  1100011 anslist:  []\n",
      "target:  1100011 anslist:  [('1100', '011')]\n",
      "target:  1100011 anslist:  [('1100', '011')]\n",
      "target:  1100011 anslist:  [('1100', '011')]\n",
      "target:  1100011 anslist:  [('1100', '011')]\n",
      "target:  1100011 anslist:  [('1100', '011')]\n",
      "target:  1100011 anslist:  [('1100', '011')]\n",
      "target:  1100101 anslist:  []\n",
      "target:  1100101 anslist:  [('1100', '101')]\n",
      "target:  1100101 anslist:  [('1100', '101')]\n",
      "target:  1100101 anslist:  [('1100', '101')]\n",
      "target:  1100101 anslist:  [('1100', '101')]\n",
      "target:  1100101 anslist:  [('1100', '101')]\n",
      "target:  1100101 anslist:  [('1100', '101')]\n",
      "target:  1001011 anslist:  []\n",
      "target:  1001011 anslist:  [('1001', '011')]\n",
      "target:  1001011 anslist:  [('1001', '011')]\n",
      "target:  1001011 anslist:  [('1001', '011')]\n",
      "target:  1001011 anslist:  [('1001', '011')]\n",
      "target:  1001011 anslist:  [('1001', '011')]\n",
      "target:  1001011 anslist:  [('1001', '011')]\n",
      "target:  1001101 anslist:  []\n",
      "target:  1001101 anslist:  [('1001', '101')]\n",
      "target:  1001101 anslist:  [('1001', '101')]\n",
      "target:  1001101 anslist:  [('1001', '101')]\n",
      "target:  1001101 anslist:  [('1001', '101')]\n",
      "target:  1001101 anslist:  [('1001', '101')]\n",
      "target:  1001101 anslist:  [('1001', '101')]\n",
      "target:  1011100 anslist:  []\n",
      "target:  1011100 anslist:  [('101', '1100')]\n",
      "target:  1011100 anslist:  [('101', '1100')]\n",
      "target:  1011100 anslist:  [('101', '1100')]\n",
      "target:  1011100 anslist:  [('101', '1100')]\n",
      "target:  1011100 anslist:  [('101', '1100')]\n",
      "target:  1011100 anslist:  [('101', '1100')]\n",
      "target:  1011001 anslist:  []\n",
      "target:  1011001 anslist:  [('101', '1001')]\n",
      "target:  1011001 anslist:  [('101', '1001')]\n",
      "target:  1011001 anslist:  [('101', '1001')]\n",
      "target:  1011001 anslist:  [('101', '1001')]\n",
      "target:  1011001 anslist:  [('101', '1001')]\n",
      "target:  1011001 anslist:  [('101', '1001')]\n",
      "target:  0111100 anslist:  []\n",
      "target:  0111100 anslist:  [('011', '1100')]\n",
      "target:  0111100 anslist:  [('011', '1100')]\n",
      "target:  0111100 anslist:  [('011', '1100')]\n",
      "target:  0111100 anslist:  [('011', '1100')]\n",
      "target:  0111100 anslist:  [('011', '1100')]\n",
      "target:  0111100 anslist:  [('011', '1100')]\n",
      "target:  0111001 anslist:  []\n",
      "target:  0111001 anslist:  [('011', '1001')]\n",
      "target:  0111001 anslist:  [('011', '1001')]\n",
      "target:  0111001 anslist:  [('011', '1001')]\n",
      "target:  0111001 anslist:  [('011', '1001')]\n",
      "target:  0111001 anslist:  [('011', '1001')]\n",
      "target:  0111001 anslist:  [('011', '1001')]\n",
      "target:  1100011 anslist:  []\n",
      "target:  1100011 anslist:  [('1100', '011')]\n",
      "target:  1100011 anslist:  [('1100', '011')]\n",
      "target:  1100011 anslist:  [('1100', '011')]\n",
      "target:  1100011 anslist:  [('1100', '011')]\n",
      "target:  1100011 anslist:  [('1100', '011')]\n",
      "target:  1100011 anslist:  [('1100', '011')]\n",
      "target:  1100101 anslist:  []\n",
      "target:  1100101 anslist:  [('1100', '101')]\n",
      "target:  1100101 anslist:  [('1100', '101')]\n",
      "target:  1100101 anslist:  [('1100', '101')]\n",
      "target:  1100101 anslist:  [('1100', '101')]\n",
      "target:  1100101 anslist:  [('1100', '101')]\n",
      "target:  1100101 anslist:  [('1100', '101')]\n",
      "target:  1001011 anslist:  []\n",
      "target:  1001011 anslist:  [('1001', '011')]\n",
      "target:  1001011 anslist:  [('1001', '011')]\n",
      "target:  1001011 anslist:  [('1001', '011')]\n",
      "target:  1001011 anslist:  [('1001', '011')]\n",
      "target:  1001011 anslist:  [('1001', '011')]\n",
      "target:  1001011 anslist:  [('1001', '011')]\n",
      "target:  1001101 anslist:  []\n",
      "target:  1001101 anslist:  [('1001', '101')]\n",
      "target:  1001101 anslist:  [('1001', '101')]\n",
      "target:  1001101 anslist:  [('1001', '101')]\n",
      "target:  1001101 anslist:  [('1001', '101')]\n",
      "target:  1001101 anslist:  [('1001', '101')]\n",
      "target:  1001101 anslist:  [('1001', '101')]\n",
      "target:  1011100 anslist:  []\n",
      "target:  1011100 anslist:  [('101', '1100')]\n",
      "target:  1011100 anslist:  [('101', '1100')]\n",
      "target:  1011100 anslist:  [('101', '1100')]\n",
      "target:  1011100 anslist:  [('101', '1100')]\n",
      "target:  1011100 anslist:  [('101', '1100')]\n",
      "target:  1011100 anslist:  [('101', '1100')]\n",
      "target:  1011001 anslist:  []\n",
      "target:  1011001 anslist:  [('101', '1001')]\n",
      "target:  1011001 anslist:  [('101', '1001')]\n",
      "target:  1011001 anslist:  [('101', '1001')]\n",
      "target:  1011001 anslist:  [('101', '1001')]\n",
      "target:  1011001 anslist:  [('101', '1001')]\n"
     ]
    },
    {
     "name": "stdout",
     "output_type": "stream",
     "text": [
      "target:  1011001 anslist:  [('101', '1001')]\n",
      "target:  0110111 anslist:  []\n",
      "target:  0110111 anslist:  []\n",
      "target:  0110111 anslist:  [('011', '011', '1')]\n",
      "target:  0110111 anslist:  [('011', '011', '1')]\n",
      "target:  0110111 anslist:  [('011', '011', '1')]\n",
      "target:  0110111 anslist:  [('011', '011', '1')]\n",
      "target:  0110111 anslist:  [('011', '011', '1')]\n",
      "target:  0111011 anslist:  []\n",
      "target:  0111011 anslist:  []\n",
      "target:  0111011 anslist:  [('011', '101', '1'), ('011', '1', '011')]\n",
      "target:  0111011 anslist:  [('011', '101', '1'), ('011', '1', '011')]\n",
      "target:  0111011 anslist:  [('011', '101', '1'), ('011', '1', '011')]\n",
      "target:  0111011 anslist:  [('011', '101', '1'), ('011', '1', '011')]\n",
      "target:  0111011 anslist:  [('011', '101', '1'), ('011', '1', '011')]\n",
      "target:  0111011 anslist:  []\n",
      "target:  0111011 anslist:  []\n",
      "target:  0111011 anslist:  [('011', '101', '1'), ('011', '1', '011')]\n",
      "target:  0111011 anslist:  [('011', '101', '1'), ('011', '1', '011')]\n",
      "target:  0111011 anslist:  [('011', '101', '1'), ('011', '1', '011')]\n",
      "target:  0111011 anslist:  [('011', '101', '1'), ('011', '1', '011')]\n",
      "target:  0111011 anslist:  [('011', '101', '1'), ('011', '1', '011')]\n",
      "target:  0111101 anslist:  []\n",
      "target:  0111101 anslist:  []\n",
      "target:  0111101 anslist:  [('011', '1', '101')]\n",
      "target:  0111101 anslist:  [('011', '1', '101')]\n",
      "target:  0111101 anslist:  [('011', '1', '101')]\n",
      "target:  0111101 anslist:  [('011', '1', '101')]\n",
      "target:  0111101 anslist:  [('011', '1', '101')]\n",
      "target:  1010111 anslist:  []\n",
      "target:  1010111 anslist:  []\n",
      "target:  1010111 anslist:  [('10101', '1', '1'), ('101', '011', '1')]\n",
      "target:  1010111 anslist:  [('10101', '1', '1'), ('101', '011', '1')]\n",
      "target:  1010111 anslist:  [('10101', '1', '1'), ('101', '011', '1')]\n",
      "target:  1010111 anslist:  [('10101', '1', '1'), ('101', '011', '1')]\n",
      "target:  1010111 anslist:  [('10101', '1', '1'), ('101', '011', '1')]\n",
      "target:  1010111 anslist:  []\n",
      "target:  1010111 anslist:  []\n",
      "target:  1010111 anslist:  [('10101', '1', '1'), ('101', '011', '1')]\n",
      "target:  1010111 anslist:  [('10101', '1', '1'), ('101', '011', '1')]\n",
      "target:  1010111 anslist:  [('10101', '1', '1'), ('101', '011', '1')]\n",
      "target:  1010111 anslist:  [('10101', '1', '1'), ('101', '011', '1')]\n",
      "target:  1010111 anslist:  [('10101', '1', '1'), ('101', '011', '1')]\n",
      "target:  1011011 anslist:  []\n",
      "target:  1011011 anslist:  []\n",
      "target:  1011011 anslist:  [('101', '101', '1'), ('101', '1', '011'), ('1', '011', '011')]\n",
      "target:  1011011 anslist:  []\n",
      "target:  1011011 anslist:  []\n",
      "target:  1011011 anslist:  [('101', '101', '1'), ('101', '1', '011'), ('1', '011', '011')]\n",
      "target:  1011101 anslist:  []\n",
      "target:  1011101 anslist:  []\n",
      "target:  1011101 anslist:  [('101', '1', '101'), ('1', '011', '101')]\n",
      "target:  1011101 anslist:  [('101', '1', '101'), ('1', '011', '101')]\n",
      "target:  1011101 anslist:  [('101', '1', '101'), ('1', '011', '101')]\n",
      "target:  1011101 anslist:  [('101', '1', '101'), ('1', '011', '101')]\n",
      "target:  1011101 anslist:  [('101', '1', '101'), ('1', '011', '101')]\n",
      "target:  1011011 anslist:  []\n",
      "target:  1011011 anslist:  []\n",
      "target:  1011011 anslist:  [('101', '101', '1'), ('101', '1', '011'), ('1', '011', '011')]\n",
      "target:  1011101 anslist:  []\n",
      "target:  1011101 anslist:  []\n",
      "target:  1011101 anslist:  [('101', '1', '101'), ('1', '011', '101')]\n",
      "target:  1011101 anslist:  [('101', '1', '101'), ('1', '011', '101')]\n",
      "target:  1011101 anslist:  [('101', '1', '101'), ('1', '011', '101')]\n",
      "target:  1011101 anslist:  [('101', '1', '101'), ('1', '011', '101')]\n",
      "target:  1011101 anslist:  [('101', '1', '101'), ('1', '011', '101')]\n",
      "target:  1101011 anslist:  []\n",
      "target:  1101011 anslist:  []\n",
      "target:  1101011 anslist:  [('1', '10101', '1'), ('1', '101', '011')]\n",
      "target:  1101011 anslist:  [('1', '10101', '1'), ('1', '101', '011')]\n",
      "target:  1101011 anslist:  [('1', '10101', '1'), ('1', '101', '011')]\n",
      "target:  1101011 anslist:  [('1', '10101', '1'), ('1', '101', '011')]\n",
      "target:  1101011 anslist:  [('1', '10101', '1'), ('1', '101', '011')]\n",
      "target:  1101011 anslist:  []\n",
      "target:  1101011 anslist:  []\n",
      "target:  1101011 anslist:  [('1', '10101', '1'), ('1', '101', '011')]\n",
      "target:  1101011 anslist:  [('1', '10101', '1'), ('1', '101', '011')]\n",
      "target:  1101011 anslist:  [('1', '10101', '1'), ('1', '101', '011')]\n",
      "target:  1101011 anslist:  [('1', '10101', '1'), ('1', '101', '011')]\n",
      "target:  1101011 anslist:  [('1', '10101', '1'), ('1', '101', '011')]\n",
      "target:  1101101 anslist:  []\n",
      "target:  1101101 anslist:  []\n",
      "target:  1101101 anslist:  [('1', '101', '101')]\n",
      "target:  1101101 anslist:  [('1', '101', '101')]\n",
      "target:  1101101 anslist:  [('1', '101', '101')]\n",
      "target:  1101101 anslist:  [('1', '101', '101')]\n",
      "target:  1101101 anslist:  [('1', '101', '101')]\n",
      "target:  1110101 anslist:  []\n",
      "target:  1110101 anslist:  []\n",
      "target:  1110101 anslist:  [('1', '1', '10101')]\n",
      "target:  1110101 anslist:  [('1', '1', '10101')]\n",
      "target:  1110101 anslist:  [('1', '1', '10101')]\n",
      "target:  1110101 anslist:  [('1', '1', '10101')]\n",
      "target:  1110101 anslist:  [('1', '1', '10101')]\n",
      "target:  1100111 anslist:  []\n",
      "target:  1100111 anslist:  []\n",
      "target:  1100111 anslist:  []\n",
      "target:  1100111 anslist:  [('1100', '1', '1', '1'), ('1', '1001', '1', '1')]\n",
      "target:  1100111 anslist:  [('1100', '1', '1', '1'), ('1', '1001', '1', '1')]\n",
      "target:  1100111 anslist:  [('1100', '1', '1', '1'), ('1', '1001', '1', '1')]\n",
      "target:  1100111 anslist:  [('1100', '1', '1', '1'), ('1', '1001', '1', '1')]\n",
      "target:  1001111 anslist:  []\n",
      "target:  1001111 anslist:  []\n",
      "target:  1001111 anslist:  []\n",
      "target:  1001111 anslist:  [('1001', '1', '1', '1')]\n",
      "target:  1001111 anslist:  [('1001', '1', '1', '1')]\n",
      "target:  1001111 anslist:  [('1001', '1', '1', '1')]\n",
      "target:  1001111 anslist:  [('1001', '1', '1', '1')]\n",
      "target:  1110011 anslist:  []\n",
      "target:  1110011 anslist:  []\n",
      "target:  1110011 anslist:  []\n",
      "target:  1110011 anslist:  [('1', '1100', '1', '1'), ('1', '1', '1001', '1')]\n",
      "target:  1110011 anslist:  [('1', '1100', '1', '1'), ('1', '1', '1001', '1')]\n",
      "target:  1110011 anslist:  [('1', '1100', '1', '1'), ('1', '1', '1001', '1')]\n",
      "target:  1110011 anslist:  [('1', '1100', '1', '1'), ('1', '1', '1001', '1')]\n",
      "target:  1100111 anslist:  []\n",
      "target:  1100111 anslist:  []\n",
      "target:  1100111 anslist:  []\n",
      "target:  1100111 anslist:  [('1100', '1', '1', '1'), ('1', '1001', '1', '1')]\n",
      "target:  1100111 anslist:  [('1100', '1', '1', '1'), ('1', '1001', '1', '1')]\n",
      "target:  1100111 anslist:  [('1100', '1', '1', '1'), ('1', '1001', '1', '1')]\n",
      "target:  1100111 anslist:  [('1100', '1', '1', '1'), ('1', '1001', '1', '1')]\n",
      "target:  1111001 anslist:  []\n",
      "target:  1111001 anslist:  []\n",
      "target:  1111001 anslist:  []\n",
      "target:  1111001 anslist:  [('1', '1', '1100', '1'), ('1', '1', '1', '1001')]\n",
      "target:  1111001 anslist:  [('1', '1', '1100', '1'), ('1', '1', '1', '1001')]\n",
      "target:  1111001 anslist:  [('1', '1', '1100', '1'), ('1', '1', '1', '1001')]\n",
      "target:  1111001 anslist:  [('1', '1', '1100', '1'), ('1', '1', '1', '1001')]\n",
      "target:  1110011 anslist:  []\n",
      "target:  1110011 anslist:  []\n",
      "target:  1110011 anslist:  []\n",
      "target:  1110011 anslist:  [('1', '1100', '1', '1'), ('1', '1', '1001', '1')]\n",
      "target:  1110011 anslist:  [('1', '1100', '1', '1'), ('1', '1', '1001', '1')]\n",
      "target:  1110011 anslist:  [('1', '1100', '1', '1'), ('1', '1', '1001', '1')]\n",
      "target:  1110011 anslist:  [('1', '1100', '1', '1'), ('1', '1', '1001', '1')]\n",
      "target:  1111100 anslist:  []\n",
      "target:  1111100 anslist:  []\n",
      "target:  1111100 anslist:  []\n",
      "target:  1111100 anslist:  [('1', '1', '1', '1100')]\n",
      "target:  1111100 anslist:  [('1', '1', '1', '1100')]\n",
      "target:  1111100 anslist:  [('1', '1', '1', '1100')]\n",
      "target:  1111100 anslist:  [('1', '1', '1', '1100')]\n",
      "target:  1111001 anslist:  []\n",
      "target:  1111001 anslist:  []\n",
      "target:  1111001 anslist:  []\n",
      "target:  1111001 anslist:  [('1', '1', '1100', '1'), ('1', '1', '1', '1001')]\n",
      "target:  1111001 anslist:  [('1', '1', '1100', '1'), ('1', '1', '1', '1001')]\n",
      "target:  1111001 anslist:  [('1', '1', '1100', '1'), ('1', '1', '1', '1001')]\n",
      "target:  1111001 anslist:  [('1', '1', '1100', '1'), ('1', '1', '1', '1001')]\n",
      "target:  0111111 anslist:  []\n",
      "target:  0111111 anslist:  []\n",
      "target:  0111111 anslist:  []\n",
      "target:  0111111 anslist:  []\n",
      "target:  0111111 anslist:  [('011', '1', '1', '1', '1')]\n",
      "target:  0111111 anslist:  [('011', '1', '1', '1', '1')]\n",
      "target:  0111111 anslist:  [('011', '1', '1', '1', '1')]\n",
      "target:  1011111 anslist:  []\n",
      "target:  1011111 anslist:  []\n",
      "target:  1011111 anslist:  []\n",
      "target:  1011111 anslist:  []\n",
      "target:  1011111 anslist:  [('101', '1', '1', '1', '1'), ('1', '011', '1', '1', '1')]\n",
      "target:  1011111 anslist:  [('101', '1', '1', '1', '1'), ('1', '011', '1', '1', '1')]\n"
     ]
    },
    {
     "name": "stdout",
     "output_type": "stream",
     "text": [
      "target:  1011111 anslist:  [('101', '1', '1', '1', '1'), ('1', '011', '1', '1', '1')]\n",
      "target:  1011111 anslist:  []\n",
      "target:  1011111 anslist:  []\n",
      "target:  1011111 anslist:  []\n",
      "target:  1011111 anslist:  []\n",
      "target:  1011111 anslist:  [('101', '1', '1', '1', '1'), ('1', '011', '1', '1', '1')]\n",
      "target:  1011111 anslist:  [('101', '1', '1', '1', '1'), ('1', '011', '1', '1', '1')]\n",
      "target:  1011111 anslist:  [('101', '1', '1', '1', '1'), ('1', '011', '1', '1', '1')]\n",
      "target:  1101111 anslist:  []\n",
      "target:  1101111 anslist:  []\n",
      "target:  1101111 anslist:  []\n",
      "target:  1101111 anslist:  []\n",
      "target:  1101111 anslist:  [('1', '101', '1', '1', '1'), ('1', '1', '011', '1', '1')]\n",
      "target:  1101111 anslist:  [('1', '101', '1', '1', '1'), ('1', '1', '011', '1', '1')]\n",
      "target:  1101111 anslist:  [('1', '101', '1', '1', '1'), ('1', '1', '011', '1', '1')]\n",
      "target:  1101111 anslist:  []\n",
      "target:  1101111 anslist:  []\n",
      "target:  1101111 anslist:  []\n",
      "target:  1101111 anslist:  []\n",
      "target:  1101111 anslist:  [('1', '101', '1', '1', '1'), ('1', '1', '011', '1', '1')]\n",
      "target:  1101111 anslist:  [('1', '101', '1', '1', '1'), ('1', '1', '011', '1', '1')]\n",
      "target:  1101111 anslist:  [('1', '101', '1', '1', '1'), ('1', '1', '011', '1', '1')]\n",
      "target:  1110111 anslist:  []\n",
      "target:  1110111 anslist:  []\n",
      "target:  1110111 anslist:  []\n",
      "target:  1110111 anslist:  []\n",
      "target:  1110111 anslist:  [('1', '1', '101', '1', '1'), ('1', '1', '1', '011', '1')]\n",
      "target:  1110111 anslist:  [('1', '1', '101', '1', '1'), ('1', '1', '1', '011', '1')]\n",
      "target:  1110111 anslist:  [('1', '1', '101', '1', '1'), ('1', '1', '1', '011', '1')]\n",
      "target:  1110111 anslist:  []\n",
      "target:  1110111 anslist:  []\n",
      "target:  1110111 anslist:  []\n",
      "target:  1110111 anslist:  []\n",
      "target:  1110111 anslist:  [('1', '1', '101', '1', '1'), ('1', '1', '1', '011', '1')]\n",
      "target:  1110111 anslist:  [('1', '1', '101', '1', '1'), ('1', '1', '1', '011', '1')]\n",
      "target:  1110111 anslist:  [('1', '1', '101', '1', '1'), ('1', '1', '1', '011', '1')]\n",
      "target:  1111011 anslist:  []\n",
      "target:  1111011 anslist:  []\n",
      "target:  1111011 anslist:  []\n",
      "target:  1111011 anslist:  []\n",
      "target:  1111011 anslist:  [('1', '1', '1', '101', '1'), ('1', '1', '1', '1', '011')]\n",
      "target:  1111011 anslist:  [('1', '1', '1', '101', '1'), ('1', '1', '1', '1', '011')]\n",
      "target:  1111011 anslist:  [('1', '1', '1', '101', '1'), ('1', '1', '1', '1', '011')]\n",
      "target:  1111011 anslist:  []\n",
      "target:  1111011 anslist:  []\n",
      "target:  1111011 anslist:  []\n",
      "target:  1111011 anslist:  []\n",
      "target:  1111011 anslist:  [('1', '1', '1', '101', '1'), ('1', '1', '1', '1', '011')]\n",
      "target:  1111011 anslist:  [('1', '1', '1', '101', '1'), ('1', '1', '1', '1', '011')]\n",
      "target:  1111011 anslist:  [('1', '1', '1', '101', '1'), ('1', '1', '1', '1', '011')]\n",
      "target:  1111101 anslist:  []\n",
      "target:  1111101 anslist:  []\n",
      "target:  1111101 anslist:  []\n",
      "target:  1111101 anslist:  []\n",
      "target:  1111101 anslist:  [('1', '1', '1', '1', '101')]\n",
      "target:  1111101 anslist:  [('1', '1', '1', '1', '101')]\n",
      "target:  1111101 anslist:  [('1', '1', '1', '1', '101')]\n",
      "target:  1111111 anslist:  []\n",
      "target:  1111111 anslist:  []\n",
      "target:  1111111 anslist:  []\n",
      "target:  1111111 anslist:  []\n",
      "target:  1111111 anslist:  []\n",
      "target:  1111111 anslist:  []\n",
      "target:  1111111 anslist:  [('1', '1', '1', '1', '1', '1', '1')]\n",
      "7\n"
     ]
    }
   ],
   "source": [
    "from itertools import product\n",
    "# T = int(input())\n",
    "# lista = []\n",
    "# for _ in range(T):\n",
    "#     lista.append(input())\n",
    "lista = ['1','011', '1100', '1001', '10101', '101']\n",
    "# lista = ['1','01', '10101','1010']\n",
    "aa = len(min(lista,key=len))\n",
    "cc = lista.pop(lista.index(min(lista, key=len)))\n",
    "bb = len(min(lista2,key=len))\n",
    "lista.append(cc)\n",
    "# target_len = aa + bb\n",
    "target_len = 7\n",
    "ans = []\n",
    "if '-1' in lista:\n",
    "    print(\"0\")\n",
    "else:\n",
    "    while True:\n",
    "        lista_len = []\n",
    "        targetlist = []\n",
    "#         print('target_len: ',target_len)\n",
    "        for i in lista:\n",
    "            # 입력값 중에서 단일 길이가 타겟 길이와 같은것 리스트에 넣기\n",
    "            if len(i) == target_len:\n",
    "                targetlist.append(i)\n",
    "            # 입력값 중에서 조합의 길이가 타겟 길이와 같은 조합을 리스트에 넣기\n",
    "            elif len(i) < target_len:\n",
    "                lista_len.append(i)\n",
    "                for ree in range(2, round(target_len/min([len(arg) for arg in lista_len]))+1):\n",
    "                    for j in list(filter(lambda x: len(\"\".join(x))==target_len,  product(lista_len, repeat=ree))):\n",
    "                        targetlist.append(\"\".join(j))\n",
    "#         print(\"targetlist: \", targetlist)\n",
    "        for target in targetlist:\n",
    "            anslist = []\n",
    "            for r in range(1, round(len(target)/min([len(arg) for arg in lista]))+1):\n",
    "#                 print('r: ', r)\n",
    "                for k in [p for p in product(lista, repeat=r)]:\n",
    "#                     print('k: ', k)\n",
    "                    if \"\".join(k) == target:\n",
    "                        anslist.append(k)\n",
    "                print(\"target: \", target, \"anslist: \",anslist)\n",
    "                if (len(anslist)) >= 3:\n",
    "                    ans = target_len\n",
    "                    break\n",
    "        if ans:\n",
    "            print(ans)\n",
    "            break\n",
    "        elif target_len == 20:\n",
    "            print('-1')\n",
    "            break\n",
    "        target_len +=1\n"
   ]
  },
  {
   "cell_type": "code",
   "execution_count": 50,
   "metadata": {},
   "outputs": [
    {
     "data": {
      "text/plain": [
       "2"
      ]
     },
     "execution_count": 50,
     "metadata": {},
     "output_type": "execute_result"
    }
   ],
   "source": [
    "lista = ['1','1010','01','10101']\n",
    "lista.pop(lista.index(min(lista, key=len)))\n",
    "len(min(lista,key=len))"
   ]
  },
  {
   "cell_type": "markdown",
   "metadata": {},
   "source": [
    "# 프로그래머스 스킬트리"
   ]
  },
  {
   "cell_type": "markdown",
   "metadata": {},
   "source": [
    "<제한 조건>\n",
    "    - 스킬은 알파벳 대문자로 표기하며, 모든 문자열은 알파벳 대문자로만 이루어져 있습니다.\n",
    "    - 스킬 순서와 스킬트리는 문자열로 표기합니다.\n",
    "    - 예를 들어, C → B → D 라면 CBD로 표기합니다\n",
    "    - 선행 스킬 순서 skill의 길이는 2 이상 26 이하이며, 스킬은 중복해 주어지지 않습니다.\n",
    "    - skill_trees는 길이 1 이상 20 이하인 배열입니다.\n",
    "    - skill_trees의 원소는 스킬을 나타내는 문자열입니다.\n",
    "    - skill_trees의 원소는 길이가 2 이상 26 이하인 문자열이며, 스킬이 중복해 주어지지 않습니다."
   ]
  },
  {
   "cell_type": "code",
   "execution_count": null,
   "metadata": {},
   "outputs": [],
   "source": [
    "#제출용\n",
    "import re\n",
    "def solution(skill, skill_trees):\n",
    "    tree = skill_trees.copy()\n",
    "    for i in list(skill):\n",
    "        tree = (list(filter(lambda x : not i in x, tree)))\n",
    "    cnt= len(tree)\n",
    "    for j in tree:\n",
    "        skill_trees.remove(j)\n",
    "    for k in skill_trees:\n",
    "        sen = re.sub(r\"[^{}]\".format(skill), \"\", k)\n",
    "        for l, m in enumerate(list(skill)):\n",
    "            sen = sen.replace(m,str(l))\n",
    "        aaa = list(filter(lambda x: x != str(list(sen).index(x)), list(sen)))\n",
    "        if not aaa:\n",
    "            cnt+=1\n",
    "    answer = cnt\n",
    "    return answer"
   ]
  },
  {
   "cell_type": "code",
   "execution_count": 239,
   "metadata": {},
   "outputs": [
    {
     "data": {
      "text/plain": [
       "4"
      ]
     },
     "execution_count": 239,
     "metadata": {},
     "output_type": "execute_result"
    }
   ],
   "source": [
    "import re\n",
    "skill = \"CBD\"\n",
    "tree = [\"BACDE\", \"CBADF\", \"AECB\", \"BDA\", \"AEF\", \"AGWCBD\"]\n",
    "\n",
    "def solution(skill, tree):\n",
    "    tree_1 = tree.copy()\n",
    "    for i in list(skill):\n",
    "        tree_1 = (list(filter(lambda x : not i in x, tree_1)))\n",
    "    cnt= len(tree_1)\n",
    "    for j in tree_1:\n",
    "        tree.remove(j)\n",
    "\n",
    "    for k in tree:\n",
    "        sen = re.sub(r\"[^{}]\".format(skill), \"\", k)\n",
    "        for l, m in enumerate(list(skill)):\n",
    "            sen = sen.replace(m,str(l))\n",
    "        aaa = list(filter(lambda x: x != str(list(sen).index(x)), list(sen)))\n",
    "        if not aaa:\n",
    "            cnt+=1\n",
    "    \n",
    "    answer = cnt\n",
    "    return answer\n",
    "solution(skill, tree)"
   ]
  },
  {
   "cell_type": "code",
   "execution_count": 253,
   "metadata": {},
   "outputs": [
    {
     "data": {
      "text/plain": [
       "4"
      ]
     },
     "execution_count": 253,
     "metadata": {},
     "output_type": "execute_result"
    }
   ],
   "source": [
    "skill = \"CBD\"\n",
    "skill_trees = [\"BACDE\", \"CBADF\", \"AECB\", \"BDA\", \"AEF\", \"AGWCBD\"]\n",
    "def solution(skill, skill_trees):\n",
    "    answer = 0\n",
    "\n",
    "    for tree in skill_trees:\n",
    "        skill_list = list(skill)\n",
    "\n",
    "        for s in tree:\n",
    "            if s in skill:\n",
    "                if s != skill_list.pop(0):\n",
    "                    break\n",
    "        else: #for - else 문 좋다 \n",
    "            answer += 1\n",
    "\n",
    "    return answer\n",
    "solution(skill, skill_trees)"
   ]
  },
  {
   "cell_type": "markdown",
   "metadata": {},
   "source": [
    "# 프로그래머즈 - 방문길이"
   ]
  },
  {
   "cell_type": "code",
   "execution_count": 254,
   "metadata": {},
   "outputs": [],
   "source": [
    "dirs = \"LULLLLLLU\"\n",
    "\n",
    "def solution(dirs):\n",
    "    answer = 7\n",
    "    return answer\n"
   ]
  },
  {
   "cell_type": "code",
   "execution_count": 267,
   "metadata": {},
   "outputs": [
    {
     "data": {
      "text/plain": [
       "[(1, 2, 'N')]"
      ]
     },
     "execution_count": 267,
     "metadata": {},
     "output_type": "execute_result"
    }
   ],
   "source": [
    "ans = []\n",
    "ans.append((1,2,\"N\"))\n",
    "ans"
   ]
  },
  {
   "cell_type": "code",
   "execution_count": 269,
   "metadata": {},
   "outputs": [
    {
     "data": {
      "text/plain": [
       "1"
      ]
     },
     "execution_count": 269,
     "metadata": {},
     "output_type": "execute_result"
    }
   ],
   "source": [
    "ans[0][0]"
   ]
  },
  {
   "cell_type": "code",
   "execution_count": 315,
   "metadata": {},
   "outputs": [
    {
     "data": {
      "text/plain": [
       "7"
      ]
     },
     "execution_count": 315,
     "metadata": {},
     "output_type": "execute_result"
    }
   ],
   "source": [
    "#제출용\n",
    "def solution(dirs):\n",
    "    proc = [(0,0)]\n",
    "    ans = []\n",
    "    cnt =0\n",
    "    for move in dirs:\n",
    "        if move == \"L\":\n",
    "            if not proc[cnt][0] - 1 < (-5):\n",
    "                proc.append((proc[cnt][0] - 1, proc[cnt][1]))\n",
    "                ans.append({(proc[cnt][0] - 1, proc[cnt][1]), proc[cnt]})\n",
    "                cnt +=1\n",
    "        elif move == \"R\":\n",
    "            if not proc[cnt][0] + 1 > 5:\n",
    "                proc.append((proc[cnt][0] +1, proc[cnt][1]))\n",
    "                ans.append({(proc[cnt][0] + 1, proc[cnt][1]), proc[cnt]})\n",
    "                cnt +=1\n",
    "        elif move == \"D\":\n",
    "            if not proc[cnt][1] - 1 < (-5):\n",
    "                proc.append((proc[cnt][0], proc[cnt][1] - 1))\n",
    "                ans.append({(proc[cnt][0], proc[cnt][1] -1), proc[cnt]})\n",
    "                cnt +=1\n",
    "        elif move == \"U\":\n",
    "            if not proc[cnt][1] + 1 > 5:\n",
    "                proc.append((proc[cnt][0], proc[cnt][1] + 1))\n",
    "                ans.append({(proc[cnt][0], proc[cnt][1] +1), proc[cnt]})\n",
    "                cnt +=1\n",
    "    count = 0\n",
    "    for i, j in enumerate(ans):\n",
    "        for k in ans[i+1:]:\n",
    "            if j==k:\n",
    "                count+=1\n",
    "    return len(ans)-count\n",
    "solution(dirs)"
   ]
  },
  {
   "cell_type": "code",
   "execution_count": 335,
   "metadata": {},
   "outputs": [
    {
     "name": "stdout",
     "output_type": "stream",
     "text": [
      "ans:  {(-1, 0, 0, 0), (-1, 0, -1, 1), (-1, -1, -1, 0)}\n"
     ]
    },
    {
     "data": {
      "text/plain": [
       "3"
      ]
     },
     "execution_count": 335,
     "metadata": {},
     "output_type": "execute_result"
    }
   ],
   "source": [
    "dirs = \"LUDUDUDUDD\"\n",
    "\n",
    "def solution(dirs):\n",
    "    p_loc = (0,0)\n",
    "    c_loc = ()\n",
    "    ans = set()\n",
    "    \n",
    "    for move in dirs:\n",
    "        \n",
    "        if move == \"L\":\n",
    "            if not p_loc[0] - 1 < (-5):\n",
    "                c_loc = (p_loc[0] - 1, p_loc[1])\n",
    "                ans.add((c_loc[0], c_loc[1], p_loc[0], p_loc[1]))\n",
    "                p_loc = c_loc\n",
    "                \n",
    "        elif move == \"R\":\n",
    "            if not p_loc[0] + 1 > 5:\n",
    "                c_loc = (p_loc[0] + 1, p_loc[1])\n",
    "                ans.add((p_loc[0], p_loc[1], c_loc[0], c_loc[1]))\n",
    "                p_loc = c_loc\n",
    "                \n",
    "        elif move == \"D\":\n",
    "            if not p_loc[1] - 1 < (-5):\n",
    "                c_loc = (p_loc[0], p_loc[1] - 1)\n",
    "                ans.add((c_loc[0], c_loc[1], p_loc[0], p_loc[1]))\n",
    "                p_loc = c_loc\n",
    "\n",
    "        elif move == \"U\":\n",
    "            if not p_loc[1] + 1 > 5:\n",
    "                c_loc = (p_loc[0], p_loc[1] + 1)\n",
    "                ans.add((p_loc[0], p_loc[1], c_loc[0], c_loc[1]))\n",
    "                p_loc = c_loc\n",
    "                \n",
    "    print(\"ans: \", ans)\n",
    "    return len(ans)\n",
    "\n",
    "\n",
    "solution(dirs)"
   ]
  },
  {
   "cell_type": "code",
   "execution_count": null,
   "metadata": {},
   "outputs": [],
   "source": [
    "# 2차 제출\n",
    "def solution(dirs):\n",
    "    p_loc = (0,0)\n",
    "    c_loc = ()\n",
    "    ans = set()\n",
    "    for move in dirs:\n",
    "        if move == \"L\":\n",
    "            if not p_loc[0] - 1 < (-5):\n",
    "                c_loc = (p_loc[0] - 1, p_loc[1])\n",
    "                ans.add((c_loc[0], c_loc[1], p_loc[0], p_loc[1]))\n",
    "                p_loc = c_loc\n",
    "        elif move == \"R\":\n",
    "            if not p_loc[0] + 1 > 5:\n",
    "                c_loc = (p_loc[0] + 1, p_loc[1])\n",
    "                ans.add((p_loc[0], p_loc[1], c_loc[0], c_loc[1]))\n",
    "                p_loc = c_loc\n",
    "        elif move == \"D\":\n",
    "            if not p_loc[1] - 1 < (-5):\n",
    "                c_loc = (p_loc[0], p_loc[1] - 1)\n",
    "                ans.add((c_loc[0], c_loc[1], p_loc[0], p_loc[1]))\n",
    "                p_loc = c_loc\n",
    "        elif move == \"U\":\n",
    "            if not p_loc[1] + 1 > 5:\n",
    "                c_loc = (p_loc[0], p_loc[1] + 1)\n",
    "                ans.add((p_loc[0], p_loc[1], c_loc[0], c_loc[1]))\n",
    "                p_loc = c_loc\n",
    "    return len(ans)\n"
   ]
  },
  {
   "cell_type": "code",
   "execution_count": null,
   "metadata": {},
   "outputs": [],
   "source": []
  },
  {
   "cell_type": "code",
   "execution_count": null,
   "metadata": {},
   "outputs": [],
   "source": []
  },
  {
   "cell_type": "code",
   "execution_count": null,
   "metadata": {},
   "outputs": [],
   "source": []
  }
 ],
 "metadata": {
  "kernelspec": {
   "display_name": "Python 3",
   "language": "python",
   "name": "python3"
  },
  "language_info": {
   "codemirror_mode": {
    "name": "ipython",
    "version": 3
   },
   "file_extension": ".py",
   "mimetype": "text/x-python",
   "name": "python",
   "nbconvert_exporter": "python",
   "pygments_lexer": "ipython3",
   "version": "3.5.5"
  }
 },
 "nbformat": 4,
 "nbformat_minor": 2
}
